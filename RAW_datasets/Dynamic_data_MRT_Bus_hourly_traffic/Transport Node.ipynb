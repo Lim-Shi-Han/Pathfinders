{
 "cells": [
  {
   "cell_type": "markdown",
   "metadata": {},
   "source": [
    "# Importing Busstop"
   ]
  },
  {
   "cell_type": "code",
   "execution_count": 1,
   "metadata": {},
   "outputs": [],
   "source": [
    "# Basic Libraries\n",
    "import numpy as np\n",
    "import pandas as pd\n",
    "import seaborn as sb\n",
    "import matplotlib.pyplot as plt # we only need pyplot\n",
    "sb.set() # set the default Seaborn style for graphics"
   ]
  },
  {
   "cell_type": "code",
   "execution_count": 2,
   "metadata": {},
   "outputs": [
    {
     "data": {
      "text/html": [
       "<div>\n",
       "<style scoped>\n",
       "    .dataframe tbody tr th:only-of-type {\n",
       "        vertical-align: middle;\n",
       "    }\n",
       "\n",
       "    .dataframe tbody tr th {\n",
       "        vertical-align: top;\n",
       "    }\n",
       "\n",
       "    .dataframe thead th {\n",
       "        text-align: right;\n",
       "    }\n",
       "</style>\n",
       "<table border=\"1\" class=\"dataframe\">\n",
       "  <thead>\n",
       "    <tr style=\"text-align: right;\">\n",
       "      <th></th>\n",
       "      <th>YEAR_MONTH</th>\n",
       "      <th>DAY_TYPE</th>\n",
       "      <th>TIME_PER_HOUR</th>\n",
       "      <th>PT_TYPE</th>\n",
       "      <th>PT_CODE</th>\n",
       "      <th>TOTAL_TAP_IN_VOLUME</th>\n",
       "      <th>TOTAL_TAP_OUT_VOLUME</th>\n",
       "    </tr>\n",
       "  </thead>\n",
       "  <tbody>\n",
       "    <tr>\n",
       "      <th>0</th>\n",
       "      <td>2021-01</td>\n",
       "      <td>WEEKENDS/HOLIDAY</td>\n",
       "      <td>7</td>\n",
       "      <td>BUS</td>\n",
       "      <td>56061</td>\n",
       "      <td>8</td>\n",
       "      <td>58</td>\n",
       "    </tr>\n",
       "    <tr>\n",
       "      <th>1</th>\n",
       "      <td>2021-01</td>\n",
       "      <td>WEEKDAY</td>\n",
       "      <td>7</td>\n",
       "      <td>BUS</td>\n",
       "      <td>56061</td>\n",
       "      <td>17</td>\n",
       "      <td>53</td>\n",
       "    </tr>\n",
       "    <tr>\n",
       "      <th>2</th>\n",
       "      <td>2021-01</td>\n",
       "      <td>WEEKDAY</td>\n",
       "      <td>8</td>\n",
       "      <td>BUS</td>\n",
       "      <td>64179</td>\n",
       "      <td>1</td>\n",
       "      <td>56</td>\n",
       "    </tr>\n",
       "    <tr>\n",
       "      <th>3</th>\n",
       "      <td>2021-01</td>\n",
       "      <td>WEEKENDS/HOLIDAY</td>\n",
       "      <td>8</td>\n",
       "      <td>BUS</td>\n",
       "      <td>64179</td>\n",
       "      <td>4</td>\n",
       "      <td>16</td>\n",
       "    </tr>\n",
       "    <tr>\n",
       "      <th>4</th>\n",
       "      <td>2021-01</td>\n",
       "      <td>WEEKENDS/HOLIDAY</td>\n",
       "      <td>16</td>\n",
       "      <td>BUS</td>\n",
       "      <td>11551</td>\n",
       "      <td>25</td>\n",
       "      <td>202</td>\n",
       "    </tr>\n",
       "  </tbody>\n",
       "</table>\n",
       "</div>"
      ],
      "text/plain": [
       "  YEAR_MONTH          DAY_TYPE  TIME_PER_HOUR PT_TYPE  PT_CODE  \\\n",
       "0    2021-01  WEEKENDS/HOLIDAY              7     BUS    56061   \n",
       "1    2021-01           WEEKDAY              7     BUS    56061   \n",
       "2    2021-01           WEEKDAY              8     BUS    64179   \n",
       "3    2021-01  WEEKENDS/HOLIDAY              8     BUS    64179   \n",
       "4    2021-01  WEEKENDS/HOLIDAY             16     BUS    11551   \n",
       "\n",
       "   TOTAL_TAP_IN_VOLUME  TOTAL_TAP_OUT_VOLUME  \n",
       "0                    8                    58  \n",
       "1                   17                    53  \n",
       "2                    1                    56  \n",
       "3                    4                    16  \n",
       "4                   25                   202  "
      ]
     },
     "execution_count": 2,
     "metadata": {},
     "output_type": "execute_result"
    }
   ],
   "source": [
    "BusData202101 = pd.read_csv('2.5_transport_node_bus_202101.csv')\n",
    "BusData202101.head()"
   ]
  },
  {
   "cell_type": "code",
   "execution_count": 3,
   "metadata": {},
   "outputs": [
    {
     "data": {
      "text/html": [
       "<div>\n",
       "<style scoped>\n",
       "    .dataframe tbody tr th:only-of-type {\n",
       "        vertical-align: middle;\n",
       "    }\n",
       "\n",
       "    .dataframe tbody tr th {\n",
       "        vertical-align: top;\n",
       "    }\n",
       "\n",
       "    .dataframe thead th {\n",
       "        text-align: right;\n",
       "    }\n",
       "</style>\n",
       "<table border=\"1\" class=\"dataframe\">\n",
       "  <thead>\n",
       "    <tr style=\"text-align: right;\">\n",
       "      <th></th>\n",
       "      <th>YEAR_MONTH</th>\n",
       "      <th>DAY_TYPE_x</th>\n",
       "      <th>TIME_PER_HOUR</th>\n",
       "      <th>PT_TYPE</th>\n",
       "      <th>PT_CODE</th>\n",
       "      <th>TOTAL_TAP_IN_VOLUME_WEEKDAY</th>\n",
       "      <th>TOTAL_TAP_OUT_VOLUME_WEEKDAY</th>\n",
       "      <th>TOTAL_TAP_IN_TAP_OUT_VOLUME_WEEKDAY</th>\n",
       "      <th>DAY_TYPE_y</th>\n",
       "      <th>TOTAL_TAP_IN_VOLUME_WEEKEND</th>\n",
       "      <th>TOTAL_TAP_OUT_VOLUME_WEEKEND</th>\n",
       "      <th>TOTAL_TAP_IN_TAP_OUT_VOLUME_WEEKEND</th>\n",
       "    </tr>\n",
       "  </thead>\n",
       "  <tbody>\n",
       "    <tr>\n",
       "      <th>0</th>\n",
       "      <td>2021-01</td>\n",
       "      <td>WEEKDAY</td>\n",
       "      <td>7</td>\n",
       "      <td>BUS</td>\n",
       "      <td>56061</td>\n",
       "      <td>17</td>\n",
       "      <td>53</td>\n",
       "      <td>70</td>\n",
       "      <td>WEEKENDS/HOLIDAY</td>\n",
       "      <td>8</td>\n",
       "      <td>58</td>\n",
       "      <td>66</td>\n",
       "    </tr>\n",
       "    <tr>\n",
       "      <th>1</th>\n",
       "      <td>2021-01</td>\n",
       "      <td>WEEKDAY</td>\n",
       "      <td>8</td>\n",
       "      <td>BUS</td>\n",
       "      <td>64179</td>\n",
       "      <td>1</td>\n",
       "      <td>56</td>\n",
       "      <td>57</td>\n",
       "      <td>WEEKENDS/HOLIDAY</td>\n",
       "      <td>4</td>\n",
       "      <td>16</td>\n",
       "      <td>20</td>\n",
       "    </tr>\n",
       "    <tr>\n",
       "      <th>2</th>\n",
       "      <td>2021-01</td>\n",
       "      <td>WEEKDAY</td>\n",
       "      <td>16</td>\n",
       "      <td>BUS</td>\n",
       "      <td>11551</td>\n",
       "      <td>28</td>\n",
       "      <td>400</td>\n",
       "      <td>428</td>\n",
       "      <td>WEEKENDS/HOLIDAY</td>\n",
       "      <td>25</td>\n",
       "      <td>202</td>\n",
       "      <td>227</td>\n",
       "    </tr>\n",
       "    <tr>\n",
       "      <th>3</th>\n",
       "      <td>2021-01</td>\n",
       "      <td>WEEKDAY</td>\n",
       "      <td>17</td>\n",
       "      <td>BUS</td>\n",
       "      <td>85061</td>\n",
       "      <td>737</td>\n",
       "      <td>1341</td>\n",
       "      <td>2078</td>\n",
       "      <td>WEEKENDS/HOLIDAY</td>\n",
       "      <td>337</td>\n",
       "      <td>838</td>\n",
       "      <td>1175</td>\n",
       "    </tr>\n",
       "    <tr>\n",
       "      <th>4</th>\n",
       "      <td>2021-01</td>\n",
       "      <td>WEEKDAY</td>\n",
       "      <td>12</td>\n",
       "      <td>BUS</td>\n",
       "      <td>10219</td>\n",
       "      <td>41</td>\n",
       "      <td>25</td>\n",
       "      <td>66</td>\n",
       "      <td>WEEKENDS/HOLIDAY</td>\n",
       "      <td>8</td>\n",
       "      <td>10</td>\n",
       "      <td>18</td>\n",
       "    </tr>\n",
       "  </tbody>\n",
       "</table>\n",
       "</div>"
      ],
      "text/plain": [
       "  YEAR_MONTH DAY_TYPE_x  TIME_PER_HOUR PT_TYPE  PT_CODE  \\\n",
       "0    2021-01    WEEKDAY              7     BUS    56061   \n",
       "1    2021-01    WEEKDAY              8     BUS    64179   \n",
       "2    2021-01    WEEKDAY             16     BUS    11551   \n",
       "3    2021-01    WEEKDAY             17     BUS    85061   \n",
       "4    2021-01    WEEKDAY             12     BUS    10219   \n",
       "\n",
       "   TOTAL_TAP_IN_VOLUME_WEEKDAY  TOTAL_TAP_OUT_VOLUME_WEEKDAY  \\\n",
       "0                           17                            53   \n",
       "1                            1                            56   \n",
       "2                           28                           400   \n",
       "3                          737                          1341   \n",
       "4                           41                            25   \n",
       "\n",
       "   TOTAL_TAP_IN_TAP_OUT_VOLUME_WEEKDAY        DAY_TYPE_y  \\\n",
       "0                                   70  WEEKENDS/HOLIDAY   \n",
       "1                                   57  WEEKENDS/HOLIDAY   \n",
       "2                                  428  WEEKENDS/HOLIDAY   \n",
       "3                                 2078  WEEKENDS/HOLIDAY   \n",
       "4                                   66  WEEKENDS/HOLIDAY   \n",
       "\n",
       "   TOTAL_TAP_IN_VOLUME_WEEKEND  TOTAL_TAP_OUT_VOLUME_WEEKEND  \\\n",
       "0                            8                            58   \n",
       "1                            4                            16   \n",
       "2                           25                           202   \n",
       "3                          337                           838   \n",
       "4                            8                            10   \n",
       "\n",
       "   TOTAL_TAP_IN_TAP_OUT_VOLUME_WEEKEND  \n",
       "0                                   66  \n",
       "1                                   20  \n",
       "2                                  227  \n",
       "3                                 1175  \n",
       "4                                   18  "
      ]
     },
     "execution_count": 3,
     "metadata": {},
     "output_type": "execute_result"
    }
   ],
   "source": [
    "BusData202101['TOTAL_TAP_IN_TAP_OUT_VOLUME'] = BusData202101['TOTAL_TAP_IN_VOLUME'] + BusData202101['TOTAL_TAP_OUT_VOLUME']\n",
    "BusData202101Weekday = pd.DataFrame(BusData202101[BusData202101['DAY_TYPE'] == 'WEEKDAY'])\n",
    "BusData202101WeekendPH = pd.DataFrame(BusData202101[BusData202101['DAY_TYPE'] == 'WEEKENDS/HOLIDAY'])\n",
    "BusData202101Weekday = BusData202101Weekday.rename(columns = {'TOTAL_TAP_IN_VOLUME': 'TOTAL_TAP_IN_VOLUME_WEEKDAY', 'TOTAL_TAP_OUT_VOLUME': 'TOTAL_TAP_OUT_VOLUME_WEEKDAY', 'TOTAL_TAP_IN_TAP_OUT_VOLUME': 'TOTAL_TAP_IN_TAP_OUT_VOLUME_WEEKDAY'}, inplace = False)\n",
    "BusData202101WeekendPH = BusData202101WeekendPH.rename(columns = {'TOTAL_TAP_IN_VOLUME': 'TOTAL_TAP_IN_VOLUME_WEEKEND', 'TOTAL_TAP_OUT_VOLUME': 'TOTAL_TAP_OUT_VOLUME_WEEKEND', 'TOTAL_TAP_IN_TAP_OUT_VOLUME': 'TOTAL_TAP_IN_TAP_OUT_VOLUME_WEEKEND'}, inplace = False)\n",
    "BusData202101WeekendPH = BusData202101WeekendPH[['DAY_TYPE', 'TIME_PER_HOUR', 'PT_CODE', 'TOTAL_TAP_IN_VOLUME_WEEKEND', 'TOTAL_TAP_OUT_VOLUME_WEEKEND', 'TOTAL_TAP_IN_TAP_OUT_VOLUME_WEEKEND']]\n",
    "BusData202101Merge = pd.merge(BusData202101Weekday, BusData202101WeekendPH, on=['PT_CODE', 'TIME_PER_HOUR'])\n",
    "BusData202101Merge.head()"
   ]
  },
  {
   "cell_type": "code",
   "execution_count": 4,
   "metadata": {},
   "outputs": [
    {
     "data": {
      "text/html": [
       "<div>\n",
       "<style scoped>\n",
       "    .dataframe tbody tr th:only-of-type {\n",
       "        vertical-align: middle;\n",
       "    }\n",
       "\n",
       "    .dataframe tbody tr th {\n",
       "        vertical-align: top;\n",
       "    }\n",
       "\n",
       "    .dataframe thead th {\n",
       "        text-align: right;\n",
       "    }\n",
       "</style>\n",
       "<table border=\"1\" class=\"dataframe\">\n",
       "  <thead>\n",
       "    <tr style=\"text-align: right;\">\n",
       "      <th></th>\n",
       "      <th>TIME_PER_HOUR</th>\n",
       "      <th>PT_CODE</th>\n",
       "      <th>TOTAL_TAP_IN_TAP_OUT_VOLUME</th>\n",
       "    </tr>\n",
       "  </thead>\n",
       "  <tbody>\n",
       "    <tr>\n",
       "      <th>49568</th>\n",
       "      <td>0</td>\n",
       "      <td>1012</td>\n",
       "      <td>358</td>\n",
       "    </tr>\n",
       "    <tr>\n",
       "      <th>23030</th>\n",
       "      <td>5</td>\n",
       "      <td>1012</td>\n",
       "      <td>189</td>\n",
       "    </tr>\n",
       "    <tr>\n",
       "      <th>74523</th>\n",
       "      <td>6</td>\n",
       "      <td>1012</td>\n",
       "      <td>875</td>\n",
       "    </tr>\n",
       "    <tr>\n",
       "      <th>61824</th>\n",
       "      <td>7</td>\n",
       "      <td>1012</td>\n",
       "      <td>1516</td>\n",
       "    </tr>\n",
       "    <tr>\n",
       "      <th>44039</th>\n",
       "      <td>8</td>\n",
       "      <td>1012</td>\n",
       "      <td>2043</td>\n",
       "    </tr>\n",
       "  </tbody>\n",
       "</table>\n",
       "</div>"
      ],
      "text/plain": [
       "       TIME_PER_HOUR  PT_CODE  TOTAL_TAP_IN_TAP_OUT_VOLUME\n",
       "49568              0     1012                          358\n",
       "23030              5     1012                          189\n",
       "74523              6     1012                          875\n",
       "61824              7     1012                         1516\n",
       "44039              8     1012                         2043"
      ]
     },
     "execution_count": 4,
     "metadata": {},
     "output_type": "execute_result"
    }
   ],
   "source": [
    "BusData202101Merge['TOTAL_TAP_IN_VOLUME'] = BusData202101Merge['TOTAL_TAP_IN_VOLUME_WEEKDAY'] + BusData202101Merge['TOTAL_TAP_IN_VOLUME_WEEKEND']\n",
    "BusData202101Merge['TOTAL_TAP_OUT_VOLUME'] = BusData202101Merge['TOTAL_TAP_OUT_VOLUME_WEEKDAY'] + BusData202101Merge['TOTAL_TAP_OUT_VOLUME_WEEKEND']\n",
    "BusData202101Merge['TOTAL_TAP_IN_TAP_OUT_VOLUME'] = BusData202101Merge['TOTAL_TAP_IN_TAP_OUT_VOLUME_WEEKDAY'] + BusData202101Merge['TOTAL_TAP_IN_TAP_OUT_VOLUME_WEEKEND']\n",
    "BusData202101Merge = BusData202101Merge[['YEAR_MONTH', 'TIME_PER_HOUR', 'PT_CODE', 'TOTAL_TAP_IN_VOLUME', 'TOTAL_TAP_OUT_VOLUME', 'TOTAL_TAP_IN_TAP_OUT_VOLUME']]\n",
    "BusData202101Sorted = BusData202101Merge.sort_values(by=['PT_CODE', 'TIME_PER_HOUR'])\n",
    "BusData202101Sorted = BusData202101Sorted[['TIME_PER_HOUR', 'PT_CODE', 'TOTAL_TAP_IN_TAP_OUT_VOLUME']]\n",
    "BusData202101Sorted.head()"
   ]
  },
  {
   "cell_type": "code",
   "execution_count": 9,
   "metadata": {},
   "outputs": [
    {
     "ename": "IndexError",
     "evalue": "list assignment index out of range",
     "output_type": "error",
     "traceback": [
      "\u001b[1;31m---------------------------------------------------------------------------\u001b[0m",
      "\u001b[1;31mIndexError\u001b[0m                                Traceback (most recent call last)",
      "\u001b[1;32m<ipython-input-9-032564f884b8>\u001b[0m in \u001b[0;36m<module>\u001b[1;34m\u001b[0m\n\u001b[0;32m      7\u001b[0m \u001b[0mBusData202101\u001b[0m\u001b[1;33m[\u001b[0m\u001b[1;36m0\u001b[0m\u001b[1;33m]\u001b[0m \u001b[1;33m=\u001b[0m \u001b[0mpd\u001b[0m\u001b[1;33m.\u001b[0m\u001b[0mDataFrame\u001b[0m\u001b[1;33m(\u001b[0m\u001b[0mBusData202101Sorted\u001b[0m\u001b[1;33m[\u001b[0m\u001b[0mBusData202101Sorted\u001b[0m\u001b[1;33m[\u001b[0m\u001b[1;34m'TIME_PER_HOUR'\u001b[0m\u001b[1;33m]\u001b[0m \u001b[1;33m==\u001b[0m \u001b[1;36m0\u001b[0m\u001b[1;33m]\u001b[0m\u001b[1;33m)\u001b[0m\u001b[1;33m\u001b[0m\u001b[1;33m\u001b[0m\u001b[0m\n\u001b[0;32m      8\u001b[0m \u001b[1;32mfor\u001b[0m \u001b[0mx\u001b[0m \u001b[1;32min\u001b[0m \u001b[0mrange\u001b[0m\u001b[1;33m(\u001b[0m\u001b[1;36m1\u001b[0m\u001b[1;33m,\u001b[0m \u001b[1;36m23\u001b[0m\u001b[1;33m)\u001b[0m\u001b[1;33m:\u001b[0m\u001b[1;33m\u001b[0m\u001b[1;33m\u001b[0m\u001b[0m\n\u001b[1;32m----> 9\u001b[1;33m     \u001b[0mBusData202101\u001b[0m\u001b[1;33m[\u001b[0m\u001b[0mx\u001b[0m\u001b[1;33m]\u001b[0m \u001b[1;33m=\u001b[0m \u001b[0mpd\u001b[0m\u001b[1;33m.\u001b[0m\u001b[0mDataFrame\u001b[0m\u001b[1;33m(\u001b[0m\u001b[0mBusData202101Sorted\u001b[0m\u001b[1;33m[\u001b[0m\u001b[0mBusData202101Sorted\u001b[0m\u001b[1;33m[\u001b[0m\u001b[1;34m'TIME_PER_HOUR'\u001b[0m\u001b[1;33m]\u001b[0m \u001b[1;33m==\u001b[0m \u001b[0mx\u001b[0m\u001b[1;33m]\u001b[0m\u001b[1;33m)\u001b[0m\u001b[1;33m\u001b[0m\u001b[1;33m\u001b[0m\u001b[0m\n\u001b[0m\u001b[0;32m     10\u001b[0m     \u001b[0mBusData202101\u001b[0m\u001b[1;33m[\u001b[0m\u001b[0mx\u001b[0m\u001b[1;33m]\u001b[0m \u001b[1;33m=\u001b[0m \u001b[0mpd\u001b[0m\u001b[1;33m.\u001b[0m\u001b[0mmerge\u001b[0m\u001b[1;33m(\u001b[0m\u001b[0mBusData202101\u001b[0m\u001b[1;33m[\u001b[0m\u001b[0mx\u001b[0m\u001b[1;33m-\u001b[0m\u001b[1;36m1\u001b[0m\u001b[1;33m]\u001b[0m\u001b[1;33m,\u001b[0m \u001b[0mBusData202101\u001b[0m\u001b[1;33m[\u001b[0m\u001b[0mx\u001b[0m\u001b[1;33m]\u001b[0m\u001b[1;33m,\u001b[0m \u001b[0mon\u001b[0m\u001b[1;33m=\u001b[0m\u001b[1;33m[\u001b[0m\u001b[1;34m'PT_CODE'\u001b[0m\u001b[1;33m]\u001b[0m\u001b[1;33m)\u001b[0m\u001b[1;33m\u001b[0m\u001b[1;33m\u001b[0m\u001b[0m\n\u001b[0;32m     11\u001b[0m \u001b[1;33m\u001b[0m\u001b[0m\n",
      "\u001b[1;31mIndexError\u001b[0m: list assignment index out of range"
     ]
    }
   ],
   "source": [
    "BusData202101AMPeak = pd.DataFrame(BusData202101Sorted[BusData202101Sorted['TIME_PER_HOUR'] == 8])\n",
    "BusData202101PMPeak = pd.DataFrame(BusData202101Sorted[BusData202101Sorted['TIME_PER_HOUR'] == 18])\n",
    "BusData202101Peak = pd.merge(BusData202101AMPeak, BusData202101PMPeak, on=['PT_CODE'])\n",
    "BusData202101Peak['TOTAL_TAP_IN_TAP_OUT_VOLUME_PEAK'] = BusData202101Peak['TOTAL_TAP_IN_TAP_OUT_VOLUME_x'] + BusData202101Peak['TOTAL_TAP_IN_TAP_OUT_VOLUME_y']\n",
    "BusData202101Peak = BusData202101Peak[['TOTAL_TAP_IN_TAP_OUT_VOLUME_PEAK']]\n",
    "BusData202101 = [24]\n",
    "BusData202101[0] = pd.DataFrame(BusData202101Sorted[BusData202101Sorted['TIME_PER_HOUR'] == 0])\n",
    "for x in range(1, 23):\n",
    "    BusData202101[x] = pd.DataFrame(BusData202101Sorted[BusData202101Sorted['TIME_PER_HOUR'] == x])\n",
    "    BusData202101[x] = pd.merge(BusData202101[x-1], BusData202101[x], on=['PT_CODE'])\n",
    "\n"
   ]
  },
  {
   "cell_type": "code",
   "execution_count": null,
   "metadata": {},
   "outputs": [],
   "source": [
    "#BusData202101Sorted.rename(columns = {'TOTAL_TAP_IN_TAP_OUT_VOLUME': 'TOTAL_TAP_IN_VOLUME_WEEKDAY'}, inplace = False)\n",
    "#BusData202101Grouped = BusData202101Sorted.groupby('SUBZONE_N')['TOTAL_TAP_VOLUME'].sum()"
   ]
  },
  {
   "cell_type": "code",
   "execution_count": null,
   "metadata": {},
   "outputs": [],
   "source": [
    "BusData202102 = pd.read_csv('2.5_transport_node_bus_202102.csv')\n",
    "BusData202102.head()"
   ]
  },
  {
   "cell_type": "code",
   "execution_count": null,
   "metadata": {},
   "outputs": [],
   "source": [
    "BusData202102['TOTAL_TAP_IN_TAP_OUT_VOLUME'] = BusData202102['TOTAL_TAP_IN_VOLUME'] + BusData202102['TOTAL_TAP_OUT_VOLUME']\n",
    "BusData202102Weekday = pd.DataFrame(BusData202102[BusData202102['DAY_TYPE'] == 'WEEKDAY'])\n",
    "BusData202102WeekendPH = pd.DataFrame(BusData202102[BusData202102['DAY_TYPE'] == 'WEEKENDS/HOLIDAY'])\n",
    "BusData202102Weekday = BusData202102Weekday.rename(columns = {'TOTAL_TAP_IN_VOLUME': 'TOTAL_TAP_IN_VOLUME_WEEKDAY', 'TOTAL_TAP_OUT_VOLUME': 'TOTAL_TAP_OUT_VOLUME_WEEKDAY', 'TOTAL_TAP_IN_TAP_OUT_VOLUME': 'TOTAL_TAP_IN_TAP_OUT_VOLUME_WEEKDAY'}, inplace = False)\n",
    "BusData202102WeekendPH = BusData202102WeekendPH.rename(columns = {'TOTAL_TAP_IN_VOLUME': 'TOTAL_TAP_IN_VOLUME_WEEKEND', 'TOTAL_TAP_OUT_VOLUME': 'TOTAL_TAP_OUT_VOLUME_WEEKEND', 'TOTAL_TAP_IN_TAP_OUT_VOLUME': 'TOTAL_TAP_IN_TAP_OUT_VOLUME_WEEKEND'}, inplace = False)\n",
    "BusData202102WeekendPH = BusData202102WeekendPH[['DAY_TYPE', 'TIME_PER_HOUR', 'PT_CODE', 'TOTAL_TAP_IN_VOLUME_WEEKEND', 'TOTAL_TAP_OUT_VOLUME_WEEKEND', 'TOTAL_TAP_IN_TAP_OUT_VOLUME_WEEKEND']]\n",
    "BusData202102Merge = pd.merge(BusData202102Weekday, BusData202102WeekendPH, on=['PT_CODE', 'TIME_PER_HOUR'])\n",
    "BusData202102Merge.head()"
   ]
  },
  {
   "cell_type": "code",
   "execution_count": null,
   "metadata": {},
   "outputs": [],
   "source": [
    "BusData202102Merge['TOTAL_TAP_IN_VOLUME'] = BusData202102Merge['TOTAL_TAP_IN_VOLUME_WEEKDAY'] + BusData202102Merge['TOTAL_TAP_IN_VOLUME_WEEKEND']\n",
    "BusData202102Merge['TOTAL_TAP_OUT_VOLUME'] = BusData202102Merge['TOTAL_TAP_OUT_VOLUME_WEEKDAY'] + BusData202102Merge['TOTAL_TAP_OUT_VOLUME_WEEKEND']\n",
    "BusData202102Merge['TOTAL_TAP_IN_TAP_OUT_VOLUME'] = BusData202102Merge['TOTAL_TAP_IN_TAP_OUT_VOLUME_WEEKDAY'] + BusData202102Merge['TOTAL_TAP_IN_TAP_OUT_VOLUME_WEEKEND']\n",
    "BusData202102Merge = BusData202102Merge[['YEAR_MONTH', 'TIME_PER_HOUR', 'PT_CODE', 'TOTAL_TAP_IN_VOLUME', 'TOTAL_TAP_OUT_VOLUME', 'TOTAL_TAP_IN_TAP_OUT_VOLUME']]\n",
    "BusData202102Sorted = BusData202102Merge.sort_values(by=['PT_CODE', 'TIME_PER_HOUR'])\n",
    "BusData202102Sorted.head()"
   ]
  },
  {
   "cell_type": "code",
   "execution_count": null,
   "metadata": {},
   "outputs": [],
   "source": []
  },
  {
   "cell_type": "code",
   "execution_count": null,
   "metadata": {},
   "outputs": [],
   "source": [
    "BusData202103 = pd.read_csv('2.5_transport_node_bus_202103.csv')\n",
    "BusData202103.head()"
   ]
  },
  {
   "cell_type": "code",
   "execution_count": null,
   "metadata": {},
   "outputs": [],
   "source": [
    "BusData202103['TOTAL_TAP_IN_TAP_OUT_VOLUME'] = BusData202103['TOTAL_TAP_IN_VOLUME'] + BusData202103['TOTAL_TAP_OUT_VOLUME']\n",
    "BusData202103Weekday = pd.DataFrame(BusData202103[BusData202103['DAY_TYPE'] == 'WEEKDAY'])\n",
    "BusData202103WeekendPH = pd.DataFrame(BusData202103[BusData202103['DAY_TYPE'] == 'WEEKENDS/HOLIDAY'])\n",
    "BusData202103Weekday = BusData202103Weekday.rename(columns = {'TOTAL_TAP_IN_VOLUME': 'TOTAL_TAP_IN_VOLUME_WEEKDAY', 'TOTAL_TAP_OUT_VOLUME': 'TOTAL_TAP_OUT_VOLUME_WEEKDAY', 'TOTAL_TAP_IN_TAP_OUT_VOLUME': 'TOTAL_TAP_IN_TAP_OUT_VOLUME_WEEKDAY'}, inplace = False)\n",
    "BusData202103WeekendPH = BusData202103WeekendPH.rename(columns = {'TOTAL_TAP_IN_VOLUME': 'TOTAL_TAP_IN_VOLUME_WEEKEND', 'TOTAL_TAP_OUT_VOLUME': 'TOTAL_TAP_OUT_VOLUME_WEEKEND', 'TOTAL_TAP_IN_TAP_OUT_VOLUME': 'TOTAL_TAP_IN_TAP_OUT_VOLUME_WEEKEND'}, inplace = False)\n",
    "BusData202103WeekendPH = BusData202103WeekendPH[['DAY_TYPE', 'TIME_PER_HOUR', 'PT_CODE', 'TOTAL_TAP_IN_VOLUME_WEEKEND', 'TOTAL_TAP_OUT_VOLUME_WEEKEND', 'TOTAL_TAP_IN_TAP_OUT_VOLUME_WEEKEND']]\n",
    "BusData202103Merge = pd.merge(BusData202103Weekday, BusData202103WeekendPH, on=['PT_CODE', 'TIME_PER_HOUR'])\n",
    "BusData202103Merge.head()"
   ]
  },
  {
   "cell_type": "code",
   "execution_count": null,
   "metadata": {},
   "outputs": [],
   "source": [
    "BusData202103Merge['TOTAL_TAP_IN_VOLUME'] = BusData202103Merge['TOTAL_TAP_IN_VOLUME_WEEKDAY'] + BusData202103Merge['TOTAL_TAP_IN_VOLUME_WEEKEND']\n",
    "BusData202103Merge['TOTAL_TAP_OUT_VOLUME'] = BusData202103Merge['TOTAL_TAP_OUT_VOLUME_WEEKDAY'] + BusData202103Merge['TOTAL_TAP_OUT_VOLUME_WEEKEND']\n",
    "BusData202103Merge['TOTAL_TAP_IN_TAP_OUT_VOLUME'] = BusData202103Merge['TOTAL_TAP_IN_TAP_OUT_VOLUME_WEEKDAY'] + BusData202103Merge['TOTAL_TAP_IN_TAP_OUT_VOLUME_WEEKEND']\n",
    "BusData202103Merge = BusData202103Merge[['YEAR_MONTH', 'TIME_PER_HOUR', 'PT_CODE', 'TOTAL_TAP_IN_VOLUME', 'TOTAL_TAP_OUT_VOLUME', 'TOTAL_TAP_IN_TAP_OUT_VOLUME']]\n",
    "BusData202103Sorted = BusData202103Merge.sort_values(by=['PT_CODE', 'TIME_PER_HOUR'])\n",
    "BusData202103Sorted.head()"
   ]
  },
  {
   "cell_type": "code",
   "execution_count": null,
   "metadata": {},
   "outputs": [],
   "source": []
  },
  {
   "cell_type": "code",
   "execution_count": null,
   "metadata": {},
   "outputs": [],
   "source": []
  },
  {
   "cell_type": "code",
   "execution_count": null,
   "metadata": {},
   "outputs": [],
   "source": []
  },
  {
   "cell_type": "code",
   "execution_count": null,
   "metadata": {},
   "outputs": [],
   "source": []
  },
  {
   "cell_type": "code",
   "execution_count": null,
   "metadata": {},
   "outputs": [],
   "source": []
  },
  {
   "cell_type": "code",
   "execution_count": null,
   "metadata": {},
   "outputs": [],
   "source": [
    "MRTData202101 = pd.read_csv('2.8_transport_node_train_202101.csv')\n",
    "MRTData202101.head()"
   ]
  },
  {
   "cell_type": "code",
   "execution_count": null,
   "metadata": {},
   "outputs": [],
   "source": [
    "MRTData202101['TOTAL_TAP_IN_TAP_OUT_VOLUME'] = MRTData202101['TOTAL_TAP_IN_VOLUME'] + MRTData202101['TOTAL_TAP_OUT_VOLUME']\n",
    "MRTData202101Weekday = pd.DataFrame(MRTData202101[MRTData202101['DAY_TYPE'] == 'WEEKDAY'])\n",
    "MRTData202101WeekendPH = pd.DataFrame(MRTData202101[MRTData202101['DAY_TYPE'] == 'WEEKENDS/HOLIDAY'])\n",
    "MRTData202101Weekday = MRTData202101Weekday.rename(columns = {'TOTAL_TAP_IN_VOLUME': 'TOTAL_TAP_IN_VOLUME_WEEKDAY', 'TOTAL_TAP_OUT_VOLUME': 'TOTAL_TAP_OUT_VOLUME_WEEKDAY', 'TOTAL_TAP_IN_TAP_OUT_VOLUME': 'TOTAL_TAP_IN_TAP_OUT_VOLUME_WEEKDAY'}, inplace = False)\n",
    "MRTData202101WeekendPH = MRTData202101WeekendPH.rename(columns = {'TOTAL_TAP_IN_VOLUME': 'TOTAL_TAP_IN_VOLUME_WEEKEND', 'TOTAL_TAP_OUT_VOLUME': 'TOTAL_TAP_OUT_VOLUME_WEEKEND', 'TOTAL_TAP_IN_TAP_OUT_VOLUME': 'TOTAL_TAP_IN_TAP_OUT_VOLUME_WEEKEND'}, inplace = False)\n",
    "MRTData202101WeekendPH = MRTData202101WeekendPH[['DAY_TYPE', 'TIME_PER_HOUR', 'PT_CODE', 'TOTAL_TAP_IN_VOLUME_WEEKEND', 'TOTAL_TAP_OUT_VOLUME_WEEKEND', 'TOTAL_TAP_IN_TAP_OUT_VOLUME_WEEKEND']]\n",
    "MRTData202101Merge = pd.merge(MRTData202101Weekday, MRTData202101WeekendPH, on=['PT_CODE', 'TIME_PER_HOUR'])\n",
    "MRTData202101Merge.head()"
   ]
  },
  {
   "cell_type": "code",
   "execution_count": null,
   "metadata": {},
   "outputs": [],
   "source": [
    "MRTData202101Merge['TOTAL_TAP_IN_VOLUME'] = MRTData202101Merge['TOTAL_TAP_IN_VOLUME_WEEKDAY'] + MRTData202101Merge['TOTAL_TAP_IN_VOLUME_WEEKEND']\n",
    "MRTData202101Merge['TOTAL_TAP_OUT_VOLUME'] = MRTData202101Merge['TOTAL_TAP_OUT_VOLUME_WEEKDAY'] + MRTData202101Merge['TOTAL_TAP_OUT_VOLUME_WEEKEND']\n",
    "MRTData202101Merge['TOTAL_TAP_IN_TAP_OUT_VOLUME'] = MRTData202101Merge['TOTAL_TAP_IN_TAP_OUT_VOLUME_WEEKDAY'] + MRTData202101Merge['TOTAL_TAP_IN_TAP_OUT_VOLUME_WEEKEND']\n",
    "MRTData202101Merge = MRTData202101Merge[['YEAR_MONTH', 'TIME_PER_HOUR', 'PT_CODE', 'TOTAL_TAP_IN_VOLUME', 'TOTAL_TAP_OUT_VOLUME', 'TOTAL_TAP_IN_TAP_OUT_VOLUME']]\n",
    "MRTData202101Sorted = MRTData202101Merge.sort_values(by=['PT_CODE', 'TIME_PER_HOUR'])\n",
    "MRTData202101Sorted.head()"
   ]
  },
  {
   "cell_type": "code",
   "execution_count": null,
   "metadata": {},
   "outputs": [],
   "source": []
  },
  {
   "cell_type": "code",
   "execution_count": null,
   "metadata": {},
   "outputs": [],
   "source": [
    "MRTData202102 = pd.read_csv('2.8_transport_node_train_202102.csv')\n",
    "MRTData202102.head()"
   ]
  },
  {
   "cell_type": "code",
   "execution_count": null,
   "metadata": {},
   "outputs": [],
   "source": [
    "MRTData202102['TOTAL_TAP_IN_TAP_OUT_VOLUME'] = MRTData202102['TOTAL_TAP_IN_VOLUME'] + MRTData202102['TOTAL_TAP_OUT_VOLUME']\n",
    "MRTData202102Weekday = pd.DataFrame(MRTData202102[MRTData202102['DAY_TYPE'] == 'WEEKDAY'])\n",
    "MRTData202102WeekendPH = pd.DataFrame(MRTData202102[MRTData202102['DAY_TYPE'] == 'WEEKENDS/HOLIDAY'])\n",
    "MRTData202102Weekday = MRTData202102Weekday.rename(columns = {'TOTAL_TAP_IN_VOLUME': 'TOTAL_TAP_IN_VOLUME_WEEKDAY', 'TOTAL_TAP_OUT_VOLUME': 'TOTAL_TAP_OUT_VOLUME_WEEKDAY', 'TOTAL_TAP_IN_TAP_OUT_VOLUME': 'TOTAL_TAP_IN_TAP_OUT_VOLUME_WEEKDAY'}, inplace = False)\n",
    "MRTData202102WeekendPH = MRTData202102WeekendPH.rename(columns = {'TOTAL_TAP_IN_VOLUME': 'TOTAL_TAP_IN_VOLUME_WEEKEND', 'TOTAL_TAP_OUT_VOLUME': 'TOTAL_TAP_OUT_VOLUME_WEEKEND', 'TOTAL_TAP_IN_TAP_OUT_VOLUME': 'TOTAL_TAP_IN_TAP_OUT_VOLUME_WEEKEND'}, inplace = False)\n",
    "MRTData202102WeekendPH = MRTData202102WeekendPH[['DAY_TYPE', 'TIME_PER_HOUR', 'PT_CODE', 'TOTAL_TAP_IN_VOLUME_WEEKEND', 'TOTAL_TAP_OUT_VOLUME_WEEKEND', 'TOTAL_TAP_IN_TAP_OUT_VOLUME_WEEKEND']]\n",
    "MRTData202102Merge = pd.merge(MRTData202102Weekday, MRTData202102WeekendPH, on=['PT_CODE', 'TIME_PER_HOUR'])\n",
    "MRTData202102Merge.head()"
   ]
  },
  {
   "cell_type": "code",
   "execution_count": null,
   "metadata": {},
   "outputs": [],
   "source": [
    "MRTData202102Merge['TOTAL_TAP_IN_VOLUME'] = MRTData202102Merge['TOTAL_TAP_IN_VOLUME_WEEKDAY'] + MRTData202102Merge['TOTAL_TAP_IN_VOLUME_WEEKEND']\n",
    "MRTData202102Merge['TOTAL_TAP_OUT_VOLUME'] = MRTData202102Merge['TOTAL_TAP_OUT_VOLUME_WEEKDAY'] + MRTData202102Merge['TOTAL_TAP_OUT_VOLUME_WEEKEND']\n",
    "MRTData202102Merge['TOTAL_TAP_IN_TAP_OUT_VOLUME'] = MRTData202102Merge['TOTAL_TAP_IN_TAP_OUT_VOLUME_WEEKDAY'] + MRTData202102Merge['TOTAL_TAP_IN_TAP_OUT_VOLUME_WEEKEND']\n",
    "MRTData202102Merge = MRTData202102Merge[['YEAR_MONTH', 'TIME_PER_HOUR', 'PT_CODE', 'TOTAL_TAP_IN_VOLUME', 'TOTAL_TAP_OUT_VOLUME', 'TOTAL_TAP_IN_TAP_OUT_VOLUME']]\n",
    "MRTData202102Sorted = MRTData202102Merge.sort_values(by=['PT_CODE', 'TIME_PER_HOUR'])\n",
    "MRTData202102Sorted.head()"
   ]
  },
  {
   "cell_type": "code",
   "execution_count": null,
   "metadata": {},
   "outputs": [],
   "source": []
  },
  {
   "cell_type": "code",
   "execution_count": null,
   "metadata": {},
   "outputs": [],
   "source": [
    "MRTData202103 = pd.read_csv('2.8_transport_node_train_202103.csv')\n",
    "MRTData202103.head()"
   ]
  },
  {
   "cell_type": "code",
   "execution_count": null,
   "metadata": {},
   "outputs": [],
   "source": [
    "MRTData202103['TOTAL_TAP_IN_TAP_OUT_VOLUME'] = MRTData202103['TOTAL_TAP_IN_VOLUME'] + MRTData202103['TOTAL_TAP_OUT_VOLUME']\n",
    "MRTData202103Weekday = pd.DataFrame(MRTData202103[MRTData202103['DAY_TYPE'] == 'WEEKDAY'])\n",
    "MRTData202103WeekendPH = pd.DataFrame(MRTData202103[MRTData202103['DAY_TYPE'] == 'WEEKENDS/HOLIDAY'])\n",
    "MRTData202103Weekday = MRTData202103Weekday.rename(columns = {'TOTAL_TAP_IN_VOLUME': 'TOTAL_TAP_IN_VOLUME_WEEKDAY', 'TOTAL_TAP_OUT_VOLUME': 'TOTAL_TAP_OUT_VOLUME_WEEKDAY', 'TOTAL_TAP_IN_TAP_OUT_VOLUME': 'TOTAL_TAP_IN_TAP_OUT_VOLUME_WEEKDAY'}, inplace = False)\n",
    "MRTData202103WeekendPH = MRTData202103WeekendPH.rename(columns = {'TOTAL_TAP_IN_VOLUME': 'TOTAL_TAP_IN_VOLUME_WEEKEND', 'TOTAL_TAP_OUT_VOLUME': 'TOTAL_TAP_OUT_VOLUME_WEEKEND', 'TOTAL_TAP_IN_TAP_OUT_VOLUME': 'TOTAL_TAP_IN_TAP_OUT_VOLUME_WEEKEND'}, inplace = False)\n",
    "MRTData202103WeekendPH = MRTData202103WeekendPH[['DAY_TYPE', 'TIME_PER_HOUR', 'PT_CODE', 'TOTAL_TAP_IN_VOLUME_WEEKEND', 'TOTAL_TAP_OUT_VOLUME_WEEKEND', 'TOTAL_TAP_IN_TAP_OUT_VOLUME_WEEKEND']]\n",
    "MRTData202103Merge = pd.merge(MRTData202103Weekday, MRTData202103WeekendPH, on=['PT_CODE', 'TIME_PER_HOUR'])\n",
    "MRTData202103Merge.head()"
   ]
  },
  {
   "cell_type": "code",
   "execution_count": null,
   "metadata": {},
   "outputs": [],
   "source": [
    "MRTData202103Merge['TOTAL_TAP_IN_VOLUME'] = MRTData202103Merge['TOTAL_TAP_IN_VOLUME_WEEKDAY'] + MRTData202103Merge['TOTAL_TAP_IN_VOLUME_WEEKEND']\n",
    "MRTData202103Merge['TOTAL_TAP_OUT_VOLUME'] = MRTData202103Merge['TOTAL_TAP_OUT_VOLUME_WEEKDAY'] + MRTData202103Merge['TOTAL_TAP_OUT_VOLUME_WEEKEND']\n",
    "MRTData202103Merge['TOTAL_TAP_IN_TAP_OUT_VOLUME'] = MRTData202103Merge['TOTAL_TAP_IN_TAP_OUT_VOLUME_WEEKDAY'] + MRTData202103Merge['TOTAL_TAP_IN_TAP_OUT_VOLUME_WEEKEND']\n",
    "MRTData202103Merge = MRTData202103Merge[['YEAR_MONTH', 'TIME_PER_HOUR', 'PT_CODE', 'TOTAL_TAP_IN_VOLUME', 'TOTAL_TAP_OUT_VOLUME', 'TOTAL_TAP_IN_TAP_OUT_VOLUME']]\n",
    "MRTData202103Sorted = MRTData202103Merge.sort_values(by=['PT_CODE', 'TIME_PER_HOUR'])\n",
    "MRTData202103Sorted.head()"
   ]
  }
 ],
 "metadata": {
  "kernelspec": {
   "display_name": "Python 3",
   "language": "python",
   "name": "python3"
  },
  "language_info": {
   "codemirror_mode": {
    "name": "ipython",
    "version": 3
   },
   "file_extension": ".py",
   "mimetype": "text/x-python",
   "name": "python",
   "nbconvert_exporter": "python",
   "pygments_lexer": "ipython3",
   "version": "3.8.5"
  }
 },
 "nbformat": 4,
 "nbformat_minor": 4
}

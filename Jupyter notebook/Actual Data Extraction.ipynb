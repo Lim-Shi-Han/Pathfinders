{
 "cells": [
  {
   "cell_type": "code",
   "execution_count": 1,
   "metadata": {},
   "outputs": [],
   "source": [
    "#dT2020raw.SUBZONE_N.unique()"
   ]
  },
  {
   "cell_type": "code",
   "execution_count": 2,
   "metadata": {},
   "outputs": [],
   "source": [
    "#dT20192011 = pd.read_excel('singapore-residents-by-planning-areasubzone-age-group-sex-and-type-of-dwelling-june-20002020.xlsx', header = 2, sheet_name = '2011-2019(Total)')"
   ]
  },
  {
   "cell_type": "code",
   "execution_count": 3,
   "metadata": {},
   "outputs": [],
   "source": [
    "#dT20192011"
   ]
  },
  {
   "cell_type": "code",
   "execution_count": 4,
   "metadata": {},
   "outputs": [],
   "source": [
    "#pd.DataFrame(dT20192011.Subzone.unique()) - pd.DataFrame(dT2020raw.SUBZONE_N.unique())"
   ]
  },
  {
   "cell_type": "markdown",
   "metadata": {},
   "source": [
    "## ================================ PT. 1 ================================\n",
    "#  >>>>>>>>>>>>>>>>>>>>> DATA WRANGLING <<<<<<<<<<<<<<<<<<<<<\n",
    "## ====================================================================="
   ]
  },
  {
   "cell_type": "markdown",
   "metadata": {},
   "source": [
    "# Obtaining BusStop and MRTStop information\n",
    "### –––––––––––––––––––––––––––––––––––––––––––––––––––––––––"
   ]
  },
  {
   "cell_type": "markdown",
   "metadata": {},
   "source": [
    "### Using Geopandas to Import BusStops"
   ]
  },
  {
   "cell_type": "code",
   "execution_count": 5,
   "metadata": {},
   "outputs": [],
   "source": [
    "import geopandas as gpd\n",
    "import pandas as pd\n",
    "import seaborn as sb"
   ]
  },
  {
   "cell_type": "code",
   "execution_count": 6,
   "metadata": {},
   "outputs": [],
   "source": [
    "#Load into GeoDataFrame\n",
    "gdf_BusStop = gpd.read_file('BusStop.shp')"
   ]
  },
  {
   "cell_type": "code",
   "execution_count": 7,
   "metadata": {},
   "outputs": [
    {
     "data": {
      "text/html": [
       "<div>\n",
       "<style scoped>\n",
       "    .dataframe tbody tr th:only-of-type {\n",
       "        vertical-align: middle;\n",
       "    }\n",
       "\n",
       "    .dataframe tbody tr th {\n",
       "        vertical-align: top;\n",
       "    }\n",
       "\n",
       "    .dataframe thead th {\n",
       "        text-align: right;\n",
       "    }\n",
       "</style>\n",
       "<table border=\"1\" class=\"dataframe\">\n",
       "  <thead>\n",
       "    <tr style=\"text-align: right;\">\n",
       "      <th></th>\n",
       "      <th>BUS_STOP_N</th>\n",
       "      <th>BUS_ROOF_N</th>\n",
       "      <th>LOC_DESC</th>\n",
       "      <th>geometry</th>\n",
       "    </tr>\n",
       "  </thead>\n",
       "  <tbody>\n",
       "    <tr>\n",
       "      <th>0</th>\n",
       "      <td>78221</td>\n",
       "      <td>B06</td>\n",
       "      <td>BLK 231A CP</td>\n",
       "      <td>POINT (42227.955 39563.156)</td>\n",
       "    </tr>\n",
       "    <tr>\n",
       "      <th>1</th>\n",
       "      <td>63359</td>\n",
       "      <td>B01</td>\n",
       "      <td>HOUGANG SWIM CPLX</td>\n",
       "      <td>POINT (34065.748 39047.458)</td>\n",
       "    </tr>\n",
       "    <tr>\n",
       "      <th>2</th>\n",
       "      <td>64141</td>\n",
       "      <td>B13</td>\n",
       "      <td>AFT JLN TELAWI</td>\n",
       "      <td>POINT (36335.296 38525.741)</td>\n",
       "    </tr>\n",
       "    <tr>\n",
       "      <th>3</th>\n",
       "      <td>83139</td>\n",
       "      <td>B07</td>\n",
       "      <td>AFT JOO CHIAT PL</td>\n",
       "      <td>POINT (36530.265 32981.180)</td>\n",
       "    </tr>\n",
       "    <tr>\n",
       "      <th>4</th>\n",
       "      <td>55231</td>\n",
       "      <td>B02</td>\n",
       "      <td>OPP SBST ANG MO KIO DEPOT</td>\n",
       "      <td>POINT (29669.934 40841.514)</td>\n",
       "    </tr>\n",
       "  </tbody>\n",
       "</table>\n",
       "</div>"
      ],
      "text/plain": [
       "  BUS_STOP_N BUS_ROOF_N                   LOC_DESC  \\\n",
       "0      78221        B06                BLK 231A CP   \n",
       "1      63359        B01          HOUGANG SWIM CPLX   \n",
       "2      64141        B13             AFT JLN TELAWI   \n",
       "3      83139        B07           AFT JOO CHIAT PL   \n",
       "4      55231        B02  OPP SBST ANG MO KIO DEPOT   \n",
       "\n",
       "                      geometry  \n",
       "0  POINT (42227.955 39563.156)  \n",
       "1  POINT (34065.748 39047.458)  \n",
       "2  POINT (36335.296 38525.741)  \n",
       "3  POINT (36530.265 32981.180)  \n",
       "4  POINT (29669.934 40841.514)  "
      ]
     },
     "execution_count": 7,
     "metadata": {},
     "output_type": "execute_result"
    }
   ],
   "source": [
    "gdf_BusStop.head()"
   ]
  },
  {
   "cell_type": "code",
   "execution_count": 8,
   "metadata": {},
   "outputs": [
    {
     "data": {
      "text/plain": [
       "<AxesSubplot:>"
      ]
     },
     "execution_count": 8,
     "metadata": {},
     "output_type": "execute_result"
    },
    {
     "data": {
      "image/png": "[encoded data removed]",
      "text/plain": [
       "<Figure size 432x288 with 1 Axes>"
      ]
     },
     "metadata": {
      "needs_background": "light"
     },
     "output_type": "display_data"
    }
   ],
   "source": [
    "gdf_BusStop.plot()"
   ]
  },
  {
   "cell_type": "markdown",
   "metadata": {},
   "source": [
    "### Using Geopandas to Import Subzone"
   ]
  },
  {
   "cell_type": "code",
   "execution_count": 9,
   "metadata": {},
   "outputs": [],
   "source": [
    "#Load into GeoDataFrame\n",
    "gdf_Subzone = gpd.read_file('MP14_SUBZONE_WEB_PL.shp')"
   ]
  },
  {
   "cell_type": "code",
   "execution_count": 10,
   "metadata": {},
   "outputs": [
    {
     "data": {
      "text/html": [
       "<div>\n",
       "<style scoped>\n",
       "    .dataframe tbody tr th:only-of-type {\n",
       "        vertical-align: middle;\n",
       "    }\n",
       "\n",
       "    .dataframe tbody tr th {\n",
       "        vertical-align: top;\n",
       "    }\n",
       "\n",
       "    .dataframe thead th {\n",
       "        text-align: right;\n",
       "    }\n",
       "</style>\n",
       "<table border=\"1\" class=\"dataframe\">\n",
       "  <thead>\n",
       "    <tr style=\"text-align: right;\">\n",
       "      <th></th>\n",
       "      <th>OBJECTID</th>\n",
       "      <th>SUBZONE_NO</th>\n",
       "      <th>SUBZONE_N</th>\n",
       "      <th>SUBZONE_C</th>\n",
       "      <th>CA_IND</th>\n",
       "      <th>PLN_AREA_N</th>\n",
       "      <th>PLN_AREA_C</th>\n",
       "      <th>REGION_N</th>\n",
       "      <th>REGION_C</th>\n",
       "      <th>INC_CRC</th>\n",
       "      <th>FMEL_UPD_D</th>\n",
       "      <th>X_ADDR</th>\n",
       "      <th>Y_ADDR</th>\n",
       "      <th>SHAPE_Leng</th>\n",
       "      <th>SHAPE_Area</th>\n",
       "      <th>geometry</th>\n",
       "    </tr>\n",
       "  </thead>\n",
       "  <tbody>\n",
       "    <tr>\n",
       "      <th>0</th>\n",
       "      <td>1</td>\n",
       "      <td>1</td>\n",
       "      <td>MARINA SOUTH</td>\n",
       "      <td>MSSZ01</td>\n",
       "      <td>Y</td>\n",
       "      <td>MARINA SOUTH</td>\n",
       "      <td>MS</td>\n",
       "      <td>CENTRAL REGION</td>\n",
       "      <td>CR</td>\n",
       "      <td>5ED7EB253F99252E</td>\n",
       "      <td>2014-12-05</td>\n",
       "      <td>31595.8357</td>\n",
       "      <td>29220.1873</td>\n",
       "      <td>5267.381024</td>\n",
       "      <td>1.630379e+06</td>\n",
       "      <td>POLYGON ((31495.560 30140.012, 31980.957 29671...</td>\n",
       "    </tr>\n",
       "    <tr>\n",
       "      <th>1</th>\n",
       "      <td>2</td>\n",
       "      <td>1</td>\n",
       "      <td>PEARL'S HILL</td>\n",
       "      <td>OTSZ01</td>\n",
       "      <td>Y</td>\n",
       "      <td>OUTRAM</td>\n",
       "      <td>OT</td>\n",
       "      <td>CENTRAL REGION</td>\n",
       "      <td>CR</td>\n",
       "      <td>8C7149B9EB32EEFC</td>\n",
       "      <td>2014-12-05</td>\n",
       "      <td>28679.0634</td>\n",
       "      <td>29782.0519</td>\n",
       "      <td>3506.107376</td>\n",
       "      <td>5.598162e+05</td>\n",
       "      <td>POLYGON ((29092.275 30021.888, 29119.641 30006...</td>\n",
       "    </tr>\n",
       "    <tr>\n",
       "      <th>2</th>\n",
       "      <td>3</td>\n",
       "      <td>3</td>\n",
       "      <td>BOAT QUAY</td>\n",
       "      <td>SRSZ03</td>\n",
       "      <td>Y</td>\n",
       "      <td>SINGAPORE RIVER</td>\n",
       "      <td>SR</td>\n",
       "      <td>CENTRAL REGION</td>\n",
       "      <td>CR</td>\n",
       "      <td>C35FEFF02B13E0E5</td>\n",
       "      <td>2014-12-05</td>\n",
       "      <td>29654.9594</td>\n",
       "      <td>29974.6553</td>\n",
       "      <td>1740.925766</td>\n",
       "      <td>1.608075e+05</td>\n",
       "      <td>POLYGON ((29932.332 29879.120, 29947.317 29858...</td>\n",
       "    </tr>\n",
       "    <tr>\n",
       "      <th>3</th>\n",
       "      <td>4</td>\n",
       "      <td>8</td>\n",
       "      <td>HENDERSON HILL</td>\n",
       "      <td>BMSZ08</td>\n",
       "      <td>N</td>\n",
       "      <td>BUKIT MERAH</td>\n",
       "      <td>BM</td>\n",
       "      <td>CENTRAL REGION</td>\n",
       "      <td>CR</td>\n",
       "      <td>3775D82C5DDBEFBD</td>\n",
       "      <td>2014-12-05</td>\n",
       "      <td>26782.8261</td>\n",
       "      <td>29933.7651</td>\n",
       "      <td>3313.624904</td>\n",
       "      <td>5.954289e+05</td>\n",
       "      <td>POLYGON ((27131.276 30059.727, 27088.334 29709...</td>\n",
       "    </tr>\n",
       "    <tr>\n",
       "      <th>4</th>\n",
       "      <td>5</td>\n",
       "      <td>3</td>\n",
       "      <td>REDHILL</td>\n",
       "      <td>BMSZ03</td>\n",
       "      <td>N</td>\n",
       "      <td>BUKIT MERAH</td>\n",
       "      <td>BM</td>\n",
       "      <td>CENTRAL REGION</td>\n",
       "      <td>CR</td>\n",
       "      <td>85D9ABEF0A40678F</td>\n",
       "      <td>2014-12-05</td>\n",
       "      <td>26201.9580</td>\n",
       "      <td>30005.7035</td>\n",
       "      <td>2825.594099</td>\n",
       "      <td>3.874294e+05</td>\n",
       "      <td>POLYGON ((26451.027 30396.458, 26440.474 30361...</td>\n",
       "    </tr>\n",
       "  </tbody>\n",
       "</table>\n",
       "</div>"
      ],
      "text/plain": [
       "   OBJECTID  SUBZONE_NO       SUBZONE_N SUBZONE_C CA_IND       PLN_AREA_N  \\\n",
       "0         1           1    MARINA SOUTH    MSSZ01      Y     MARINA SOUTH   \n",
       "1         2           1    PEARL'S HILL    OTSZ01      Y           OUTRAM   \n",
       "2         3           3       BOAT QUAY    SRSZ03      Y  SINGAPORE RIVER   \n",
       "3         4           8  HENDERSON HILL    BMSZ08      N      BUKIT MERAH   \n",
       "4         5           3         REDHILL    BMSZ03      N      BUKIT MERAH   \n",
       "\n",
       "  PLN_AREA_C        REGION_N REGION_C           INC_CRC  FMEL_UPD_D  \\\n",
       "0         MS  CENTRAL REGION       CR  5ED7EB253F99252E  2014-12-05   \n",
       "1         OT  CENTRAL REGION       CR  8C7149B9EB32EEFC  2014-12-05   \n",
       "2         SR  CENTRAL REGION       CR  C35FEFF02B13E0E5  2014-12-05   \n",
       "3         BM  CENTRAL REGION       CR  3775D82C5DDBEFBD  2014-12-05   \n",
       "4         BM  CENTRAL REGION       CR  85D9ABEF0A40678F  2014-12-05   \n",
       "\n",
       "       X_ADDR      Y_ADDR   SHAPE_Leng    SHAPE_Area  \\\n",
       "0  31595.8357  29220.1873  5267.381024  1.630379e+06   \n",
       "1  28679.0634  29782.0519  3506.107376  5.598162e+05   \n",
       "2  29654.9594  29974.6553  1740.925766  1.608075e+05   \n",
       "3  26782.8261  29933.7651  3313.624904  5.954289e+05   \n",
       "4  26201.9580  30005.7035  2825.594099  3.874294e+05   \n",
       "\n",
       "                                            geometry  \n",
       "0  POLYGON ((31495.560 30140.012, 31980.957 29671...  \n",
       "1  POLYGON ((29092.275 30021.888, 29119.641 30006...  \n",
       "2  POLYGON ((29932.332 29879.120, 29947.317 29858...  \n",
       "3  POLYGON ((27131.276 30059.727, 27088.334 29709...  \n",
       "4  POLYGON ((26451.027 30396.458, 26440.474 30361...  "
      ]
     },
     "execution_count": 10,
     "metadata": {},
     "output_type": "execute_result"
    }
   ],
   "source": [
    "gdf_Subzone.head()"
   ]
  },
  {
   "cell_type": "markdown",
   "metadata": {},
   "source": [
    "### Left join BusStops with Subzone"
   ]
  },
  {
   "cell_type": "code",
   "execution_count": 11,
   "metadata": {},
   "outputs": [
    {
     "data": {
      "text/html": [
       "<div>\n",
       "<style scoped>\n",
       "    .dataframe tbody tr th:only-of-type {\n",
       "        vertical-align: middle;\n",
       "    }\n",
       "\n",
       "    .dataframe tbody tr th {\n",
       "        vertical-align: top;\n",
       "    }\n",
       "\n",
       "    .dataframe thead th {\n",
       "        text-align: right;\n",
       "    }\n",
       "</style>\n",
       "<table border=\"1\" class=\"dataframe\">\n",
       "  <thead>\n",
       "    <tr style=\"text-align: right;\">\n",
       "      <th></th>\n",
       "      <th>BUS_STOP_N</th>\n",
       "      <th>BUS_ROOF_N</th>\n",
       "      <th>LOC_DESC</th>\n",
       "      <th>geometry</th>\n",
       "      <th>index_right</th>\n",
       "      <th>OBJECTID</th>\n",
       "      <th>SUBZONE_NO</th>\n",
       "      <th>SUBZONE_N</th>\n",
       "      <th>SUBZONE_C</th>\n",
       "      <th>CA_IND</th>\n",
       "      <th>PLN_AREA_N</th>\n",
       "      <th>PLN_AREA_C</th>\n",
       "      <th>REGION_N</th>\n",
       "      <th>REGION_C</th>\n",
       "      <th>INC_CRC</th>\n",
       "      <th>FMEL_UPD_D</th>\n",
       "      <th>X_ADDR</th>\n",
       "      <th>Y_ADDR</th>\n",
       "      <th>SHAPE_Leng</th>\n",
       "      <th>SHAPE_Area</th>\n",
       "    </tr>\n",
       "  </thead>\n",
       "  <tbody>\n",
       "    <tr>\n",
       "      <th>0</th>\n",
       "      <td>78221</td>\n",
       "      <td>B06</td>\n",
       "      <td>BLK 231A CP</td>\n",
       "      <td>POINT (42227.955 39563.156)</td>\n",
       "      <td>245.0</td>\n",
       "      <td>246.0</td>\n",
       "      <td>5.0</td>\n",
       "      <td>PASIR RIS DRIVE</td>\n",
       "      <td>PRSZ05</td>\n",
       "      <td>N</td>\n",
       "      <td>PASIR RIS</td>\n",
       "      <td>PR</td>\n",
       "      <td>EAST REGION</td>\n",
       "      <td>ER</td>\n",
       "      <td>2B73597AF3F174F3</td>\n",
       "      <td>2014-12-05</td>\n",
       "      <td>42032.4580</td>\n",
       "      <td>38988.2187</td>\n",
       "      <td>5311.060366</td>\n",
       "      <td>1.639669e+06</td>\n",
       "    </tr>\n",
       "    <tr>\n",
       "      <th>1</th>\n",
       "      <td>63359</td>\n",
       "      <td>B01</td>\n",
       "      <td>HOUGANG SWIM CPLX</td>\n",
       "      <td>POINT (34065.748 39047.458)</td>\n",
       "      <td>207.0</td>\n",
       "      <td>208.0</td>\n",
       "      <td>4.0</td>\n",
       "      <td>HOUGANG WEST</td>\n",
       "      <td>HGSZ04</td>\n",
       "      <td>N</td>\n",
       "      <td>HOUGANG</td>\n",
       "      <td>HG</td>\n",
       "      <td>NORTH-EAST REGION</td>\n",
       "      <td>NER</td>\n",
       "      <td>27B0E0BDE3579753</td>\n",
       "      <td>2014-12-05</td>\n",
       "      <td>33849.2205</td>\n",
       "      <td>39506.8724</td>\n",
       "      <td>6424.482139</td>\n",
       "      <td>1.328876e+06</td>\n",
       "    </tr>\n",
       "    <tr>\n",
       "      <th>2</th>\n",
       "      <td>64141</td>\n",
       "      <td>B13</td>\n",
       "      <td>AFT JLN TELAWI</td>\n",
       "      <td>POINT (36335.296 38525.741)</td>\n",
       "      <td>208.0</td>\n",
       "      <td>209.0</td>\n",
       "      <td>3.0</td>\n",
       "      <td>PAYA LEBAR WEST</td>\n",
       "      <td>PLSZ03</td>\n",
       "      <td>N</td>\n",
       "      <td>PAYA LEBAR</td>\n",
       "      <td>PL</td>\n",
       "      <td>EAST REGION</td>\n",
       "      <td>ER</td>\n",
       "      <td>4BADA58E2612A6E2</td>\n",
       "      <td>2014-12-05</td>\n",
       "      <td>36649.3106</td>\n",
       "      <td>39403.4873</td>\n",
       "      <td>5898.475695</td>\n",
       "      <td>6.098947e+05</td>\n",
       "    </tr>\n",
       "    <tr>\n",
       "      <th>3</th>\n",
       "      <td>83139</td>\n",
       "      <td>B07</td>\n",
       "      <td>AFT JOO CHIAT PL</td>\n",
       "      <td>POINT (36530.265 32981.180)</td>\n",
       "      <td>166.0</td>\n",
       "      <td>167.0</td>\n",
       "      <td>5.0</td>\n",
       "      <td>FRANKEL</td>\n",
       "      <td>BDSZ05</td>\n",
       "      <td>N</td>\n",
       "      <td>BEDOK</td>\n",
       "      <td>BD</td>\n",
       "      <td>EAST REGION</td>\n",
       "      <td>ER</td>\n",
       "      <td>B34F041CC4B050EC</td>\n",
       "      <td>2014-12-05</td>\n",
       "      <td>37694.5519</td>\n",
       "      <td>33007.2679</td>\n",
       "      <td>8750.386291</td>\n",
       "      <td>4.297141e+06</td>\n",
       "    </tr>\n",
       "    <tr>\n",
       "      <th>4</th>\n",
       "      <td>55231</td>\n",
       "      <td>B02</td>\n",
       "      <td>OPP SBST ANG MO KIO DEPOT</td>\n",
       "      <td>POINT (29669.934 40841.514)</td>\n",
       "      <td>227.0</td>\n",
       "      <td>228.0</td>\n",
       "      <td>10.0</td>\n",
       "      <td>YIO CHU KANG</td>\n",
       "      <td>AMSZ10</td>\n",
       "      <td>N</td>\n",
       "      <td>ANG MO KIO</td>\n",
       "      <td>AM</td>\n",
       "      <td>NORTH-EAST REGION</td>\n",
       "      <td>NER</td>\n",
       "      <td>5E2B16BB381BAEA4</td>\n",
       "      <td>2014-12-05</td>\n",
       "      <td>29443.7447</td>\n",
       "      <td>40836.0207</td>\n",
       "      <td>4533.218364</td>\n",
       "      <td>9.094186e+05</td>\n",
       "    </tr>\n",
       "    <tr>\n",
       "      <th>...</th>\n",
       "      <td>...</td>\n",
       "      <td>...</td>\n",
       "      <td>...</td>\n",
       "      <td>...</td>\n",
       "      <td>...</td>\n",
       "      <td>...</td>\n",
       "      <td>...</td>\n",
       "      <td>...</td>\n",
       "      <td>...</td>\n",
       "      <td>...</td>\n",
       "      <td>...</td>\n",
       "      <td>...</td>\n",
       "      <td>...</td>\n",
       "      <td>...</td>\n",
       "      <td>...</td>\n",
       "      <td>...</td>\n",
       "      <td>...</td>\n",
       "      <td>...</td>\n",
       "      <td>...</td>\n",
       "      <td>...</td>\n",
       "    </tr>\n",
       "    <tr>\n",
       "      <th>5132</th>\n",
       "      <td>24539</td>\n",
       "      <td>B03</td>\n",
       "      <td>DUNDEE MARINE</td>\n",
       "      <td>POINT (8211.954 31924.108)</td>\n",
       "      <td>78.0</td>\n",
       "      <td>79.0</td>\n",
       "      <td>5.0</td>\n",
       "      <td>PIONEER SECTOR</td>\n",
       "      <td>PNSZ05</td>\n",
       "      <td>N</td>\n",
       "      <td>PIONEER</td>\n",
       "      <td>PN</td>\n",
       "      <td>WEST REGION</td>\n",
       "      <td>WR</td>\n",
       "      <td>F3241D6C0FEF13ED</td>\n",
       "      <td>2014-12-05</td>\n",
       "      <td>8872.7501</td>\n",
       "      <td>31423.4434</td>\n",
       "      <td>8489.982578</td>\n",
       "      <td>2.796007e+06</td>\n",
       "    </tr>\n",
       "    <tr>\n",
       "      <th>5133</th>\n",
       "      <td>46441</td>\n",
       "      <td>B02</td>\n",
       "      <td>BLK 816</td>\n",
       "      <td>POINT (23143.267 47097.652)</td>\n",
       "      <td>305.0</td>\n",
       "      <td>306.0</td>\n",
       "      <td>2.0</td>\n",
       "      <td>MIDVIEW</td>\n",
       "      <td>WDSZ02</td>\n",
       "      <td>N</td>\n",
       "      <td>WOODLANDS</td>\n",
       "      <td>WD</td>\n",
       "      <td>NORTH REGION</td>\n",
       "      <td>NR</td>\n",
       "      <td>42D5F52D334C615F</td>\n",
       "      <td>2014-12-05</td>\n",
       "      <td>23349.7600</td>\n",
       "      <td>46841.1143</td>\n",
       "      <td>4159.201440</td>\n",
       "      <td>9.364155e+05</td>\n",
       "    </tr>\n",
       "    <tr>\n",
       "      <th>5134</th>\n",
       "      <td>64391</td>\n",
       "      <td>B04</td>\n",
       "      <td>BLK 831</td>\n",
       "      <td>POINT (34273.668 39267.502)</td>\n",
       "      <td>242.0</td>\n",
       "      <td>243.0</td>\n",
       "      <td>1.0</td>\n",
       "      <td>HOUGANG CENTRAL</td>\n",
       "      <td>HGSZ01</td>\n",
       "      <td>N</td>\n",
       "      <td>HOUGANG</td>\n",
       "      <td>HG</td>\n",
       "      <td>NORTH-EAST REGION</td>\n",
       "      <td>NER</td>\n",
       "      <td>C4419A9A8D05E0DF</td>\n",
       "      <td>2014-12-05</td>\n",
       "      <td>34470.7005</td>\n",
       "      <td>39076.5963</td>\n",
       "      <td>2759.815466</td>\n",
       "      <td>4.417334e+05</td>\n",
       "    </tr>\n",
       "    <tr>\n",
       "      <th>5135</th>\n",
       "      <td>10389</td>\n",
       "      <td>B01</td>\n",
       "      <td>BLK 48</td>\n",
       "      <td>POINT (27156.674 30126.309)</td>\n",
       "      <td>6.0</td>\n",
       "      <td>7.0</td>\n",
       "      <td>9.0</td>\n",
       "      <td>BUKIT HO SWEE</td>\n",
       "      <td>BMSZ09</td>\n",
       "      <td>N</td>\n",
       "      <td>BUKIT MERAH</td>\n",
       "      <td>BM</td>\n",
       "      <td>CENTRAL REGION</td>\n",
       "      <td>CR</td>\n",
       "      <td>7839A8577144EFE2</td>\n",
       "      <td>2014-12-05</td>\n",
       "      <td>27680.0627</td>\n",
       "      <td>30230.8610</td>\n",
       "      <td>3275.312488</td>\n",
       "      <td>5.517320e+05</td>\n",
       "    </tr>\n",
       "    <tr>\n",
       "      <th>5136</th>\n",
       "      <td>28061</td>\n",
       "      <td>B09</td>\n",
       "      <td>J GATEWAY</td>\n",
       "      <td>POINT (17918.729 35318.219)</td>\n",
       "      <td>134.0</td>\n",
       "      <td>135.0</td>\n",
       "      <td>5.0</td>\n",
       "      <td>JURONG GATEWAY</td>\n",
       "      <td>JESZ05</td>\n",
       "      <td>N</td>\n",
       "      <td>JURONG EAST</td>\n",
       "      <td>JE</td>\n",
       "      <td>WEST REGION</td>\n",
       "      <td>WR</td>\n",
       "      <td>857DAA77ED3346BF</td>\n",
       "      <td>2014-12-05</td>\n",
       "      <td>17912.9778</td>\n",
       "      <td>35033.9061</td>\n",
       "      <td>3096.984110</td>\n",
       "      <td>5.546237e+05</td>\n",
       "    </tr>\n",
       "  </tbody>\n",
       "</table>\n",
       "<p>5137 rows × 20 columns</p>\n",
       "</div>"
      ],
      "text/plain": [
       "     BUS_STOP_N BUS_ROOF_N                   LOC_DESC  \\\n",
       "0         78221        B06                BLK 231A CP   \n",
       "1         63359        B01          HOUGANG SWIM CPLX   \n",
       "2         64141        B13             AFT JLN TELAWI   \n",
       "3         83139        B07           AFT JOO CHIAT PL   \n",
       "4         55231        B02  OPP SBST ANG MO KIO DEPOT   \n",
       "...         ...        ...                        ...   \n",
       "5132      24539        B03              DUNDEE MARINE   \n",
       "5133      46441        B02                    BLK 816   \n",
       "5134      64391        B04                    BLK 831   \n",
       "5135      10389        B01                     BLK 48   \n",
       "5136      28061        B09                  J GATEWAY   \n",
       "\n",
       "                         geometry  index_right  OBJECTID  SUBZONE_NO  \\\n",
       "0     POINT (42227.955 39563.156)        245.0     246.0         5.0   \n",
       "1     POINT (34065.748 39047.458)        207.0     208.0         4.0   \n",
       "2     POINT (36335.296 38525.741)        208.0     209.0         3.0   \n",
       "3     POINT (36530.265 32981.180)        166.0     167.0         5.0   \n",
       "4     POINT (29669.934 40841.514)        227.0     228.0        10.0   \n",
       "...                           ...          ...       ...         ...   \n",
       "5132   POINT (8211.954 31924.108)         78.0      79.0         5.0   \n",
       "5133  POINT (23143.267 47097.652)        305.0     306.0         2.0   \n",
       "5134  POINT (34273.668 39267.502)        242.0     243.0         1.0   \n",
       "5135  POINT (27156.674 30126.309)          6.0       7.0         9.0   \n",
       "5136  POINT (17918.729 35318.219)        134.0     135.0         5.0   \n",
       "\n",
       "            SUBZONE_N SUBZONE_C CA_IND   PLN_AREA_N PLN_AREA_C  \\\n",
       "0     PASIR RIS DRIVE    PRSZ05      N    PASIR RIS         PR   \n",
       "1        HOUGANG WEST    HGSZ04      N      HOUGANG         HG   \n",
       "2     PAYA LEBAR WEST    PLSZ03      N   PAYA LEBAR         PL   \n",
       "3             FRANKEL    BDSZ05      N        BEDOK         BD   \n",
       "4        YIO CHU KANG    AMSZ10      N   ANG MO KIO         AM   \n",
       "...               ...       ...    ...          ...        ...   \n",
       "5132   PIONEER SECTOR    PNSZ05      N      PIONEER         PN   \n",
       "5133          MIDVIEW    WDSZ02      N    WOODLANDS         WD   \n",
       "5134  HOUGANG CENTRAL    HGSZ01      N      HOUGANG         HG   \n",
       "5135    BUKIT HO SWEE    BMSZ09      N  BUKIT MERAH         BM   \n",
       "5136   JURONG GATEWAY    JESZ05      N  JURONG EAST         JE   \n",
       "\n",
       "               REGION_N REGION_C           INC_CRC  FMEL_UPD_D      X_ADDR  \\\n",
       "0           EAST REGION       ER  2B73597AF3F174F3  2014-12-05  42032.4580   \n",
       "1     NORTH-EAST REGION      NER  27B0E0BDE3579753  2014-12-05  33849.2205   \n",
       "2           EAST REGION       ER  4BADA58E2612A6E2  2014-12-05  36649.3106   \n",
       "3           EAST REGION       ER  B34F041CC4B050EC  2014-12-05  37694.5519   \n",
       "4     NORTH-EAST REGION      NER  5E2B16BB381BAEA4  2014-12-05  29443.7447   \n",
       "...                 ...      ...               ...         ...         ...   \n",
       "5132        WEST REGION       WR  F3241D6C0FEF13ED  2014-12-05   8872.7501   \n",
       "5133       NORTH REGION       NR  42D5F52D334C615F  2014-12-05  23349.7600   \n",
       "5134  NORTH-EAST REGION      NER  C4419A9A8D05E0DF  2014-12-05  34470.7005   \n",
       "5135     CENTRAL REGION       CR  7839A8577144EFE2  2014-12-05  27680.0627   \n",
       "5136        WEST REGION       WR  857DAA77ED3346BF  2014-12-05  17912.9778   \n",
       "\n",
       "          Y_ADDR   SHAPE_Leng    SHAPE_Area  \n",
       "0     38988.2187  5311.060366  1.639669e+06  \n",
       "1     39506.8724  6424.482139  1.328876e+06  \n",
       "2     39403.4873  5898.475695  6.098947e+05  \n",
       "3     33007.2679  8750.386291  4.297141e+06  \n",
       "4     40836.0207  4533.218364  9.094186e+05  \n",
       "...          ...          ...           ...  \n",
       "5132  31423.4434  8489.982578  2.796007e+06  \n",
       "5133  46841.1143  4159.201440  9.364155e+05  \n",
       "5134  39076.5963  2759.815466  4.417334e+05  \n",
       "5135  30230.8610  3275.312488  5.517320e+05  \n",
       "5136  35033.9061  3096.984110  5.546237e+05  \n",
       "\n",
       "[5137 rows x 20 columns]"
      ]
     },
     "execution_count": 11,
     "metadata": {},
     "output_type": "execute_result"
    }
   ],
   "source": [
    "from geopandas.tools import sjoin\n",
    "join_left_df_BusStop = sjoin(gdf_BusStop, gdf_Subzone, how=\"left\")\n",
    "join_left_df_BusStop"
   ]
  },
  {
   "cell_type": "markdown",
   "metadata": {},
   "source": [
    "### Filter out relevant rows for BusStop_Subzone"
   ]
  },
  {
   "cell_type": "code",
   "execution_count": 12,
   "metadata": {},
   "outputs": [
    {
     "data": {
      "text/html": [
       "<div>\n",
       "<style scoped>\n",
       "    .dataframe tbody tr th:only-of-type {\n",
       "        vertical-align: middle;\n",
       "    }\n",
       "\n",
       "    .dataframe tbody tr th {\n",
       "        vertical-align: top;\n",
       "    }\n",
       "\n",
       "    .dataframe thead th {\n",
       "        text-align: right;\n",
       "    }\n",
       "</style>\n",
       "<table border=\"1\" class=\"dataframe\">\n",
       "  <thead>\n",
       "    <tr style=\"text-align: right;\">\n",
       "      <th></th>\n",
       "      <th>BUS_STOP_N</th>\n",
       "      <th>SUBZONE_N</th>\n",
       "      <th>PLN_AREA_N</th>\n",
       "      <th>REGION_N</th>\n",
       "    </tr>\n",
       "  </thead>\n",
       "  <tbody>\n",
       "    <tr>\n",
       "      <th>0</th>\n",
       "      <td>78221</td>\n",
       "      <td>PASIR RIS DRIVE</td>\n",
       "      <td>PASIR RIS</td>\n",
       "      <td>EAST REGION</td>\n",
       "    </tr>\n",
       "    <tr>\n",
       "      <th>1</th>\n",
       "      <td>63359</td>\n",
       "      <td>HOUGANG WEST</td>\n",
       "      <td>HOUGANG</td>\n",
       "      <td>NORTH-EAST REGION</td>\n",
       "    </tr>\n",
       "    <tr>\n",
       "      <th>2</th>\n",
       "      <td>64141</td>\n",
       "      <td>PAYA LEBAR WEST</td>\n",
       "      <td>PAYA LEBAR</td>\n",
       "      <td>EAST REGION</td>\n",
       "    </tr>\n",
       "    <tr>\n",
       "      <th>3</th>\n",
       "      <td>83139</td>\n",
       "      <td>FRANKEL</td>\n",
       "      <td>BEDOK</td>\n",
       "      <td>EAST REGION</td>\n",
       "    </tr>\n",
       "    <tr>\n",
       "      <th>4</th>\n",
       "      <td>55231</td>\n",
       "      <td>YIO CHU KANG</td>\n",
       "      <td>ANG MO KIO</td>\n",
       "      <td>NORTH-EAST REGION</td>\n",
       "    </tr>\n",
       "    <tr>\n",
       "      <th>...</th>\n",
       "      <td>...</td>\n",
       "      <td>...</td>\n",
       "      <td>...</td>\n",
       "      <td>...</td>\n",
       "    </tr>\n",
       "    <tr>\n",
       "      <th>5132</th>\n",
       "      <td>24539</td>\n",
       "      <td>PIONEER SECTOR</td>\n",
       "      <td>PIONEER</td>\n",
       "      <td>WEST REGION</td>\n",
       "    </tr>\n",
       "    <tr>\n",
       "      <th>5133</th>\n",
       "      <td>46441</td>\n",
       "      <td>MIDVIEW</td>\n",
       "      <td>WOODLANDS</td>\n",
       "      <td>NORTH REGION</td>\n",
       "    </tr>\n",
       "    <tr>\n",
       "      <th>5134</th>\n",
       "      <td>64391</td>\n",
       "      <td>HOUGANG CENTRAL</td>\n",
       "      <td>HOUGANG</td>\n",
       "      <td>NORTH-EAST REGION</td>\n",
       "    </tr>\n",
       "    <tr>\n",
       "      <th>5135</th>\n",
       "      <td>10389</td>\n",
       "      <td>BUKIT HO SWEE</td>\n",
       "      <td>BUKIT MERAH</td>\n",
       "      <td>CENTRAL REGION</td>\n",
       "    </tr>\n",
       "    <tr>\n",
       "      <th>5136</th>\n",
       "      <td>28061</td>\n",
       "      <td>JURONG GATEWAY</td>\n",
       "      <td>JURONG EAST</td>\n",
       "      <td>WEST REGION</td>\n",
       "    </tr>\n",
       "  </tbody>\n",
       "</table>\n",
       "<p>5137 rows × 4 columns</p>\n",
       "</div>"
      ],
      "text/plain": [
       "     BUS_STOP_N        SUBZONE_N   PLN_AREA_N           REGION_N\n",
       "0         78221  PASIR RIS DRIVE    PASIR RIS        EAST REGION\n",
       "1         63359     HOUGANG WEST      HOUGANG  NORTH-EAST REGION\n",
       "2         64141  PAYA LEBAR WEST   PAYA LEBAR        EAST REGION\n",
       "3         83139          FRANKEL        BEDOK        EAST REGION\n",
       "4         55231     YIO CHU KANG   ANG MO KIO  NORTH-EAST REGION\n",
       "...         ...              ...          ...                ...\n",
       "5132      24539   PIONEER SECTOR      PIONEER        WEST REGION\n",
       "5133      46441          MIDVIEW    WOODLANDS       NORTH REGION\n",
       "5134      64391  HOUGANG CENTRAL      HOUGANG  NORTH-EAST REGION\n",
       "5135      10389    BUKIT HO SWEE  BUKIT MERAH     CENTRAL REGION\n",
       "5136      28061   JURONG GATEWAY  JURONG EAST        WEST REGION\n",
       "\n",
       "[5137 rows x 4 columns]"
      ]
     },
     "execution_count": 12,
     "metadata": {},
     "output_type": "execute_result"
    }
   ],
   "source": [
    "BusStop_Subzone = join_left_df_BusStop.filter(['BUS_STOP_N','SUBZONE_N','PLN_AREA_N', 'REGION_N'], axis=1)\n",
    "BusStop_Subzone"
   ]
  },
  {
   "cell_type": "code",
   "execution_count": 13,
   "metadata": {},
   "outputs": [],
   "source": [
    "#BusStop_Subzone_count = BusStop_Subzone.groupby('SUBZONE_N').count()\n",
    "#BusStop_Subzone_count = BusStop_Subzone_count.filter(['SUBZONE_N', 'BUS_STOP_N'], axis=1)\n",
    "#BusStop_Subzone_count"
   ]
  },
  {
   "cell_type": "markdown",
   "metadata": {},
   "source": [
    "### Using Geopandas to Import MRT Stops"
   ]
  },
  {
   "cell_type": "code",
   "execution_count": 14,
   "metadata": {},
   "outputs": [],
   "source": [
    "#Load into GeoDataFrame\n",
    "gdf_MRTStop = gpd.read_file('MRTLRTStnPtt.shp')"
   ]
  },
  {
   "cell_type": "code",
   "execution_count": 15,
   "metadata": {},
   "outputs": [
    {
     "data": {
      "text/html": [
       "<div>\n",
       "<style scoped>\n",
       "    .dataframe tbody tr th:only-of-type {\n",
       "        vertical-align: middle;\n",
       "    }\n",
       "\n",
       "    .dataframe tbody tr th {\n",
       "        vertical-align: top;\n",
       "    }\n",
       "\n",
       "    .dataframe thead th {\n",
       "        text-align: right;\n",
       "    }\n",
       "</style>\n",
       "<table border=\"1\" class=\"dataframe\">\n",
       "  <thead>\n",
       "    <tr style=\"text-align: right;\">\n",
       "      <th></th>\n",
       "      <th>OBJECTID</th>\n",
       "      <th>STN_NAME</th>\n",
       "      <th>STN_NO</th>\n",
       "      <th>geometry</th>\n",
       "    </tr>\n",
       "  </thead>\n",
       "  <tbody>\n",
       "    <tr>\n",
       "      <th>0</th>\n",
       "      <td>1</td>\n",
       "      <td>EUNOS MRT STATION</td>\n",
       "      <td>EW7</td>\n",
       "      <td>POINT (35782.955 33560.078)</td>\n",
       "    </tr>\n",
       "    <tr>\n",
       "      <th>1</th>\n",
       "      <td>2</td>\n",
       "      <td>CHINESE GARDEN MRT STATION</td>\n",
       "      <td>EW25</td>\n",
       "      <td>POINT (16790.747 36056.302)</td>\n",
       "    </tr>\n",
       "    <tr>\n",
       "      <th>2</th>\n",
       "      <td>3</td>\n",
       "      <td>KHATIB MRT STATION</td>\n",
       "      <td>NS14</td>\n",
       "      <td>POINT (27962.311 44352.568)</td>\n",
       "    </tr>\n",
       "    <tr>\n",
       "      <th>3</th>\n",
       "      <td>4</td>\n",
       "      <td>KRANJI MRT STATION</td>\n",
       "      <td>NS7</td>\n",
       "      <td>POINT (20081.697 45214.548)</td>\n",
       "    </tr>\n",
       "    <tr>\n",
       "      <th>4</th>\n",
       "      <td>5</td>\n",
       "      <td>REDHILL MRT STATION</td>\n",
       "      <td>EW18</td>\n",
       "      <td>POINT (26163.478 30218.820)</td>\n",
       "    </tr>\n",
       "  </tbody>\n",
       "</table>\n",
       "</div>"
      ],
      "text/plain": [
       "   OBJECTID                    STN_NAME STN_NO                     geometry\n",
       "0         1           EUNOS MRT STATION    EW7  POINT (35782.955 33560.078)\n",
       "1         2  CHINESE GARDEN MRT STATION   EW25  POINT (16790.747 36056.302)\n",
       "2         3          KHATIB MRT STATION   NS14  POINT (27962.311 44352.568)\n",
       "3         4          KRANJI MRT STATION    NS7  POINT (20081.697 45214.548)\n",
       "4         5         REDHILL MRT STATION   EW18  POINT (26163.478 30218.820)"
      ]
     },
     "execution_count": 15,
     "metadata": {},
     "output_type": "execute_result"
    }
   ],
   "source": [
    "gdf_MRTStop.head()"
   ]
  },
  {
   "cell_type": "code",
   "execution_count": 16,
   "metadata": {},
   "outputs": [
    {
     "data": {
      "text/plain": [
       "<AxesSubplot:>"
      ]
     },
     "execution_count": 16,
     "metadata": {},
     "output_type": "execute_result"
    },
    {
     "data": {
      "image/png": "[encoded data removed]",
      "text/plain": [
       "<Figure size 432x288 with 1 Axes>"
      ]
     },
     "metadata": {
      "needs_background": "light"
     },
     "output_type": "display_data"
    }
   ],
   "source": [
    "gdf_MRTStop.plot()"
   ]
  },
  {
   "cell_type": "markdown",
   "metadata": {},
   "source": [
    "### Left join MRTStops with Subzone"
   ]
  },
  {
   "cell_type": "code",
   "execution_count": 17,
   "metadata": {
    "scrolled": true
   },
   "outputs": [
    {
     "data": {
      "text/html": [
       "<div>\n",
       "<style scoped>\n",
       "    .dataframe tbody tr th:only-of-type {\n",
       "        vertical-align: middle;\n",
       "    }\n",
       "\n",
       "    .dataframe tbody tr th {\n",
       "        vertical-align: top;\n",
       "    }\n",
       "\n",
       "    .dataframe thead th {\n",
       "        text-align: right;\n",
       "    }\n",
       "</style>\n",
       "<table border=\"1\" class=\"dataframe\">\n",
       "  <thead>\n",
       "    <tr style=\"text-align: right;\">\n",
       "      <th></th>\n",
       "      <th>OBJECTID_left</th>\n",
       "      <th>STN_NAME</th>\n",
       "      <th>STN_NO</th>\n",
       "      <th>geometry</th>\n",
       "      <th>index_right</th>\n",
       "      <th>OBJECTID_right</th>\n",
       "      <th>SUBZONE_NO</th>\n",
       "      <th>SUBZONE_N</th>\n",
       "      <th>SUBZONE_C</th>\n",
       "      <th>CA_IND</th>\n",
       "      <th>PLN_AREA_N</th>\n",
       "      <th>PLN_AREA_C</th>\n",
       "      <th>REGION_N</th>\n",
       "      <th>REGION_C</th>\n",
       "      <th>INC_CRC</th>\n",
       "      <th>FMEL_UPD_D</th>\n",
       "      <th>X_ADDR</th>\n",
       "      <th>Y_ADDR</th>\n",
       "      <th>SHAPE_Leng</th>\n",
       "      <th>SHAPE_Area</th>\n",
       "    </tr>\n",
       "  </thead>\n",
       "  <tbody>\n",
       "    <tr>\n",
       "      <th>0</th>\n",
       "      <td>1</td>\n",
       "      <td>EUNOS MRT STATION</td>\n",
       "      <td>EW7</td>\n",
       "      <td>POINT (35782.955 33560.078)</td>\n",
       "      <td>169</td>\n",
       "      <td>170</td>\n",
       "      <td>5</td>\n",
       "      <td>GEYLANG EAST</td>\n",
       "      <td>GLSZ05</td>\n",
       "      <td>N</td>\n",
       "      <td>GEYLANG</td>\n",
       "      <td>GL</td>\n",
       "      <td>CENTRAL REGION</td>\n",
       "      <td>CR</td>\n",
       "      <td>58687154BD252A0A</td>\n",
       "      <td>2014-12-05</td>\n",
       "      <td>35237.1681</td>\n",
       "      <td>33246.0587</td>\n",
       "      <td>7028.340071</td>\n",
       "      <td>2.579087e+06</td>\n",
       "    </tr>\n",
       "    <tr>\n",
       "      <th>1</th>\n",
       "      <td>2</td>\n",
       "      <td>CHINESE GARDEN MRT STATION</td>\n",
       "      <td>EW25</td>\n",
       "      <td>POINT (16790.747 36056.302)</td>\n",
       "      <td>146</td>\n",
       "      <td>147</td>\n",
       "      <td>4</td>\n",
       "      <td>LAKESIDE</td>\n",
       "      <td>JESZ04</td>\n",
       "      <td>N</td>\n",
       "      <td>JURONG EAST</td>\n",
       "      <td>JE</td>\n",
       "      <td>WEST REGION</td>\n",
       "      <td>WR</td>\n",
       "      <td>3BBFD45071B70ECF</td>\n",
       "      <td>2014-12-05</td>\n",
       "      <td>16697.0118</td>\n",
       "      <td>35114.9062</td>\n",
       "      <td>8828.633830</td>\n",
       "      <td>3.108023e+06</td>\n",
       "    </tr>\n",
       "    <tr>\n",
       "      <th>2</th>\n",
       "      <td>3</td>\n",
       "      <td>KHATIB MRT STATION</td>\n",
       "      <td>NS14</td>\n",
       "      <td>POINT (27962.311 44352.568)</td>\n",
       "      <td>316</td>\n",
       "      <td>317</td>\n",
       "      <td>8</td>\n",
       "      <td>KHATIB</td>\n",
       "      <td>YSSZ08</td>\n",
       "      <td>N</td>\n",
       "      <td>YISHUN</td>\n",
       "      <td>YS</td>\n",
       "      <td>NORTH REGION</td>\n",
       "      <td>NR</td>\n",
       "      <td>DC75517DA31123DB</td>\n",
       "      <td>2014-12-05</td>\n",
       "      <td>27480.6357</td>\n",
       "      <td>44420.6884</td>\n",
       "      <td>4956.145735</td>\n",
       "      <td>1.432913e+06</td>\n",
       "    </tr>\n",
       "    <tr>\n",
       "      <th>3</th>\n",
       "      <td>4</td>\n",
       "      <td>KRANJI MRT STATION</td>\n",
       "      <td>NS7</td>\n",
       "      <td>POINT (20081.697 45214.548)</td>\n",
       "      <td>280</td>\n",
       "      <td>281</td>\n",
       "      <td>2</td>\n",
       "      <td>TURF CLUB</td>\n",
       "      <td>SKSZ02</td>\n",
       "      <td>N</td>\n",
       "      <td>SUNGEI KADUT</td>\n",
       "      <td>SK</td>\n",
       "      <td>NORTH REGION</td>\n",
       "      <td>NR</td>\n",
       "      <td>17459E60C3EEAF30</td>\n",
       "      <td>2014-12-05</td>\n",
       "      <td>20234.6006</td>\n",
       "      <td>44507.1901</td>\n",
       "      <td>7665.676019</td>\n",
       "      <td>3.291406e+06</td>\n",
       "    </tr>\n",
       "    <tr>\n",
       "      <th>4</th>\n",
       "      <td>5</td>\n",
       "      <td>REDHILL MRT STATION</td>\n",
       "      <td>EW18</td>\n",
       "      <td>POINT (26163.478 30218.820)</td>\n",
       "      <td>4</td>\n",
       "      <td>5</td>\n",
       "      <td>3</td>\n",
       "      <td>REDHILL</td>\n",
       "      <td>BMSZ03</td>\n",
       "      <td>N</td>\n",
       "      <td>BUKIT MERAH</td>\n",
       "      <td>BM</td>\n",
       "      <td>CENTRAL REGION</td>\n",
       "      <td>CR</td>\n",
       "      <td>85D9ABEF0A40678F</td>\n",
       "      <td>2014-12-05</td>\n",
       "      <td>26201.9580</td>\n",
       "      <td>30005.7035</td>\n",
       "      <td>2825.594099</td>\n",
       "      <td>3.874294e+05</td>\n",
       "    </tr>\n",
       "    <tr>\n",
       "      <th>...</th>\n",
       "      <td>...</td>\n",
       "      <td>...</td>\n",
       "      <td>...</td>\n",
       "      <td>...</td>\n",
       "      <td>...</td>\n",
       "      <td>...</td>\n",
       "      <td>...</td>\n",
       "      <td>...</td>\n",
       "      <td>...</td>\n",
       "      <td>...</td>\n",
       "      <td>...</td>\n",
       "      <td>...</td>\n",
       "      <td>...</td>\n",
       "      <td>...</td>\n",
       "      <td>...</td>\n",
       "      <td>...</td>\n",
       "      <td>...</td>\n",
       "      <td>...</td>\n",
       "      <td>...</td>\n",
       "      <td>...</td>\n",
       "    </tr>\n",
       "    <tr>\n",
       "      <th>180</th>\n",
       "      <td>189</td>\n",
       "      <td>TELOK BLANGAH MRT STATION</td>\n",
       "      <td>CC28</td>\n",
       "      <td>POINT (25376.847 28138.967)</td>\n",
       "      <td>23</td>\n",
       "      <td>24</td>\n",
       "      <td>1</td>\n",
       "      <td>MARITIME SQUARE</td>\n",
       "      <td>BMSZ01</td>\n",
       "      <td>N</td>\n",
       "      <td>BUKIT MERAH</td>\n",
       "      <td>BM</td>\n",
       "      <td>CENTRAL REGION</td>\n",
       "      <td>CR</td>\n",
       "      <td>C1AC31ABF9978DDB</td>\n",
       "      <td>2014-12-05</td>\n",
       "      <td>25805.7867</td>\n",
       "      <td>27911.4193</td>\n",
       "      <td>13737.116181</td>\n",
       "      <td>2.701634e+06</td>\n",
       "    </tr>\n",
       "    <tr>\n",
       "      <th>181</th>\n",
       "      <td>190</td>\n",
       "      <td>TELOK AYER MRT STATION</td>\n",
       "      <td>DT18</td>\n",
       "      <td>POINT (29667.622 29414.587)</td>\n",
       "      <td>35</td>\n",
       "      <td>36</td>\n",
       "      <td>3</td>\n",
       "      <td>CHINATOWN</td>\n",
       "      <td>OTSZ03</td>\n",
       "      <td>Y</td>\n",
       "      <td>OUTRAM</td>\n",
       "      <td>OT</td>\n",
       "      <td>CENTRAL REGION</td>\n",
       "      <td>CR</td>\n",
       "      <td>0FF1661344C84AED</td>\n",
       "      <td>2014-12-05</td>\n",
       "      <td>29153.9676</td>\n",
       "      <td>29158.0443</td>\n",
       "      <td>4297.599910</td>\n",
       "      <td>5.872227e+05</td>\n",
       "    </tr>\n",
       "    <tr>\n",
       "      <th>182</th>\n",
       "      <td>191</td>\n",
       "      <td>NEWTON MRT STATION</td>\n",
       "      <td>NS21</td>\n",
       "      <td>POINT (28519.362 32735.207)</td>\n",
       "      <td>120</td>\n",
       "      <td>121</td>\n",
       "      <td>3</td>\n",
       "      <td>NEWTON CIRCUS</td>\n",
       "      <td>NTSZ03</td>\n",
       "      <td>Y</td>\n",
       "      <td>NEWTON</td>\n",
       "      <td>NT</td>\n",
       "      <td>CENTRAL REGION</td>\n",
       "      <td>CR</td>\n",
       "      <td>8B2F19EEE51EDA60</td>\n",
       "      <td>2014-12-05</td>\n",
       "      <td>28587.1626</td>\n",
       "      <td>32653.9428</td>\n",
       "      <td>2399.407300</td>\n",
       "      <td>2.135816e+05</td>\n",
       "    </tr>\n",
       "    <tr>\n",
       "      <th>183</th>\n",
       "      <td>0</td>\n",
       "      <td>CANBERRA MRT STATION</td>\n",
       "      <td>NS12</td>\n",
       "      <td>POINT (27598.622 47200.242)</td>\n",
       "      <td>307</td>\n",
       "      <td>308</td>\n",
       "      <td>2</td>\n",
       "      <td>SEMBAWANG SPRINGS</td>\n",
       "      <td>SBSZ02</td>\n",
       "      <td>N</td>\n",
       "      <td>SEMBAWANG</td>\n",
       "      <td>SB</td>\n",
       "      <td>NORTH REGION</td>\n",
       "      <td>NR</td>\n",
       "      <td>C739B507A1ACBDB3</td>\n",
       "      <td>2014-12-05</td>\n",
       "      <td>27076.8118</td>\n",
       "      <td>46959.0886</td>\n",
       "      <td>4212.042247</td>\n",
       "      <td>1.099395e+06</td>\n",
       "    </tr>\n",
       "    <tr>\n",
       "      <th>184</th>\n",
       "      <td>0</td>\n",
       "      <td>WOODLANDS NORTH MRT STATION</td>\n",
       "      <td>TE1</td>\n",
       "      <td>POINT (22699.993 47770.400)</td>\n",
       "      <td>291</td>\n",
       "      <td>292</td>\n",
       "      <td>7</td>\n",
       "      <td>GREENWOOD PARK</td>\n",
       "      <td>WDSZ07</td>\n",
       "      <td>N</td>\n",
       "      <td>WOODLANDS</td>\n",
       "      <td>WD</td>\n",
       "      <td>NORTH REGION</td>\n",
       "      <td>NR</td>\n",
       "      <td>A38714A4F4163DCE</td>\n",
       "      <td>2014-12-05</td>\n",
       "      <td>22608.3894</td>\n",
       "      <td>47660.0645</td>\n",
       "      <td>4620.865567</td>\n",
       "      <td>1.281297e+06</td>\n",
       "    </tr>\n",
       "  </tbody>\n",
       "</table>\n",
       "<p>185 rows × 20 columns</p>\n",
       "</div>"
      ],
      "text/plain": [
       "     OBJECTID_left                     STN_NAME STN_NO  \\\n",
       "0                1            EUNOS MRT STATION    EW7   \n",
       "1                2   CHINESE GARDEN MRT STATION   EW25   \n",
       "2                3           KHATIB MRT STATION   NS14   \n",
       "3                4           KRANJI MRT STATION    NS7   \n",
       "4                5          REDHILL MRT STATION   EW18   \n",
       "..             ...                          ...    ...   \n",
       "180            189    TELOK BLANGAH MRT STATION   CC28   \n",
       "181            190       TELOK AYER MRT STATION   DT18   \n",
       "182            191           NEWTON MRT STATION   NS21   \n",
       "183              0         CANBERRA MRT STATION   NS12   \n",
       "184              0  WOODLANDS NORTH MRT STATION    TE1   \n",
       "\n",
       "                        geometry  index_right  OBJECTID_right  SUBZONE_NO  \\\n",
       "0    POINT (35782.955 33560.078)          169             170           5   \n",
       "1    POINT (16790.747 36056.302)          146             147           4   \n",
       "2    POINT (27962.311 44352.568)          316             317           8   \n",
       "3    POINT (20081.697 45214.548)          280             281           2   \n",
       "4    POINT (26163.478 30218.820)            4               5           3   \n",
       "..                           ...          ...             ...         ...   \n",
       "180  POINT (25376.847 28138.967)           23              24           1   \n",
       "181  POINT (29667.622 29414.587)           35              36           3   \n",
       "182  POINT (28519.362 32735.207)          120             121           3   \n",
       "183  POINT (27598.622 47200.242)          307             308           2   \n",
       "184  POINT (22699.993 47770.400)          291             292           7   \n",
       "\n",
       "             SUBZONE_N SUBZONE_C CA_IND    PLN_AREA_N PLN_AREA_C  \\\n",
       "0         GEYLANG EAST    GLSZ05      N       GEYLANG         GL   \n",
       "1             LAKESIDE    JESZ04      N   JURONG EAST         JE   \n",
       "2               KHATIB    YSSZ08      N        YISHUN         YS   \n",
       "3            TURF CLUB    SKSZ02      N  SUNGEI KADUT         SK   \n",
       "4              REDHILL    BMSZ03      N   BUKIT MERAH         BM   \n",
       "..                 ...       ...    ...           ...        ...   \n",
       "180    MARITIME SQUARE    BMSZ01      N   BUKIT MERAH         BM   \n",
       "181          CHINATOWN    OTSZ03      Y        OUTRAM         OT   \n",
       "182      NEWTON CIRCUS    NTSZ03      Y        NEWTON         NT   \n",
       "183  SEMBAWANG SPRINGS    SBSZ02      N     SEMBAWANG         SB   \n",
       "184     GREENWOOD PARK    WDSZ07      N     WOODLANDS         WD   \n",
       "\n",
       "           REGION_N REGION_C           INC_CRC  FMEL_UPD_D      X_ADDR  \\\n",
       "0    CENTRAL REGION       CR  58687154BD252A0A  2014-12-05  35237.1681   \n",
       "1       WEST REGION       WR  3BBFD45071B70ECF  2014-12-05  16697.0118   \n",
       "2      NORTH REGION       NR  DC75517DA31123DB  2014-12-05  27480.6357   \n",
       "3      NORTH REGION       NR  17459E60C3EEAF30  2014-12-05  20234.6006   \n",
       "4    CENTRAL REGION       CR  85D9ABEF0A40678F  2014-12-05  26201.9580   \n",
       "..              ...      ...               ...         ...         ...   \n",
       "180  CENTRAL REGION       CR  C1AC31ABF9978DDB  2014-12-05  25805.7867   \n",
       "181  CENTRAL REGION       CR  0FF1661344C84AED  2014-12-05  29153.9676   \n",
       "182  CENTRAL REGION       CR  8B2F19EEE51EDA60  2014-12-05  28587.1626   \n",
       "183    NORTH REGION       NR  C739B507A1ACBDB3  2014-12-05  27076.8118   \n",
       "184    NORTH REGION       NR  A38714A4F4163DCE  2014-12-05  22608.3894   \n",
       "\n",
       "         Y_ADDR    SHAPE_Leng    SHAPE_Area  \n",
       "0    33246.0587   7028.340071  2.579087e+06  \n",
       "1    35114.9062   8828.633830  3.108023e+06  \n",
       "2    44420.6884   4956.145735  1.432913e+06  \n",
       "3    44507.1901   7665.676019  3.291406e+06  \n",
       "4    30005.7035   2825.594099  3.874294e+05  \n",
       "..          ...           ...           ...  \n",
       "180  27911.4193  13737.116181  2.701634e+06  \n",
       "181  29158.0443   4297.599910  5.872227e+05  \n",
       "182  32653.9428   2399.407300  2.135816e+05  \n",
       "183  46959.0886   4212.042247  1.099395e+06  \n",
       "184  47660.0645   4620.865567  1.281297e+06  \n",
       "\n",
       "[185 rows x 20 columns]"
      ]
     },
     "execution_count": 17,
     "metadata": {},
     "output_type": "execute_result"
    }
   ],
   "source": [
    "from geopandas.tools import sjoin\n",
    "join_left_df_MRTStop = sjoin(gdf_MRTStop, gdf_Subzone, how=\"left\")\n",
    "join_left_df_MRTStop\n",
    "# Note the NaNs where the point did not intersect a boro"
   ]
  },
  {
   "cell_type": "markdown",
   "metadata": {},
   "source": [
    "### Filter out relevant rows for MRTStop_Subzone"
   ]
  },
  {
   "cell_type": "code",
   "execution_count": 18,
   "metadata": {
    "scrolled": true
   },
   "outputs": [
    {
     "data": {
      "text/html": [
       "<div>\n",
       "<style scoped>\n",
       "    .dataframe tbody tr th:only-of-type {\n",
       "        vertical-align: middle;\n",
       "    }\n",
       "\n",
       "    .dataframe tbody tr th {\n",
       "        vertical-align: top;\n",
       "    }\n",
       "\n",
       "    .dataframe thead th {\n",
       "        text-align: right;\n",
       "    }\n",
       "</style>\n",
       "<table border=\"1\" class=\"dataframe\">\n",
       "  <thead>\n",
       "    <tr style=\"text-align: right;\">\n",
       "      <th></th>\n",
       "      <th>STN_NAME</th>\n",
       "      <th>STN_NO</th>\n",
       "      <th>SUBZONE_N</th>\n",
       "      <th>PLN_AREA_N</th>\n",
       "      <th>REGION_N</th>\n",
       "    </tr>\n",
       "  </thead>\n",
       "  <tbody>\n",
       "    <tr>\n",
       "      <th>0</th>\n",
       "      <td>EUNOS MRT STATION</td>\n",
       "      <td>EW7</td>\n",
       "      <td>GEYLANG EAST</td>\n",
       "      <td>GEYLANG</td>\n",
       "      <td>CENTRAL REGION</td>\n",
       "    </tr>\n",
       "    <tr>\n",
       "      <th>1</th>\n",
       "      <td>CHINESE GARDEN MRT STATION</td>\n",
       "      <td>EW25</td>\n",
       "      <td>LAKESIDE</td>\n",
       "      <td>JURONG EAST</td>\n",
       "      <td>WEST REGION</td>\n",
       "    </tr>\n",
       "    <tr>\n",
       "      <th>2</th>\n",
       "      <td>KHATIB MRT STATION</td>\n",
       "      <td>NS14</td>\n",
       "      <td>KHATIB</td>\n",
       "      <td>YISHUN</td>\n",
       "      <td>NORTH REGION</td>\n",
       "    </tr>\n",
       "    <tr>\n",
       "      <th>3</th>\n",
       "      <td>KRANJI MRT STATION</td>\n",
       "      <td>NS7</td>\n",
       "      <td>TURF CLUB</td>\n",
       "      <td>SUNGEI KADUT</td>\n",
       "      <td>NORTH REGION</td>\n",
       "    </tr>\n",
       "    <tr>\n",
       "      <th>4</th>\n",
       "      <td>REDHILL MRT STATION</td>\n",
       "      <td>EW18</td>\n",
       "      <td>REDHILL</td>\n",
       "      <td>BUKIT MERAH</td>\n",
       "      <td>CENTRAL REGION</td>\n",
       "    </tr>\n",
       "    <tr>\n",
       "      <th>...</th>\n",
       "      <td>...</td>\n",
       "      <td>...</td>\n",
       "      <td>...</td>\n",
       "      <td>...</td>\n",
       "      <td>...</td>\n",
       "    </tr>\n",
       "    <tr>\n",
       "      <th>180</th>\n",
       "      <td>TELOK BLANGAH MRT STATION</td>\n",
       "      <td>CC28</td>\n",
       "      <td>MARITIME SQUARE</td>\n",
       "      <td>BUKIT MERAH</td>\n",
       "      <td>CENTRAL REGION</td>\n",
       "    </tr>\n",
       "    <tr>\n",
       "      <th>181</th>\n",
       "      <td>TELOK AYER MRT STATION</td>\n",
       "      <td>DT18</td>\n",
       "      <td>CHINATOWN</td>\n",
       "      <td>OUTRAM</td>\n",
       "      <td>CENTRAL REGION</td>\n",
       "    </tr>\n",
       "    <tr>\n",
       "      <th>182</th>\n",
       "      <td>NEWTON MRT STATION</td>\n",
       "      <td>NS21</td>\n",
       "      <td>NEWTON CIRCUS</td>\n",
       "      <td>NEWTON</td>\n",
       "      <td>CENTRAL REGION</td>\n",
       "    </tr>\n",
       "    <tr>\n",
       "      <th>183</th>\n",
       "      <td>CANBERRA MRT STATION</td>\n",
       "      <td>NS12</td>\n",
       "      <td>SEMBAWANG SPRINGS</td>\n",
       "      <td>SEMBAWANG</td>\n",
       "      <td>NORTH REGION</td>\n",
       "    </tr>\n",
       "    <tr>\n",
       "      <th>184</th>\n",
       "      <td>WOODLANDS NORTH MRT STATION</td>\n",
       "      <td>TE1</td>\n",
       "      <td>GREENWOOD PARK</td>\n",
       "      <td>WOODLANDS</td>\n",
       "      <td>NORTH REGION</td>\n",
       "    </tr>\n",
       "  </tbody>\n",
       "</table>\n",
       "<p>185 rows × 5 columns</p>\n",
       "</div>"
      ],
      "text/plain": [
       "                        STN_NAME STN_NO          SUBZONE_N    PLN_AREA_N  \\\n",
       "0              EUNOS MRT STATION    EW7       GEYLANG EAST       GEYLANG   \n",
       "1     CHINESE GARDEN MRT STATION   EW25           LAKESIDE   JURONG EAST   \n",
       "2             KHATIB MRT STATION   NS14             KHATIB        YISHUN   \n",
       "3             KRANJI MRT STATION    NS7          TURF CLUB  SUNGEI KADUT   \n",
       "4            REDHILL MRT STATION   EW18            REDHILL   BUKIT MERAH   \n",
       "..                           ...    ...                ...           ...   \n",
       "180    TELOK BLANGAH MRT STATION   CC28    MARITIME SQUARE   BUKIT MERAH   \n",
       "181       TELOK AYER MRT STATION   DT18          CHINATOWN        OUTRAM   \n",
       "182           NEWTON MRT STATION   NS21      NEWTON CIRCUS        NEWTON   \n",
       "183         CANBERRA MRT STATION   NS12  SEMBAWANG SPRINGS     SEMBAWANG   \n",
       "184  WOODLANDS NORTH MRT STATION    TE1     GREENWOOD PARK     WOODLANDS   \n",
       "\n",
       "           REGION_N  \n",
       "0    CENTRAL REGION  \n",
       "1       WEST REGION  \n",
       "2      NORTH REGION  \n",
       "3      NORTH REGION  \n",
       "4    CENTRAL REGION  \n",
       "..              ...  \n",
       "180  CENTRAL REGION  \n",
       "181  CENTRAL REGION  \n",
       "182  CENTRAL REGION  \n",
       "183    NORTH REGION  \n",
       "184    NORTH REGION  \n",
       "\n",
       "[185 rows x 5 columns]"
      ]
     },
     "execution_count": 18,
     "metadata": {},
     "output_type": "execute_result"
    }
   ],
   "source": [
    "MRTStop_Subzone = join_left_df_MRTStop.filter(['STN_NAME', 'STN_NO', 'SUBZONE_N', 'PLN_AREA_N', 'REGION_N'], axis=1)\n",
    "MRTStop_Subzone"
   ]
  },
  {
   "cell_type": "markdown",
   "metadata": {},
   "source": [
    "### EXAMPLE: MRT Stops by tap-in tap-out volume"
   ]
  },
  {
   "cell_type": "code",
   "execution_count": 19,
   "metadata": {
    "scrolled": true
   },
   "outputs": [
    {
     "data": {
      "text/plain": [
       "PT_CODE\n",
       "BP10    183991\n",
       "BP11    165351\n",
       "BP12    126103\n",
       "BP13     65108\n",
       "BP2     151841\n",
       "         ...  \n",
       "SW6     171376\n",
       "SW7     127504\n",
       "SW8     101888\n",
       "TE1      98724\n",
       "TE3     141889\n",
       "Name: TOTAL_TAP_VOLUME, Length: 159, dtype: int64"
      ]
     },
     "execution_count": 19,
     "metadata": {},
     "output_type": "execute_result"
    }
   ],
   "source": [
    "MRTStop_TITO = pd.read_csv('2.8_transport_node_train_202101.csv')    \n",
    "sum_column = MRTStop_TITO[\"TOTAL_TAP_IN_VOLUME\"] + MRTStop_TITO[\"TOTAL_TAP_OUT_VOLUME\"]\n",
    "MRTStop_TITO[\"TOTAL_TAP_VOLUME\"] = sum_column\n",
    "MRTStop_TITO = MRTStop_TITO.filter(['PT_CODE', 'TOTAL_TAP_VOLUME'], axis=1)\n",
    "MRTStop_TITO = MRTStop_TITO.groupby('PT_CODE')['TOTAL_TAP_VOLUME'].sum()\n",
    "MRTStop_TITO"
   ]
  },
  {
   "cell_type": "markdown",
   "metadata": {},
   "source": [
    "### EXAMPLE: Merge MRT Stops by tap-in tap-out volume with MRTStop_Subzone"
   ]
  },
  {
   "cell_type": "code",
   "execution_count": 20,
   "metadata": {},
   "outputs": [
    {
     "data": {
      "text/html": [
       "<div>\n",
       "<style scoped>\n",
       "    .dataframe tbody tr th:only-of-type {\n",
       "        vertical-align: middle;\n",
       "    }\n",
       "\n",
       "    .dataframe tbody tr th {\n",
       "        vertical-align: top;\n",
       "    }\n",
       "\n",
       "    .dataframe thead th {\n",
       "        text-align: right;\n",
       "    }\n",
       "</style>\n",
       "<table border=\"1\" class=\"dataframe\">\n",
       "  <thead>\n",
       "    <tr style=\"text-align: right;\">\n",
       "      <th></th>\n",
       "      <th>STN_NAME</th>\n",
       "      <th>STN_NO</th>\n",
       "      <th>SUBZONE_N</th>\n",
       "      <th>PLN_AREA_N</th>\n",
       "      <th>REGION_N</th>\n",
       "      <th>TOTAL_TAP_VOLUME</th>\n",
       "    </tr>\n",
       "  </thead>\n",
       "  <tbody>\n",
       "    <tr>\n",
       "      <th>0</th>\n",
       "      <td>EUNOS MRT STATION</td>\n",
       "      <td>EW7</td>\n",
       "      <td>GEYLANG EAST</td>\n",
       "      <td>GEYLANG</td>\n",
       "      <td>CENTRAL REGION</td>\n",
       "      <td>642053</td>\n",
       "    </tr>\n",
       "    <tr>\n",
       "      <th>1</th>\n",
       "      <td>CHINESE GARDEN MRT STATION</td>\n",
       "      <td>EW25</td>\n",
       "      <td>LAKESIDE</td>\n",
       "      <td>JURONG EAST</td>\n",
       "      <td>WEST REGION</td>\n",
       "      <td>406676</td>\n",
       "    </tr>\n",
       "    <tr>\n",
       "      <th>2</th>\n",
       "      <td>KHATIB MRT STATION</td>\n",
       "      <td>NS14</td>\n",
       "      <td>KHATIB</td>\n",
       "      <td>YISHUN</td>\n",
       "      <td>NORTH REGION</td>\n",
       "      <td>1448844</td>\n",
       "    </tr>\n",
       "    <tr>\n",
       "      <th>3</th>\n",
       "      <td>KRANJI MRT STATION</td>\n",
       "      <td>NS7</td>\n",
       "      <td>TURF CLUB</td>\n",
       "      <td>SUNGEI KADUT</td>\n",
       "      <td>NORTH REGION</td>\n",
       "      <td>262221</td>\n",
       "    </tr>\n",
       "    <tr>\n",
       "      <th>4</th>\n",
       "      <td>REDHILL MRT STATION</td>\n",
       "      <td>EW18</td>\n",
       "      <td>REDHILL</td>\n",
       "      <td>BUKIT MERAH</td>\n",
       "      <td>CENTRAL REGION</td>\n",
       "      <td>766934</td>\n",
       "    </tr>\n",
       "    <tr>\n",
       "      <th>5</th>\n",
       "      <td>YEW TEE MRT STATION</td>\n",
       "      <td>NS5</td>\n",
       "      <td>YEW TEE</td>\n",
       "      <td>CHOA CHU KANG</td>\n",
       "      <td>WEST REGION</td>\n",
       "      <td>1410006</td>\n",
       "    </tr>\n",
       "    <tr>\n",
       "      <th>6</th>\n",
       "      <td>PIONEER MRT STATION</td>\n",
       "      <td>EW28</td>\n",
       "      <td>JURONG WEST CENTRAL</td>\n",
       "      <td>JURONG WEST</td>\n",
       "      <td>WEST REGION</td>\n",
       "      <td>1190585</td>\n",
       "    </tr>\n",
       "    <tr>\n",
       "      <th>7</th>\n",
       "      <td>COMMONWEALTH MRT STATION</td>\n",
       "      <td>EW20</td>\n",
       "      <td>COMMONWEALTH</td>\n",
       "      <td>QUEENSTOWN</td>\n",
       "      <td>CENTRAL REGION</td>\n",
       "      <td>640451</td>\n",
       "    </tr>\n",
       "    <tr>\n",
       "      <th>8</th>\n",
       "      <td>SIMEI MRT STATION</td>\n",
       "      <td>EW3</td>\n",
       "      <td>SIMEI</td>\n",
       "      <td>TAMPINES</td>\n",
       "      <td>EAST REGION</td>\n",
       "      <td>769284</td>\n",
       "    </tr>\n",
       "    <tr>\n",
       "      <th>9</th>\n",
       "      <td>ADMIRALTY MRT STATION</td>\n",
       "      <td>NS10</td>\n",
       "      <td>WOODLANDS EAST</td>\n",
       "      <td>WOODLANDS</td>\n",
       "      <td>NORTH REGION</td>\n",
       "      <td>2150081</td>\n",
       "    </tr>\n",
       "  </tbody>\n",
       "</table>\n",
       "</div>"
      ],
      "text/plain": [
       "                     STN_NAME STN_NO            SUBZONE_N     PLN_AREA_N  \\\n",
       "0           EUNOS MRT STATION    EW7         GEYLANG EAST        GEYLANG   \n",
       "1  CHINESE GARDEN MRT STATION   EW25             LAKESIDE    JURONG EAST   \n",
       "2          KHATIB MRT STATION   NS14               KHATIB         YISHUN   \n",
       "3          KRANJI MRT STATION    NS7            TURF CLUB   SUNGEI KADUT   \n",
       "4         REDHILL MRT STATION   EW18              REDHILL    BUKIT MERAH   \n",
       "5         YEW TEE MRT STATION    NS5              YEW TEE  CHOA CHU KANG   \n",
       "6         PIONEER MRT STATION   EW28  JURONG WEST CENTRAL    JURONG WEST   \n",
       "7    COMMONWEALTH MRT STATION   EW20         COMMONWEALTH     QUEENSTOWN   \n",
       "8           SIMEI MRT STATION    EW3                SIMEI       TAMPINES   \n",
       "9       ADMIRALTY MRT STATION   NS10       WOODLANDS EAST      WOODLANDS   \n",
       "\n",
       "         REGION_N  TOTAL_TAP_VOLUME  \n",
       "0  CENTRAL REGION            642053  \n",
       "1     WEST REGION            406676  \n",
       "2    NORTH REGION           1448844  \n",
       "3    NORTH REGION            262221  \n",
       "4  CENTRAL REGION            766934  \n",
       "5     WEST REGION           1410006  \n",
       "6     WEST REGION           1190585  \n",
       "7  CENTRAL REGION            640451  \n",
       "8     EAST REGION            769284  \n",
       "9    NORTH REGION           2150081  "
      ]
     },
     "execution_count": 20,
     "metadata": {},
     "output_type": "execute_result"
    }
   ],
   "source": [
    "testing = pd.merge(MRTStop_Subzone, MRTStop_TITO, how='inner', left_on = 'STN_NO', right_on = 'PT_CODE', validate='many_to_many')\n",
    "testing.head(10)"
   ]
  },
  {
   "cell_type": "markdown",
   "metadata": {},
   "source": [
    "### EXAMPLE: Number of MRT Stops by Subzone"
   ]
  },
  {
   "cell_type": "code",
   "execution_count": 21,
   "metadata": {},
   "outputs": [
    {
     "data": {
      "text/html": [
       "<div>\n",
       "<style scoped>\n",
       "    .dataframe tbody tr th:only-of-type {\n",
       "        vertical-align: middle;\n",
       "    }\n",
       "\n",
       "    .dataframe tbody tr th {\n",
       "        vertical-align: top;\n",
       "    }\n",
       "\n",
       "    .dataframe thead th {\n",
       "        text-align: right;\n",
       "    }\n",
       "</style>\n",
       "<table border=\"1\" class=\"dataframe\">\n",
       "  <thead>\n",
       "    <tr style=\"text-align: right;\">\n",
       "      <th></th>\n",
       "      <th>STN_NUM</th>\n",
       "    </tr>\n",
       "    <tr>\n",
       "      <th>SUBZONE_N</th>\n",
       "      <th></th>\n",
       "    </tr>\n",
       "  </thead>\n",
       "  <tbody>\n",
       "    <tr>\n",
       "      <th>ALJUNIED</th>\n",
       "      <td>3</td>\n",
       "    </tr>\n",
       "    <tr>\n",
       "      <th>ANAK BUKIT</th>\n",
       "      <td>1</td>\n",
       "    </tr>\n",
       "    <tr>\n",
       "      <th>ANCHORVALE</th>\n",
       "      <td>3</td>\n",
       "    </tr>\n",
       "    <tr>\n",
       "      <th>BANGKIT</th>\n",
       "      <td>2</td>\n",
       "    </tr>\n",
       "    <tr>\n",
       "      <th>BEDOK NORTH</th>\n",
       "      <td>1</td>\n",
       "    </tr>\n",
       "    <tr>\n",
       "      <th>...</th>\n",
       "      <td>...</td>\n",
       "    </tr>\n",
       "    <tr>\n",
       "      <th>WOODLANDS SOUTH</th>\n",
       "      <td>1</td>\n",
       "    </tr>\n",
       "    <tr>\n",
       "      <th>WOODLANDS WEST</th>\n",
       "      <td>1</td>\n",
       "    </tr>\n",
       "    <tr>\n",
       "      <th>YEW TEE</th>\n",
       "      <td>1</td>\n",
       "    </tr>\n",
       "    <tr>\n",
       "      <th>YIO CHU KANG</th>\n",
       "      <td>1</td>\n",
       "    </tr>\n",
       "    <tr>\n",
       "      <th>YISHUN WEST</th>\n",
       "      <td>1</td>\n",
       "    </tr>\n",
       "  </tbody>\n",
       "</table>\n",
       "<p>102 rows × 1 columns</p>\n",
       "</div>"
      ],
      "text/plain": [
       "                 STN_NUM\n",
       "SUBZONE_N               \n",
       "ALJUNIED               3\n",
       "ANAK BUKIT             1\n",
       "ANCHORVALE             3\n",
       "BANGKIT                2\n",
       "BEDOK NORTH            1\n",
       "...                  ...\n",
       "WOODLANDS SOUTH        1\n",
       "WOODLANDS WEST         1\n",
       "YEW TEE                1\n",
       "YIO CHU KANG           1\n",
       "YISHUN WEST            1\n",
       "\n",
       "[102 rows x 1 columns]"
      ]
     },
     "execution_count": 21,
     "metadata": {},
     "output_type": "execute_result"
    }
   ],
   "source": [
    "MRTStop_Subzone_count = testing.groupby('SUBZONE_N').count()\n",
    "MRTStop_Subzone_count = MRTStop_Subzone_count.rename(columns={'STN_NAME': 'STN_NUM'})\n",
    "MRTStop_Subzone_count = MRTStop_Subzone_count.filter(['SUBZONE_N', 'STN_NUM'], axis=1)\n",
    "MRTStop_Subzone_count"
   ]
  },
  {
   "cell_type": "markdown",
   "metadata": {},
   "source": [
    "### EXAMPLE: Filter 'testing' and groupby SUBZONE"
   ]
  },
  {
   "cell_type": "code",
   "execution_count": 22,
   "metadata": {},
   "outputs": [
    {
     "data": {
      "text/plain": [
       "SUBZONE_N\n",
       "ALJUNIED           1489384\n",
       "ANAK BUKIT          538115\n",
       "ANCHORVALE          364099\n",
       "BANGKIT             232430\n",
       "BEDOK NORTH        1460136\n",
       "                    ...   \n",
       "WOODLANDS SOUTH     141889\n",
       "WOODLANDS WEST     1005198\n",
       "YEW TEE            1410006\n",
       "YIO CHU KANG       1043477\n",
       "YISHUN WEST        2484007\n",
       "Name: TOTAL_TAP_VOLUME, Length: 102, dtype: int64"
      ]
     },
     "execution_count": 22,
     "metadata": {},
     "output_type": "execute_result"
    }
   ],
   "source": [
    "MRTStop_testing = testing.filter(['SUBZONE_N', 'TOTAL_TAP_VOLUME', 'STN_NUM'], axis=1)\n",
    "MRTStop_testing = MRTStop_testing.groupby('SUBZONE_N')['TOTAL_TAP_VOLUME'].sum()\n",
    "MRTStop_testing"
   ]
  },
  {
   "cell_type": "markdown",
   "metadata": {},
   "source": [
    "### EXAMPLE: Merge MRTStop_testing and MRTStop_Subzone_count datasets"
   ]
  },
  {
   "cell_type": "code",
   "execution_count": 23,
   "metadata": {
    "scrolled": true
   },
   "outputs": [
    {
     "data": {
      "text/html": [
       "<div>\n",
       "<style scoped>\n",
       "    .dataframe tbody tr th:only-of-type {\n",
       "        vertical-align: middle;\n",
       "    }\n",
       "\n",
       "    .dataframe tbody tr th {\n",
       "        vertical-align: top;\n",
       "    }\n",
       "\n",
       "    .dataframe thead th {\n",
       "        text-align: right;\n",
       "    }\n",
       "</style>\n",
       "<table border=\"1\" class=\"dataframe\">\n",
       "  <thead>\n",
       "    <tr style=\"text-align: right;\">\n",
       "      <th></th>\n",
       "      <th>TOTAL_TAP_VOLUME</th>\n",
       "      <th>STN_NUM</th>\n",
       "    </tr>\n",
       "    <tr>\n",
       "      <th>SUBZONE_N</th>\n",
       "      <th></th>\n",
       "      <th></th>\n",
       "    </tr>\n",
       "  </thead>\n",
       "  <tbody>\n",
       "    <tr>\n",
       "      <th>ALJUNIED</th>\n",
       "      <td>1489384</td>\n",
       "      <td>3</td>\n",
       "    </tr>\n",
       "    <tr>\n",
       "      <th>ANAK BUKIT</th>\n",
       "      <td>538115</td>\n",
       "      <td>1</td>\n",
       "    </tr>\n",
       "    <tr>\n",
       "      <th>ANCHORVALE</th>\n",
       "      <td>364099</td>\n",
       "      <td>3</td>\n",
       "    </tr>\n",
       "    <tr>\n",
       "      <th>BANGKIT</th>\n",
       "      <td>232430</td>\n",
       "      <td>2</td>\n",
       "    </tr>\n",
       "    <tr>\n",
       "      <th>BEDOK NORTH</th>\n",
       "      <td>1460136</td>\n",
       "      <td>1</td>\n",
       "    </tr>\n",
       "    <tr>\n",
       "      <th>...</th>\n",
       "      <td>...</td>\n",
       "      <td>...</td>\n",
       "    </tr>\n",
       "    <tr>\n",
       "      <th>WOODLANDS SOUTH</th>\n",
       "      <td>141889</td>\n",
       "      <td>1</td>\n",
       "    </tr>\n",
       "    <tr>\n",
       "      <th>WOODLANDS WEST</th>\n",
       "      <td>1005198</td>\n",
       "      <td>1</td>\n",
       "    </tr>\n",
       "    <tr>\n",
       "      <th>YEW TEE</th>\n",
       "      <td>1410006</td>\n",
       "      <td>1</td>\n",
       "    </tr>\n",
       "    <tr>\n",
       "      <th>YIO CHU KANG</th>\n",
       "      <td>1043477</td>\n",
       "      <td>1</td>\n",
       "    </tr>\n",
       "    <tr>\n",
       "      <th>YISHUN WEST</th>\n",
       "      <td>2484007</td>\n",
       "      <td>1</td>\n",
       "    </tr>\n",
       "  </tbody>\n",
       "</table>\n",
       "<p>102 rows × 2 columns</p>\n",
       "</div>"
      ],
      "text/plain": [
       "                 TOTAL_TAP_VOLUME  STN_NUM\n",
       "SUBZONE_N                                 \n",
       "ALJUNIED                  1489384        3\n",
       "ANAK BUKIT                 538115        1\n",
       "ANCHORVALE                 364099        3\n",
       "BANGKIT                    232430        2\n",
       "BEDOK NORTH               1460136        1\n",
       "...                           ...      ...\n",
       "WOODLANDS SOUTH            141889        1\n",
       "WOODLANDS WEST            1005198        1\n",
       "YEW TEE                   1410006        1\n",
       "YIO CHU KANG              1043477        1\n",
       "YISHUN WEST               2484007        1\n",
       "\n",
       "[102 rows x 2 columns]"
      ]
     },
     "execution_count": 23,
     "metadata": {},
     "output_type": "execute_result"
    }
   ],
   "source": [
    "MRTStop_testing = pd.merge(MRTStop_testing, MRTStop_Subzone_count, how='inner', on = 'SUBZONE_N', validate='many_to_many')\n",
    "MRTStop_testing"
   ]
  },
  {
   "cell_type": "markdown",
   "metadata": {},
   "source": [
    "# Subzone Demographics Data for 2011-2019 and 2020\n",
    "### –––––––––––––––––––––––––––––––––––––––––––––––––––––––––––––––––"
   ]
  },
  {
   "cell_type": "markdown",
   "metadata": {},
   "source": [
    "### Extracting Base Datasets"
   ]
  },
  {
   "cell_type": "markdown",
   "metadata": {},
   "source": [
    "#### Filter population by subzone, age group and type of dwelling from sheets and find list of subzones"
   ]
  },
  {
   "cell_type": "markdown",
   "metadata": {},
   "source": [
    "### 2020"
   ]
  },
  {
   "cell_type": "code",
   "execution_count": 24,
   "metadata": {},
   "outputs": [
    {
     "ename": "ImportError",
     "evalue": "Missing optional dependency 'xlrd'. Install xlrd >= 1.0.0 for Excel support Use pip or conda to install xlrd.",
     "output_type": "error",
     "traceback": [
      "\u001b[1;31m---------------------------------------------------------------------------\u001b[0m",
      "\u001b[1;31mImportError\u001b[0m                               Traceback (most recent call last)",
      "\u001b[1;32m<ipython-input-24-94228d1ed706>\u001b[0m in \u001b[0;36m<module>\u001b[1;34m\u001b[0m\n\u001b[1;32m----> 1\u001b[1;33m \u001b[0mdT2020raw\u001b[0m \u001b[1;33m=\u001b[0m \u001b[0mpd\u001b[0m\u001b[1;33m.\u001b[0m\u001b[0mread_excel\u001b[0m\u001b[1;33m(\u001b[0m\u001b[1;34m'singapore-residents-by-planning-areasubzone-age-group-sex-and-type-of-dwelling-june-20002020.xlsx'\u001b[0m\u001b[1;33m,\u001b[0m \u001b[0mheader\u001b[0m \u001b[1;33m=\u001b[0m \u001b[1;36m2\u001b[0m\u001b[1;33m,\u001b[0m \u001b[0msheet_name\u001b[0m \u001b[1;33m=\u001b[0m \u001b[1;34m'2020(Total)'\u001b[0m\u001b[1;33m)\u001b[0m\u001b[1;33m;\u001b[0m \u001b[0mx\u001b[0m \u001b[1;33m=\u001b[0m \u001b[1;36m69840\u001b[0m\u001b[1;33m\u001b[0m\u001b[1;33m\u001b[0m\u001b[0m\n\u001b[0m\u001b[0;32m      2\u001b[0m \u001b[0mdT2020raw\u001b[0m \u001b[1;33m=\u001b[0m \u001b[0mdT2020raw\u001b[0m\u001b[1;33m.\u001b[0m\u001b[0mrename\u001b[0m\u001b[1;33m(\u001b[0m\u001b[0mcolumns\u001b[0m\u001b[1;33m=\u001b[0m\u001b[1;33m{\u001b[0m\u001b[1;34m'Subzone'\u001b[0m\u001b[1;33m:\u001b[0m \u001b[1;34m'SUBZONE_N'\u001b[0m\u001b[1;33m}\u001b[0m\u001b[1;33m)\u001b[0m\u001b[1;33m\u001b[0m\u001b[1;33m\u001b[0m\u001b[0m\n\u001b[0;32m      3\u001b[0m \u001b[0mdT2020raw\u001b[0m\u001b[1;33m[\u001b[0m\u001b[1;34m'SUBZONE_N'\u001b[0m\u001b[1;33m]\u001b[0m \u001b[1;33m=\u001b[0m \u001b[0mdT2020raw\u001b[0m\u001b[1;33m[\u001b[0m\u001b[1;34m'SUBZONE_N'\u001b[0m\u001b[1;33m]\u001b[0m\u001b[1;33m.\u001b[0m\u001b[0mstr\u001b[0m\u001b[1;33m.\u001b[0m\u001b[0mupper\u001b[0m\u001b[1;33m(\u001b[0m\u001b[1;33m)\u001b[0m\u001b[1;33m\u001b[0m\u001b[1;33m\u001b[0m\u001b[0m\n\u001b[0;32m      4\u001b[0m \u001b[0mdT2020raw\u001b[0m \u001b[1;33m=\u001b[0m \u001b[0mdT2020raw\u001b[0m\u001b[1;33m[\u001b[0m\u001b[1;33m:\u001b[0m\u001b[0mx\u001b[0m\u001b[1;33m]\u001b[0m\u001b[1;33m\u001b[0m\u001b[1;33m\u001b[0m\u001b[0m\n\u001b[0;32m      5\u001b[0m \u001b[0mdT2020raw\u001b[0m \u001b[1;33m=\u001b[0m \u001b[0mdT2020raw\u001b[0m\u001b[1;33m[\u001b[0m\u001b[0mdT2020raw\u001b[0m\u001b[1;33m[\u001b[0m\u001b[1;34m'SUBZONE_N'\u001b[0m\u001b[1;33m]\u001b[0m \u001b[1;33m!=\u001b[0m \u001b[1;34m'TOTAL'\u001b[0m\u001b[1;33m]\u001b[0m\u001b[1;33m\u001b[0m\u001b[1;33m\u001b[0m\u001b[0m\n",
      "\u001b[1;32mC:\\ProgramData\\Anaconda3\\envs\\geo_env\\lib\\site-packages\\pandas\\util\\_decorators.py\u001b[0m in \u001b[0;36mwrapper\u001b[1;34m(*args, **kwargs)\u001b[0m\n\u001b[0;32m    297\u001b[0m                 )\n\u001b[0;32m    298\u001b[0m                 \u001b[0mwarnings\u001b[0m\u001b[1;33m.\u001b[0m\u001b[0mwarn\u001b[0m\u001b[1;33m(\u001b[0m\u001b[0mmsg\u001b[0m\u001b[1;33m,\u001b[0m \u001b[0mFutureWarning\u001b[0m\u001b[1;33m,\u001b[0m \u001b[0mstacklevel\u001b[0m\u001b[1;33m=\u001b[0m\u001b[0mstacklevel\u001b[0m\u001b[1;33m)\u001b[0m\u001b[1;33m\u001b[0m\u001b[1;33m\u001b[0m\u001b[0m\n\u001b[1;32m--> 299\u001b[1;33m             \u001b[1;32mreturn\u001b[0m \u001b[0mfunc\u001b[0m\u001b[1;33m(\u001b[0m\u001b[1;33m*\u001b[0m\u001b[0margs\u001b[0m\u001b[1;33m,\u001b[0m \u001b[1;33m**\u001b[0m\u001b[0mkwargs\u001b[0m\u001b[1;33m)\u001b[0m\u001b[1;33m\u001b[0m\u001b[1;33m\u001b[0m\u001b[0m\n\u001b[0m\u001b[0;32m    300\u001b[0m \u001b[1;33m\u001b[0m\u001b[0m\n\u001b[0;32m    301\u001b[0m         \u001b[1;32mreturn\u001b[0m \u001b[0mwrapper\u001b[0m\u001b[1;33m\u001b[0m\u001b[1;33m\u001b[0m\u001b[0m\n",
      "\u001b[1;32mC:\\ProgramData\\Anaconda3\\envs\\geo_env\\lib\\site-packages\\pandas\\io\\excel\\_base.py\u001b[0m in \u001b[0;36mread_excel\u001b[1;34m(io, sheet_name, header, names, index_col, usecols, squeeze, dtype, engine, converters, true_values, false_values, skiprows, nrows, na_values, keep_default_na, na_filter, verbose, parse_dates, date_parser, thousands, comment, skipfooter, convert_float, mangle_dupe_cols, storage_options)\u001b[0m\n\u001b[0;32m    334\u001b[0m     \u001b[1;32mif\u001b[0m \u001b[1;32mnot\u001b[0m \u001b[0misinstance\u001b[0m\u001b[1;33m(\u001b[0m\u001b[0mio\u001b[0m\u001b[1;33m,\u001b[0m \u001b[0mExcelFile\u001b[0m\u001b[1;33m)\u001b[0m\u001b[1;33m:\u001b[0m\u001b[1;33m\u001b[0m\u001b[1;33m\u001b[0m\u001b[0m\n\u001b[0;32m    335\u001b[0m         \u001b[0mshould_close\u001b[0m \u001b[1;33m=\u001b[0m \u001b[1;32mTrue\u001b[0m\u001b[1;33m\u001b[0m\u001b[1;33m\u001b[0m\u001b[0m\n\u001b[1;32m--> 336\u001b[1;33m         \u001b[0mio\u001b[0m \u001b[1;33m=\u001b[0m \u001b[0mExcelFile\u001b[0m\u001b[1;33m(\u001b[0m\u001b[0mio\u001b[0m\u001b[1;33m,\u001b[0m \u001b[0mstorage_options\u001b[0m\u001b[1;33m=\u001b[0m\u001b[0mstorage_options\u001b[0m\u001b[1;33m,\u001b[0m \u001b[0mengine\u001b[0m\u001b[1;33m=\u001b[0m\u001b[0mengine\u001b[0m\u001b[1;33m)\u001b[0m\u001b[1;33m\u001b[0m\u001b[1;33m\u001b[0m\u001b[0m\n\u001b[0m\u001b[0;32m    337\u001b[0m     \u001b[1;32melif\u001b[0m \u001b[0mengine\u001b[0m \u001b[1;32mand\u001b[0m \u001b[0mengine\u001b[0m \u001b[1;33m!=\u001b[0m \u001b[0mio\u001b[0m\u001b[1;33m.\u001b[0m\u001b[0mengine\u001b[0m\u001b[1;33m:\u001b[0m\u001b[1;33m\u001b[0m\u001b[1;33m\u001b[0m\u001b[0m\n\u001b[0;32m    338\u001b[0m         raise ValueError(\n",
      "\u001b[1;32mC:\\ProgramData\\Anaconda3\\envs\\geo_env\\lib\\site-packages\\pandas\\io\\excel\\_base.py\u001b[0m in \u001b[0;36m__init__\u001b[1;34m(self, path_or_buffer, engine, storage_options)\u001b[0m\n\u001b[0;32m   1129\u001b[0m         \u001b[0mself\u001b[0m\u001b[1;33m.\u001b[0m\u001b[0mstorage_options\u001b[0m \u001b[1;33m=\u001b[0m \u001b[0mstorage_options\u001b[0m\u001b[1;33m\u001b[0m\u001b[1;33m\u001b[0m\u001b[0m\n\u001b[0;32m   1130\u001b[0m \u001b[1;33m\u001b[0m\u001b[0m\n\u001b[1;32m-> 1131\u001b[1;33m         \u001b[0mself\u001b[0m\u001b[1;33m.\u001b[0m\u001b[0m_reader\u001b[0m \u001b[1;33m=\u001b[0m \u001b[0mself\u001b[0m\u001b[1;33m.\u001b[0m\u001b[0m_engines\u001b[0m\u001b[1;33m[\u001b[0m\u001b[0mengine\u001b[0m\u001b[1;33m]\u001b[0m\u001b[1;33m(\u001b[0m\u001b[0mself\u001b[0m\u001b[1;33m.\u001b[0m\u001b[0m_io\u001b[0m\u001b[1;33m,\u001b[0m \u001b[0mstorage_options\u001b[0m\u001b[1;33m=\u001b[0m\u001b[0mstorage_options\u001b[0m\u001b[1;33m)\u001b[0m\u001b[1;33m\u001b[0m\u001b[1;33m\u001b[0m\u001b[0m\n\u001b[0m\u001b[0;32m   1132\u001b[0m \u001b[1;33m\u001b[0m\u001b[0m\n\u001b[0;32m   1133\u001b[0m     \u001b[1;32mdef\u001b[0m \u001b[0m__fspath__\u001b[0m\u001b[1;33m(\u001b[0m\u001b[0mself\u001b[0m\u001b[1;33m)\u001b[0m\u001b[1;33m:\u001b[0m\u001b[1;33m\u001b[0m\u001b[1;33m\u001b[0m\u001b[0m\n",
      "\u001b[1;32mC:\\ProgramData\\Anaconda3\\envs\\geo_env\\lib\\site-packages\\pandas\\io\\excel\\_xlrd.py\u001b[0m in \u001b[0;36m__init__\u001b[1;34m(self, filepath_or_buffer, storage_options)\u001b[0m\n\u001b[0;32m     22\u001b[0m         \"\"\"\n\u001b[0;32m     23\u001b[0m         \u001b[0merr_msg\u001b[0m \u001b[1;33m=\u001b[0m \u001b[1;34m\"Install xlrd >= 1.0.0 for Excel support\"\u001b[0m\u001b[1;33m\u001b[0m\u001b[1;33m\u001b[0m\u001b[0m\n\u001b[1;32m---> 24\u001b[1;33m         \u001b[0mimport_optional_dependency\u001b[0m\u001b[1;33m(\u001b[0m\u001b[1;34m\"xlrd\"\u001b[0m\u001b[1;33m,\u001b[0m \u001b[0mextra\u001b[0m\u001b[1;33m=\u001b[0m\u001b[0merr_msg\u001b[0m\u001b[1;33m)\u001b[0m\u001b[1;33m\u001b[0m\u001b[1;33m\u001b[0m\u001b[0m\n\u001b[0m\u001b[0;32m     25\u001b[0m         \u001b[0msuper\u001b[0m\u001b[1;33m(\u001b[0m\u001b[1;33m)\u001b[0m\u001b[1;33m.\u001b[0m\u001b[0m__init__\u001b[0m\u001b[1;33m(\u001b[0m\u001b[0mfilepath_or_buffer\u001b[0m\u001b[1;33m,\u001b[0m \u001b[0mstorage_options\u001b[0m\u001b[1;33m=\u001b[0m\u001b[0mstorage_options\u001b[0m\u001b[1;33m)\u001b[0m\u001b[1;33m\u001b[0m\u001b[1;33m\u001b[0m\u001b[0m\n\u001b[0;32m     26\u001b[0m \u001b[1;33m\u001b[0m\u001b[0m\n",
      "\u001b[1;32mC:\\ProgramData\\Anaconda3\\envs\\geo_env\\lib\\site-packages\\pandas\\compat\\_optional.py\u001b[0m in \u001b[0;36mimport_optional_dependency\u001b[1;34m(name, extra, raise_on_missing, on_version)\u001b[0m\n\u001b[0;32m    107\u001b[0m     \u001b[1;32mexcept\u001b[0m \u001b[0mImportError\u001b[0m\u001b[1;33m:\u001b[0m\u001b[1;33m\u001b[0m\u001b[1;33m\u001b[0m\u001b[0m\n\u001b[0;32m    108\u001b[0m         \u001b[1;32mif\u001b[0m \u001b[0mraise_on_missing\u001b[0m\u001b[1;33m:\u001b[0m\u001b[1;33m\u001b[0m\u001b[1;33m\u001b[0m\u001b[0m\n\u001b[1;32m--> 109\u001b[1;33m             \u001b[1;32mraise\u001b[0m \u001b[0mImportError\u001b[0m\u001b[1;33m(\u001b[0m\u001b[0mmsg\u001b[0m\u001b[1;33m)\u001b[0m \u001b[1;32mfrom\u001b[0m \u001b[1;32mNone\u001b[0m\u001b[1;33m\u001b[0m\u001b[1;33m\u001b[0m\u001b[0m\n\u001b[0m\u001b[0;32m    110\u001b[0m         \u001b[1;32melse\u001b[0m\u001b[1;33m:\u001b[0m\u001b[1;33m\u001b[0m\u001b[1;33m\u001b[0m\u001b[0m\n\u001b[0;32m    111\u001b[0m             \u001b[1;32mreturn\u001b[0m \u001b[1;32mNone\u001b[0m\u001b[1;33m\u001b[0m\u001b[1;33m\u001b[0m\u001b[0m\n",
      "\u001b[1;31mImportError\u001b[0m: Missing optional dependency 'xlrd'. Install xlrd >= 1.0.0 for Excel support Use pip or conda to install xlrd."
     ]
    }
   ],
   "source": [
    "dT2020raw = pd.read_excel('singapore-residents-by-planning-areasubzone-age-group-sex-and-type-of-dwelling-june-20002020.xlsx', header = 2, sheet_name = '2020(Total)'); x = 69840\n",
    "dT2020raw = dT2020raw.rename(columns={'Subzone': 'SUBZONE_N'})\n",
    "dT2020raw['SUBZONE_N'] = dT2020raw['SUBZONE_N'].str.upper()\n",
    "dT2020raw = dT2020raw[:x]\n",
    "dT2020raw = dT2020raw[dT2020raw['SUBZONE_N'] != 'TOTAL']\n",
    "dT2020raw.filter(['SUBZONE_N', 'Age Group', 'Type of Dwelling', '2020'], axis=1)\n",
    "dT2020raw"
   ]
  },
  {
   "cell_type": "code",
   "execution_count": null,
   "metadata": {},
   "outputs": [],
   "source": [
    "listOfSubzones = dT2020raw.SUBZONE_N.unique()"
   ]
  },
  {
   "cell_type": "markdown",
   "metadata": {},
   "source": [
    "### 2011-2019"
   ]
  },
  {
   "cell_type": "code",
   "execution_count": null,
   "metadata": {},
   "outputs": [],
   "source": [
    "dT201119raw = pd.read_excel('singapore-residents-by-planning-areasubzone-age-group-sex-and-type-of-dwelling-june-20002020.xlsx', header = 2, sheet_name = '2011-2019(Total)'); y = 68219\n",
    "dT201119raw = dT201119raw.rename(columns={'Subzone': 'SUBZONE_N'})\n",
    "dT201119raw['SUBZONE_N'] = dT201119raw['SUBZONE_N'].str.upper()\n",
    "dT201119raw = dT201119raw[:y]\n",
    "dT201119raw = dT201119raw[dT201119raw['SUBZONE_N'] != 'TOTAL']\n",
    "dT201119raw.filter(['SUBZONE_N', 'Age Group', 'Type of Dwelling', '2011', '2012', '2013', '2014', '2015', '2016', '2017', '2018', '2019'], axis=1)\n",
    "dT201119raw"
   ]
  },
  {
   "cell_type": "code",
   "execution_count": null,
   "metadata": {},
   "outputs": [],
   "source": [
    "listOfSubzones1119 = dT201119raw.SUBZONE_N.unique()"
   ]
  },
  {
   "cell_type": "markdown",
   "metadata": {},
   "source": [
    "### Extracting Gender"
   ]
  },
  {
   "cell_type": "markdown",
   "metadata": {},
   "source": [
    "#### Filter male and female population by subzone from sheets and then derive percentage of population that are male by dividing male population by total population"
   ]
  },
  {
   "cell_type": "markdown",
   "metadata": {},
   "source": [
    "#### NEW: - .MultiIndex = allows for hierarchical indexing - .replace() = replace values in columns with another value  - .insert() = insert value/column to a specified index"
   ]
  },
  {
   "cell_type": "markdown",
   "metadata": {},
   "source": [
    "### 2020"
   ]
  },
  {
   "cell_type": "code",
   "execution_count": null,
   "metadata": {},
   "outputs": [],
   "source": [
    "dT2020raw_male = pd.read_excel('singapore-residents-by-planning-areasubzone-age-group-sex-and-type-of-dwelling-june-20002020.xlsx', header = 2, sheet_name = '2020(Male)'); x = 69840\n",
    "dT2020raw_male = dT2020raw_male.rename(columns={'Subzone': 'SUBZONE_N'})\n",
    "dT2020raw_male['SUBZONE_N'] = dT2020raw_male['SUBZONE_N'].str.upper()\n",
    "dT2020raw_male = dT2020raw_male[:x]\n",
    "dT2020raw_male = dT2020raw_male[dT2020raw_male['SUBZONE_N'] != 'TOTAL']\n",
    "dT2020raw_male = dT2020raw_male[dT2020raw_male['Age Group'] == 'Total']\n",
    "dT2020raw_male = dT2020raw_male[dT2020raw_male['Type of Dwelling'] == 'Total']\n",
    "dT2020raw_male = dT2020raw_male.filter(['SUBZONE_N', '2020'], axis=1)\n",
    "dT2020raw_male['2020'] = dT2020raw_male['2020'].replace({'-': 0}).astype(int) #Replace '-' with '0'\n",
    "dT2020raw_male"
   ]
  },
  {
   "cell_type": "code",
   "execution_count": null,
   "metadata": {},
   "outputs": [],
   "source": [
    "dT2020raw_female = pd.read_excel('singapore-residents-by-planning-areasubzone-age-group-sex-and-type-of-dwelling-june-20002020.xlsx', header = 2, sheet_name = '2020(Female)'); x = 69840\n",
    "dT2020raw_female = dT2020raw_female.rename(columns={'Subzone': 'SUBZONE_N'})\n",
    "dT2020raw_female['SUBZONE_N'] = dT2020raw_female['SUBZONE_N'].str.upper()\n",
    "dT2020raw_female = dT2020raw_female[:x]\n",
    "dT2020raw_female = dT2020raw_female[dT2020raw_female['SUBZONE_N'] != 'TOTAL']\n",
    "dT2020raw_female = dT2020raw_female[dT2020raw_female['Age Group'] == 'Total']\n",
    "dT2020raw_female = dT2020raw_female[dT2020raw_female['Type of Dwelling'] == 'Total']\n",
    "dT2020raw_female = dT2020raw_female.filter(['SUBZONE_N', '2020'], axis=1)\n",
    "dT2020raw_female['2020'] = dT2020raw_female['2020'].replace({'-': 0}).astype(int) #Replace '-' with '0'\n",
    "dT2020raw_female"
   ]
  },
  {
   "cell_type": "code",
   "execution_count": null,
   "metadata": {},
   "outputs": [],
   "source": [
    "#Male percentage (2020)\n",
    "dT2020_male_perc = pd.DataFrame(dT2020raw_male['2020'] + dT2020raw_female['2020'])\n",
    "dT2020_male_perc = pd.DataFrame(dT2020raw_male['2020']/dT2020_male_perc['2020'])\n",
    "dT2020_male_perc.rename(columns={'2020': 'Male Percentage'}, inplace=True)\n",
    "dT2020_male_perc.columns = pd.MultiIndex.from_tuples(\n",
    "        zip(['2020'], \n",
    "            dT2020_male_perc.columns))\n",
    "dT2020_male_perc.insert(0, \"SUBZONE_N\", listOfSubzones, True)\n",
    "dT2020_male_perc"
   ]
  },
  {
   "cell_type": "markdown",
   "metadata": {},
   "source": [
    "### 2011-2019"
   ]
  },
  {
   "cell_type": "code",
   "execution_count": null,
   "metadata": {},
   "outputs": [],
   "source": [
    "dT201119raw_male = pd.read_excel('singapore-residents-by-planning-areasubzone-age-group-sex-and-type-of-dwelling-june-20002020.xlsx', header = 2, sheet_name = '2011-2019(Male)'); y = 68219\n",
    "dT201119raw_male = dT201119raw_male.rename(columns={'Subzone': 'SUBZONE_N'})\n",
    "dT201119raw_male['SUBZONE_N'] = dT201119raw_male['SUBZONE_N'].str.upper()\n",
    "dT201119raw_male = dT201119raw_male[:y]\n",
    "dT201119raw_male = dT201119raw_male[dT201119raw_male['SUBZONE_N'] != 'TOTAL']\n",
    "dT201119raw_male = dT201119raw_male[dT201119raw_male['Age Group'] == 'Total']\n",
    "dT201119raw_male = dT201119raw_male[dT201119raw_male['Type of Dwelling'] == 'Total']\n",
    "dT201119raw_male = dT201119raw_male.filter(['SUBZONE_N', '2011', '2012', '2013', '2014', '2015', '2016', '2017', '2018', '2019'], axis=1)\n",
    "for i in range(9):\n",
    "    dT201119raw_male[str(2011+i)] = dT201119raw_male[str(2011+i)].replace({'-': 0}).astype(int)\n",
    "dT201119raw_male"
   ]
  },
  {
   "cell_type": "code",
   "execution_count": null,
   "metadata": {},
   "outputs": [],
   "source": [
    "dT201119raw_female = pd.read_excel('singapore-residents-by-planning-areasubzone-age-group-sex-and-type-of-dwelling-june-20002020.xlsx', header = 2, sheet_name = '2011-2019(Female)'); y = 68219\n",
    "dT201119raw_female = dT201119raw_female.rename(columns={'Subzone': 'SUBZONE_N'})\n",
    "dT201119raw_female['SUBZONE_N'] = dT201119raw_female['SUBZONE_N'].str.upper()\n",
    "dT201119raw_female = dT201119raw_female[:y]\n",
    "dT201119raw_female = dT201119raw_female[dT201119raw_female['SUBZONE_N'] != 'TOTAL']\n",
    "dT201119raw_female = dT201119raw_female[dT201119raw_female['Age Group'] == 'Total']\n",
    "dT201119raw_female = dT201119raw_female[dT201119raw_female['Type of Dwelling'] == 'Total']\n",
    "dT201119raw_female = dT201119raw_female.filter(['SUBZONE_N', '2011', '2012', '2013', '2014', '2015', '2016', '2017', '2018', '2019'], axis=1)\n",
    "for i in range(9):\n",
    "    dT201119raw_female[str(2011+i)] = dT201119raw_female[str(2011+i)].replace({'-': 0}).astype(int)\n",
    "dT201119raw_female"
   ]
  },
  {
   "cell_type": "code",
   "execution_count": null,
   "metadata": {},
   "outputs": [],
   "source": [
    "#Male percentage (2011-2019)\n",
    "dT201119_male_perc = pd.DataFrame(listOfSubzones1119, columns = ['SUBZONE_N'])\n",
    "for i in range(9):\n",
    "    totalMF = pd.DataFrame(dT201119raw_male[str(2011+i)] + dT201119raw_female[str(2011+i)])\n",
    "    percMF = list(dT201119raw_male[str(2011+i)]/totalMF[str(2011+i)])\n",
    "    dT201119_male_perc.insert(1, str(2011+i), percMF, True)\n",
    "dT201119_male_perc = dT201119_male_perc.filter(['2019', '2018', '2017', '2016', '2015', '2014', '2013', '2012', '2011'])\n",
    "dT201119_male_perc = dT201119_male_perc.rename(columns={'2019': 'Male Percentage', '2018': 'Male Percentage', '2017': 'Male Percentage', '2016': 'Male Percentage', '2015': 'Male Percentage', '2014': 'Male Percentage', '2013': 'Male Percentage', '2012': 'Male Percentage', '2011': 'Male Percentage'})\n",
    "dT201119_male_perc.columns = pd.MultiIndex.from_tuples(\n",
    "        zip(['2019', '2018', '2017', '2016', '2015', '2014', '2013', '2012', '2011'], \n",
    "            dT201119_male_perc.columns))\n",
    "dT201119_male_perc.insert(0, \"SUBZONE_N\", listOfSubzones1119, True)\n",
    "dT201119_male_perc"
   ]
  },
  {
   "cell_type": "markdown",
   "metadata": {},
   "source": [
    "### Extracting Age Groups"
   ]
  },
  {
   "cell_type": "markdown",
   "metadata": {},
   "source": [
    "#### Filter population by subzone and age group and pivot the data frame, then group population into 4 age groups"
   ]
  },
  {
   "cell_type": "markdown",
   "metadata": {},
   "source": [
    "#### NEW - .MultiIndex = allows for hierarchical indexing - .replace() = replace values in columns with another value - .pivot() = reshape dataframe by column/index values  - .insert() = insert value/column to a specified index - . merge() = merge/join datasets"
   ]
  },
  {
   "cell_type": "markdown",
   "metadata": {},
   "source": [
    "### 2020\n"
   ]
  },
  {
   "cell_type": "code",
   "execution_count": null,
   "metadata": {
    "scrolled": true
   },
   "outputs": [],
   "source": [
    "dT2020raw_age = dT2020raw[dT2020raw['Type of Dwelling'] == 'Total']\n",
    "dT2020raw_age = dT2020raw_age.filter(['SUBZONE_N', 'Age Group', '2020'], axis=1)\n",
    "dT2020raw_age = dT2020raw_age[dT2020raw_age['Age Group'] != 'Total']\n",
    "dT2020raw_age['2020'] = dT2020raw_age['2020'].replace({'-': 0}).astype(int)\n",
    "dT2020raw_age = dT2020raw_age.rename(columns={'SUBZONE_N': 'idx'})\n",
    "dT2020raw_age['Age Group'] = dT2020raw_age['Age Group'].replace(['0 - 4', '5 - 9'],['00 - 04', '05 - 09'])\n",
    "dT2020raw_age = pd.pivot(dT2020raw_age.assign(idx = dT2020raw_age.groupby('Age Group').cumcount()),\n",
    "               index='idx',\n",
    "               columns='Age Group')\n",
    "dT2020raw_age.insert(0, 'SUBZONE_N', listOfSubzones, True)\n",
    "dT2020raw_age"
   ]
  },
  {
   "cell_type": "code",
   "execution_count": null,
   "metadata": {},
   "outputs": [],
   "source": [
    "dT2020_raw_age_0019 = (dT2020raw_age['2020']['00 - 04'] +\n",
    "                       dT2020raw_age['2020']['05 - 09'] +\n",
    "                       dT2020raw_age['2020']['10 - 14'] +\n",
    "                       dT2020raw_age['2020']['15 - 19'])\n",
    "dT2020_raw_age_2039 = (dT2020raw_age['2020']['20 - 24'] +\n",
    "                       dT2020raw_age['2020']['25 - 29'] +\n",
    "                       dT2020raw_age['2020']['30 - 34'] +\n",
    "                       dT2020raw_age['2020']['35 - 39'])\n",
    "dT2020_raw_age_4059 = (dT2020raw_age['2020']['40 - 44'] +\n",
    "                       dT2020raw_age['2020']['45 - 49'] +\n",
    "                       dT2020raw_age['2020']['50 - 54'] +\n",
    "                       dT2020raw_age['2020']['55 - 59'])\n",
    "dT2020_raw_age_6090 = (dT2020raw_age['2020']['60 - 64'] +\n",
    "                       dT2020raw_age['2020']['65 - 69'] +\n",
    "                       dT2020raw_age['2020']['70 - 74'] +\n",
    "                       dT2020raw_age['2020']['75 - 79'] +\n",
    "                       dT2020raw_age['2020']['80 - 84'] +\n",
    "                       dT2020raw_age['2020']['85 - 89'] +\n",
    "                       dT2020raw_age['2020']['90 & Over'])\n",
    "\n",
    "dT2020_age = pd.DataFrame(dT2020_raw_age_0019, columns = ['00 - 19'])\n",
    "dT2020_age.insert(1, '20 - 39', dT2020_raw_age_2039, True)\n",
    "dT2020_age.insert(2, '40 - 59', dT2020_raw_age_4059, True)\n",
    "dT2020_age.insert(3, '60 & Over', dT2020_raw_age_6090, True)\n",
    "dT2020_age.columns = pd.MultiIndex.from_tuples(\n",
    "    zip(['2020', '2020', '2020', '2020'], \n",
    "        dT2020_age.columns))\n",
    "dT2020_age.insert(0, 'SUBZONE_N', listOfSubzones, True)\n",
    "dT2020_age"
   ]
  },
  {
   "cell_type": "markdown",
   "metadata": {},
   "source": [
    "### 2011-2019"
   ]
  },
  {
   "cell_type": "code",
   "execution_count": null,
   "metadata": {},
   "outputs": [],
   "source": [
    "dT201119raw_age = dT201119raw[dT201119raw['Type of Dwelling'] == 'Total']\n",
    "dT201119raw_age = dT201119raw_age.filter(['SUBZONE_N', 'Age Group', '2011', '2012', '2013', '2014', '2015', '2016', '2017', '2018', '2019'], axis=1)\n",
    "dT201119raw_age = dT201119raw_age[dT201119raw_age['Age Group'] != 'Total']\n",
    "for i in range(9):\n",
    "    dT201119raw_age[str(2011+i)] = dT201119raw_age[str(2011+i)].replace({'-': 0}).astype(int)\n",
    "dT201119raw_age = dT201119raw_age.rename(columns={'SUBZONE_N': 'idx'})\n",
    "dT201119raw_age['Age Group'] = dT201119raw_age['Age Group'].replace(['0 - 4', '5 - 9'],['00 - 04', '05 - 09'])\n",
    "dT201119raw_age = pd.pivot(dT201119raw_age.assign(idx = dT201119raw_age.groupby('Age Group').cumcount()),\n",
    "               index='idx',\n",
    "               columns='Age Group')\n",
    "dT201119raw_age.insert(0, 'SUBZONE_N', listOfSubzones1119, True)\n",
    "dT201119raw_age"
   ]
  },
  {
   "cell_type": "code",
   "execution_count": null,
   "metadata": {},
   "outputs": [],
   "source": [
    "dT2019_raw_age_0019 = (dT201119raw_age['2019']['00 - 04'] +\n",
    "                           dT201119raw_age['2019']['05 - 09'] +\n",
    "                           dT201119raw_age['2019']['10 - 14'] +\n",
    "                           dT201119raw_age['2019']['15 - 19'])\n",
    "dT2019_raw_age_2039 = (dT201119raw_age['2019']['20 - 24'] +\n",
    "                           dT201119raw_age['2019']['25 - 29'] +\n",
    "                           dT201119raw_age['2019']['30 - 34'] +\n",
    "                           dT201119raw_age['2019']['35 - 39'])\n",
    "dT2019_raw_age_4059 = (dT201119raw_age['2019']['40 - 44'] +\n",
    "                           dT201119raw_age['2019']['45 - 49'] +\n",
    "                           dT201119raw_age['2019']['50 - 54'] +\n",
    "                           dT201119raw_age['2019']['55 - 59'])\n",
    "dT2019_raw_age_6090 = (dT201119raw_age['2019']['60 - 64'] +\n",
    "                       dT201119raw_age['2019']['65 - 69'] +\n",
    "                       dT201119raw_age['2019']['70 - 74'] +\n",
    "                       dT201119raw_age['2019']['75 - 79'] +\n",
    "                       dT201119raw_age['2019']['80 - 84'] +\n",
    "                       dT201119raw_age['2019']['85 - 89'] +\n",
    "                       dT201119raw_age['2019']['90 & Over'])\n",
    "\n",
    "dT201119_age = pd.DataFrame(dT2019_raw_age_0019, columns = ['00 - 19'])\n",
    "dT201119_age.insert(1, '20 - 39', dT2019_raw_age_2039, True)\n",
    "dT201119_age.insert(2, '40 - 59', dT2019_raw_age_4059, True)\n",
    "dT201119_age.insert(3, '60 & Over', dT2019_raw_age_6090, True)\n",
    "dT201119_age.columns = pd.MultiIndex.from_tuples(\n",
    "        zip(['2019', '2019', '2019', '2019'], \n",
    "            dT201119_age.columns))\n",
    "\n",
    "for i in range(8):\n",
    "    dTx_raw_age_0019 = (dT201119raw_age[str(2018-i)]['00 - 04'] +\n",
    "                           dT201119raw_age[str(2018-i)]['05 - 09'] +\n",
    "                           dT201119raw_age[str(2018-i)]['10 - 14'] +\n",
    "                           dT201119raw_age[str(2018-i)]['15 - 19'])\n",
    "    dTx_raw_age_2039 = (dT201119raw_age[str(2018-i)]['20 - 24'] +\n",
    "                           dT201119raw_age[str(2018-i)]['25 - 29'] +\n",
    "                           dT201119raw_age[str(2018-i)]['30 - 34'] +\n",
    "                           dT201119raw_age[str(2018-i)]['35 - 39'])\n",
    "    dTx_raw_age_4059 = (dT201119raw_age[str(2018-i)]['40 - 44'] +\n",
    "                           dT201119raw_age[str(2018-i)]['45 - 49'] +\n",
    "                           dT201119raw_age[str(2018-i)]['50 - 54'] +\n",
    "                           dT201119raw_age[str(2018-i)]['55 - 59'])\n",
    "    dTx_raw_age_6090 = (dT201119raw_age[str(2018-i)]['60 - 64'] +\n",
    "                           dT201119raw_age[str(2018-i)]['65 - 69'] +\n",
    "                           dT201119raw_age[str(2018-i)]['70 - 74'] +\n",
    "                           dT201119raw_age[str(2018-i)]['75 - 79'] +\n",
    "                           dT201119raw_age[str(2018-i)]['80 - 84'] +\n",
    "                           dT201119raw_age[str(2018-i)]['85 - 89'] +\n",
    "                           dT201119raw_age[str(2018-i)]['90 & Over'])\n",
    "\n",
    "    dTx_age = pd.DataFrame(dTx_raw_age_0019, columns = ['00 - 19'])\n",
    "    dTx_age.insert(1, '20 - 39', dT2020_raw_age_2039, True)\n",
    "    dTx_age.insert(2, '40 - 59', dT2020_raw_age_4059, True)\n",
    "    dTx_age.insert(3, '60 & Over', dT2020_raw_age_6090, True)\n",
    "    dTx_age.columns = pd.MultiIndex.from_tuples(\n",
    "        zip([str(2018-i), str(2018-i), str(2018-i), str(2018-i)], \n",
    "            dTx_age.columns))\n",
    "    dT201119_age = pd.merge(dT201119_age, dTx_age, on='idx') \n",
    "dT201119_age.insert(0, \"SUBZONE_N\", listOfSubzones1119, True)\n",
    "dT201119_age"
   ]
  },
  {
   "cell_type": "markdown",
   "metadata": {},
   "source": [
    "### Extracting Type of Dwelling & Income"
   ]
  },
  {
   "cell_type": "markdown",
   "metadata": {},
   "source": [
    "#### Extract income levels by type of dwelling (separate excel), then filter 2020 population by subzone, and then type of dwelling and combine datasets to calculate average income by subzone\n"
   ]
  },
  {
   "cell_type": "markdown",
   "metadata": {},
   "source": [
    "#### NEW: - .MultiIndex = allows for hierarchical indexing - .replace() = replace values in columns with another value - .insert() = insert value/column to a specified index - . loc[] = access group or column by label - . merge() = merge/join datasets"
   ]
  },
  {
   "cell_type": "code",
   "execution_count": null,
   "metadata": {},
   "outputs": [],
   "source": [
    "#Finding income\n",
    "incomeRaw = pd.read_csv('average-mhi-from-each-source-by-type-of-dwelling.csv')\n",
    "incomeDict = {}\n",
    "\n",
    "#1- and 2-Room Flats*\n",
    "oneAndTwo = incomeRaw.loc[incomeRaw['level_1'] == 'HDB Dwellings - 1- & 2-Room Flats']\n",
    "oneAndTwoTotal = oneAndTwo.loc[incomeRaw['level_2'] == 'Total']\n",
    "incomeDict['1- and 2-Room Flats*'] = int(oneAndTwoTotal['value'])\n",
    "\n",
    "#3-Room Flats\n",
    "three = incomeRaw.loc[incomeRaw['level_1'] == 'HDB Dwellings - 3-Room Flats']\n",
    "threeTotal = three.loc[incomeRaw['level_2'] == 'Total']\n",
    "incomeDict['3-Room Flats'] = int(threeTotal['value'])\n",
    "\n",
    "#4-Room Flats\n",
    "four = incomeRaw.loc[incomeRaw['level_1'] == 'HDB Dwellings - 4-Room Flats']\n",
    "fourTotal = four.loc[incomeRaw['level_2'] == 'Total']\n",
    "incomeDict['4-Room Flats'] = int(fourTotal['value'])\n",
    "\n",
    "#5-Room and Executive Flats\n",
    "fiveAndExec = incomeRaw.loc[incomeRaw['level_1'] == 'HDB Dwellings - 5-Room & Executive Flats']\n",
    "fiveAndExecTotal = fiveAndExec.loc[incomeRaw['level_2'] == 'Total']\n",
    "incomeDict['5-Room and Executive Flats'] = int(fiveAndExecTotal['value'])\n",
    "\n",
    "#Condominiums and Other Apartments\n",
    "condoAndApart = incomeRaw.loc[incomeRaw['level_1'] == 'Condominiums & Other Apartments']\n",
    "condoAndApartTotal = condoAndApart.loc[incomeRaw['level_2'] == 'Total']\n",
    "incomeDict['Condominiums and Other Apartments'] = int(condoAndApartTotal['value'])\n",
    "\n",
    "#Landed Properties\n",
    "landed = incomeRaw.loc[incomeRaw['level_1'] == 'Landed Properties']\n",
    "landedTotal = landed.loc[incomeRaw['level_2'] == 'Total']\n",
    "incomeDict['Landed Properties'] = int(landedTotal['value'])\n",
    "\n",
    "incomeDict"
   ]
  },
  {
   "cell_type": "markdown",
   "metadata": {},
   "source": [
    "### 2020"
   ]
  },
  {
   "cell_type": "code",
   "execution_count": null,
   "metadata": {},
   "outputs": [],
   "source": [
    "dT2020raw_dwelling = dT2020raw[dT2020raw['Age Group'] == 'Total']\n",
    "dT2020raw_dwelling = dT2020raw_dwelling.filter(['SUBZONE_N', 'Type of Dwelling', '2020'], axis=1)\n",
    "dT2020raw_dwelling = dT2020raw_dwelling[dT2020raw_dwelling['Type of Dwelling'] != 'Total HDB^']\n",
    "dT2020raw_dwelling = dT2020raw_dwelling[dT2020raw_dwelling['Type of Dwelling'] != 'Total']\n",
    "dT2020raw_dwelling['2020'] = dT2020raw_dwelling['2020'].replace({'-': 0}).astype(int)\n",
    "dT2020raw_dwelling = dT2020raw_dwelling[dT2020raw_dwelling['Type of Dwelling'] != 'Others']\n",
    "dT2020raw_dwelling = dT2020raw_dwelling.rename(columns={'SUBZONE_N': 'idx'})\n",
    "dT2020raw_dwelling = pd.pivot(dT2020raw_dwelling.assign(idx = dT2020raw_dwelling.groupby('Type of Dwelling').cumcount()),\n",
    "               index='idx',\n",
    "               columns='Type of Dwelling')\n",
    "dT2020raw_dwelling.insert(0, \"SUBZONE_N\", listOfSubzones, True)\n",
    "dT2020raw_dwelling"
   ]
  },
  {
   "cell_type": "code",
   "execution_count": null,
   "metadata": {},
   "outputs": [],
   "source": [
    "#Summing total number of people in the subzone\n",
    "dT2020raw_dwelling_total_subzone = dT2020raw_dwelling['2020'].sum(axis=1)\n",
    "dT2020raw_dwelling.insert(7, \"Total\", dT2020raw_dwelling_total_subzone, True)\n",
    "dT2020raw_dwelling"
   ]
  },
  {
   "cell_type": "code",
   "execution_count": null,
   "metadata": {},
   "outputs": [],
   "source": [
    "#Get average income by subzone\n",
    "average_income = ((dT2020raw_dwelling['2020']['1- and 2-Room Flats*']*incomeDict['1- and 2-Room Flats*'] +\n",
    "                  dT2020raw_dwelling['2020']['3-Room Flats']*incomeDict['3-Room Flats'] +\n",
    "                  dT2020raw_dwelling['2020']['4-Room Flats']*incomeDict['4-Room Flats'] +\n",
    "                  dT2020raw_dwelling['2020']['5-Room and Executive Flats']*incomeDict['5-Room and Executive Flats'] +\n",
    "                  dT2020raw_dwelling['2020']['Condominiums and Other Apartments']*incomeDict['Condominiums and Other Apartments'] +\n",
    "                  dT2020raw_dwelling['2020']['Landed Properties']*incomeDict['Landed Properties']) /\n",
    "                  dT2020raw_dwelling['Total'])\n",
    "dT2020_dwelling_income = pd.DataFrame(average_income, columns = [\"Average Income\"])\n",
    "dT2020_dwelling_income.columns = pd.MultiIndex.from_tuples(\n",
    "        zip([\"2020\"], \n",
    "            dT2020_dwelling_income.columns))\n",
    "dT2020_dwelling_income.insert(0, 'SUBZONE_N', listOfSubzones, True)\n",
    "dT2020_dwelling_income"
   ]
  },
  {
   "cell_type": "markdown",
   "metadata": {},
   "source": [
    "### 2011-2019"
   ]
  },
  {
   "cell_type": "code",
   "execution_count": null,
   "metadata": {},
   "outputs": [],
   "source": [
    "dT201119raw_dwelling = dT201119raw[dT201119raw['Age Group'] == 'Total']\n",
    "dT201119raw_dwelling = dT201119raw_dwelling.filter(['SUBZONE_N', 'Type of Dwelling', '2011', '2012', '2013', '2014', '2015', '2016', '2017', '2018', '2019'], axis=1)\n",
    "dT201119raw_dwelling = dT201119raw_dwelling[dT201119raw_dwelling['Type of Dwelling'] != 'Total HDB^']\n",
    "dT201119raw_dwelling = dT201119raw_dwelling[dT201119raw_dwelling['Type of Dwelling'] != 'Total']\n",
    "for i in range(9):\n",
    "    dT201119raw_dwelling[str(2011+i)] = dT201119raw_dwelling[str(2011+i)].replace({'-': 0}).astype(int)\n",
    "dT201119raw_dwelling = dT201119raw_dwelling[dT201119raw_dwelling['Type of Dwelling'] != 'Others']\n",
    "dT201119raw_dwelling = dT201119raw_dwelling.rename(columns={'SUBZONE_N': 'idx'})\n",
    "dT201119raw_dwelling = pd.pivot(dT201119raw_dwelling.assign(idx = dT201119raw_dwelling.groupby('Type of Dwelling').cumcount()),\n",
    "               index='idx',\n",
    "               columns='Type of Dwelling')\n",
    "dT201119raw_dwelling.insert(0, \"SUBZONE_N\", listOfSubzones1119, True)\n",
    "dT201119raw_dwelling"
   ]
  },
  {
   "cell_type": "code",
   "execution_count": null,
   "metadata": {},
   "outputs": [],
   "source": [
    "#Summing total number of people in the subzone\n",
    "for i in range(9):\n",
    "    dT201119raw_dwelling_total_subzone = dT201119raw_dwelling[str(2011+i)].sum(axis=1)\n",
    "    dT201119raw_dwelling.insert((i+1)*7, \"Total \" + str(2011+i), dT201119raw_dwelling_total_subzone, True)\n",
    "dT201119raw_dwelling"
   ]
  },
  {
   "cell_type": "code",
   "execution_count": null,
   "metadata": {},
   "outputs": [],
   "source": [
    "#Get average income by subzone\n",
    "average_income = ((dT201119raw_dwelling['2019']['1- and 2-Room Flats*']*incomeDict['1- and 2-Room Flats*'] +\n",
    "                  dT201119raw_dwelling['2019']['3-Room Flats']*incomeDict['3-Room Flats'] +\n",
    "                  dT201119raw_dwelling['2019']['4-Room Flats']*incomeDict['4-Room Flats'] +\n",
    "                  dT201119raw_dwelling['2019']['5-Room and Executive Flats']*incomeDict['5-Room and Executive Flats'] +\n",
    "                  dT201119raw_dwelling['2019']['Condominiums and Other Apartments']*incomeDict['Condominiums and Other Apartments'] +\n",
    "                  dT201119raw_dwelling['2019']['Landed Properties']*incomeDict['Landed Properties']) /\n",
    "                  dT201119raw_dwelling['Total 2019'])\n",
    "dT201119_dwelling_income = pd.DataFrame(average_income, columns = [\"Average Income\"])\n",
    "dT201119_dwelling_income.columns = pd.MultiIndex.from_tuples(\n",
    "        zip(['2019'], \n",
    "            dT201119_dwelling_income.columns))\n",
    "\n",
    "for i in range(8):\n",
    "    average_income = ((dT201119raw_dwelling[str(2018-i)]['1- and 2-Room Flats*']*incomeDict['1- and 2-Room Flats*'] +\n",
    "                  dT201119raw_dwelling[str(2018-i)]['3-Room Flats']*incomeDict['3-Room Flats'] +\n",
    "                  dT201119raw_dwelling[str(2018-i)]['4-Room Flats']*incomeDict['4-Room Flats'] +\n",
    "                  dT201119raw_dwelling[str(2018-i)]['5-Room and Executive Flats']*incomeDict['5-Room and Executive Flats'] +\n",
    "                  dT201119raw_dwelling[str(2018-i)]['Condominiums and Other Apartments']*incomeDict['Condominiums and Other Apartments'] +\n",
    "                  dT201119raw_dwelling[str(2018-i)]['Landed Properties']*incomeDict['Landed Properties']) /\n",
    "                  dT201119raw_dwelling['Total ' + str(2018-i)])\n",
    "    dTx_dwelling_income = pd.DataFrame(average_income, columns = [\"Average Income\"])\n",
    "    dTx_dwelling_income.columns = pd.MultiIndex.from_tuples(\n",
    "        zip([str(2018-i)], \n",
    "            dTx_dwelling_income.columns))\n",
    "    dT201119_dwelling_income = pd.merge(dT201119_dwelling_income, dTx_dwelling_income, on='idx') \n",
    "dT201119_dwelling_income.insert(0, 'SUBZONE_N', listOfSubzones1119, True)\n",
    "dT201119_dwelling_income"
   ]
  },
  {
   "cell_type": "markdown",
   "metadata": {},
   "source": [
    "### Combining Datasets of 2020 and 2011-2019"
   ]
  },
  {
   "cell_type": "markdown",
   "metadata": {},
   "source": [
    "#### Combine all datasets for 2020, 2011-2019 and 2011-2020 datasets"
   ]
  },
  {
   "cell_type": "markdown",
   "metadata": {},
   "source": [
    "#### NEW: - . merge() = merge/join datasets"
   ]
  },
  {
   "cell_type": "markdown",
   "metadata": {},
   "source": [
    "### 2020"
   ]
  },
  {
   "cell_type": "code",
   "execution_count": null,
   "metadata": {},
   "outputs": [],
   "source": [
    "dT2020_data1 = pd.merge(dT2020_male_perc, dT2020_age, how='inner', on = 'SUBZONE_N', validate='many_to_many')\n",
    "dT2020_data1 = pd.merge(dT2020_data1, dT2020_dwelling_income, how='inner', on = 'SUBZONE_N', validate='many_to_many')\n",
    "dT2020_data1"
   ]
  },
  {
   "cell_type": "markdown",
   "metadata": {},
   "source": [
    "### 2011-2019"
   ]
  },
  {
   "cell_type": "code",
   "execution_count": null,
   "metadata": {},
   "outputs": [],
   "source": [
    "dT201119_data1 = pd.merge(dT201119_male_perc, dT201119_age, how='inner', on = 'SUBZONE_N', validate='many_to_many')\n",
    "dT201119_data1 = pd.merge(dT201119_data1, dT201119_dwelling_income, how='inner', on = 'SUBZONE_N', validate='many_to_many')\n",
    "dT201119_data1 = dT201119_data1[['SUBZONE_N','2019', '2018', '2017', '2016', '2015', '2014', '2013', '2012', '2011']]\n",
    "dT201119_data1"
   ]
  },
  {
   "cell_type": "code",
   "execution_count": null,
   "metadata": {},
   "outputs": [],
   "source": [
    "dT_data1 = pd.merge(dT2020_data1, dT201119_data1, how='inner', on = 'SUBZONE_N', validate='many_to_many')\n",
    "dT_data1"
   ]
  },
  {
   "cell_type": "markdown",
   "metadata": {},
   "source": [
    "# Combining Tap In/Tap Out Data into a total \"Traffic\" column\n",
    "### –––––––––––––––––––––––––––––––––––––––––––––––––––––––––––––––––––––––––––"
   ]
  },
  {
   "cell_type": "markdown",
   "metadata": {},
   "source": [
    "## Cleaning of Bus Data for 2021 Jan"
   ]
  },
  {
   "cell_type": "code",
   "execution_count": null,
   "metadata": {},
   "outputs": [],
   "source": [
    "BusData202101 = pd.read_csv('2.5_transport_node_bus_202101.csv')\n",
    "BusData202101.head()"
   ]
  },
  {
   "cell_type": "markdown",
   "metadata": {},
   "source": [
    "#### Combining the raw data to Total Tap In Tap Out Volume, and combining the weekday and weekend data into a single week"
   ]
  },
  {
   "cell_type": "code",
   "execution_count": null,
   "metadata": {},
   "outputs": [],
   "source": [
    "BusData202101['TOTAL_TAP_IN_TAP_OUT_VOLUME'] = BusData202101['TOTAL_TAP_IN_VOLUME'] + BusData202101['TOTAL_TAP_OUT_VOLUME']\n",
    "BusData202101Weekday = pd.DataFrame(BusData202101[BusData202101['DAY_TYPE'] == 'WEEKDAY'])\n",
    "BusData202101WeekendPH = pd.DataFrame(BusData202101[BusData202101['DAY_TYPE'] == 'WEEKENDS/HOLIDAY'])\n",
    "BusData202101Weekday = BusData202101Weekday.rename(columns = {'TOTAL_TAP_IN_VOLUME': 'TOTAL_TAP_IN_VOLUME_WEEKDAY', 'TOTAL_TAP_OUT_VOLUME': 'TOTAL_TAP_OUT_VOLUME_WEEKDAY', 'TOTAL_TAP_IN_TAP_OUT_VOLUME': 'TOTAL_TAP_IN_TAP_OUT_VOLUME_WEEKDAY'}, inplace = False)\n",
    "BusData202101WeekendPH = BusData202101WeekendPH.rename(columns = {'TOTAL_TAP_IN_VOLUME': 'TOTAL_TAP_IN_VOLUME_WEEKEND', 'TOTAL_TAP_OUT_VOLUME': 'TOTAL_TAP_OUT_VOLUME_WEEKEND', 'TOTAL_TAP_IN_TAP_OUT_VOLUME': 'TOTAL_TAP_IN_TAP_OUT_VOLUME_WEEKEND'}, inplace = False)\n",
    "BusData202101WeekendPH = BusData202101WeekendPH[['DAY_TYPE', 'TIME_PER_HOUR', 'PT_CODE', 'TOTAL_TAP_IN_VOLUME_WEEKEND', 'TOTAL_TAP_OUT_VOLUME_WEEKEND', 'TOTAL_TAP_IN_TAP_OUT_VOLUME_WEEKEND']]\n",
    "\n",
    "#Calculating the tap in tap out for a single week \n",
    "BusData202101Merge = pd.merge(BusData202101Weekday, BusData202101WeekendPH, on=['PT_CODE', 'TIME_PER_HOUR'])\n",
    "BusData202101Merge['TOTAL_TAP_IN_VOLUME_WEEKLY'] = 5*BusData202101Merge['TOTAL_TAP_IN_VOLUME_WEEKDAY'] + 2*BusData202101Merge['TOTAL_TAP_IN_VOLUME_WEEKEND']\n",
    "BusData202101Merge['TOTAL_TAP_OUT_VOLUME_WEEKLY'] = 5*BusData202101Merge['TOTAL_TAP_OUT_VOLUME_WEEKDAY'] + 2*BusData202101Merge['TOTAL_TAP_OUT_VOLUME_WEEKEND']\n",
    "BusData202101Merge['TOTAL_TAP_IN_TAP_OUT_VOLUME_WEEKLY'] = 5*BusData202101Merge['TOTAL_TAP_IN_TAP_OUT_VOLUME_WEEKDAY'] + 2*BusData202101Merge['TOTAL_TAP_IN_TAP_OUT_VOLUME_WEEKEND']\n",
    "BusData202101Merge = BusData202101Merge[['YEAR_MONTH', 'TIME_PER_HOUR', 'PT_CODE', 'TOTAL_TAP_IN_VOLUME_WEEKLY', 'TOTAL_TAP_OUT_VOLUME_WEEKLY', 'TOTAL_TAP_IN_TAP_OUT_VOLUME_WEEKDAY', 'TOTAL_TAP_IN_TAP_OUT_VOLUME_WEEKLY']]\n",
    "BusData202101Merge.head()"
   ]
  },
  {
   "cell_type": "markdown",
   "metadata": {},
   "source": [
    "#### Combining the data into peak and combining the hours of the day"
   ]
  },
  {
   "cell_type": "code",
   "execution_count": null,
   "metadata": {},
   "outputs": [],
   "source": [
    "BusData202101Sorted = BusData202101Merge.sort_values(by=['PT_CODE', 'TIME_PER_HOUR'])\n",
    "BusData202101Sorted = BusData202101Sorted[['TIME_PER_HOUR', 'PT_CODE', 'TOTAL_TAP_IN_TAP_OUT_VOLUME_WEEKDAY', 'TOTAL_TAP_IN_TAP_OUT_VOLUME_WEEKLY']]\n",
    "\n",
    "#Getting the peak hour tap in tap out value\n",
    "BusData202101AMPeak = pd.DataFrame(BusData202101Sorted[BusData202101Sorted['TIME_PER_HOUR'] == 8])\n",
    "BusData202101PMPeak = pd.DataFrame(BusData202101Sorted[BusData202101Sorted['TIME_PER_HOUR'] == 18])\n",
    "BusData202101Peak = pd.merge(BusData202101AMPeak, BusData202101PMPeak, on=['PT_CODE'])\n",
    "BusData202101Peak['TOTAL_TAP_IN_TAP_OUT_VOLUME_WEEKDAY_PEAK'] = BusData202101Peak['TOTAL_TAP_IN_TAP_OUT_VOLUME_WEEKDAY_x'] + BusData202101Peak['TOTAL_TAP_IN_TAP_OUT_VOLUME_WEEKDAY_y']\n",
    "BusData202101Peak['TOTAL_TAP_IN_TAP_OUT_VOLUME_PEAK'] = BusData202101Peak['TOTAL_TAP_IN_TAP_OUT_VOLUME_WEEKLY_x'] + BusData202101Peak['TOTAL_TAP_IN_TAP_OUT_VOLUME_WEEKLY_y']\n",
    "BusData202101Peak = BusData202101Peak[['PT_CODE', 'TOTAL_TAP_IN_TAP_OUT_VOLUME_WEEKDAY_PEAK', 'TOTAL_TAP_IN_TAP_OUT_VOLUME_PEAK']]\n",
    "\n",
    "#Getting the tap in tap out for the 24 hr time frame\n",
    "BusData202101Time = pd.DataFrame(BusData202101Sorted[BusData202101Sorted['TIME_PER_HOUR'] == 0])\n",
    "for variable in range(5,24):\n",
    "    BusData202101TimeTemp = pd.DataFrame(BusData202101Sorted[BusData202101Sorted['TIME_PER_HOUR'] == variable])\n",
    "    BusData202101TimeTemp = BusData202101TimeTemp[['PT_CODE', 'TOTAL_TAP_IN_TAP_OUT_VOLUME_WEEKDAY', 'TOTAL_TAP_IN_TAP_OUT_VOLUME_WEEKLY']]\n",
    "    BusData202101Time = pd.merge(BusData202101Time, BusData202101TimeTemp, on=['PT_CODE'])\n",
    "    BusData202101Time['TOTAL_TAP_IN_TAP_OUT_VOLUME_WEEKDAY'] = BusData202101Time['TOTAL_TAP_IN_TAP_OUT_VOLUME_WEEKDAY_x'] + BusData202101Time['TOTAL_TAP_IN_TAP_OUT_VOLUME_WEEKDAY_y']\n",
    "    BusData202101Time['TOTAL_TAP_IN_TAP_OUT_VOLUME_WEEKLY'] = BusData202101Time['TOTAL_TAP_IN_TAP_OUT_VOLUME_WEEKLY_x'] + BusData202101Time['TOTAL_TAP_IN_TAP_OUT_VOLUME_WEEKLY_y']\n",
    "    BusData202101Time = BusData202101Time[['PT_CODE', 'TOTAL_TAP_IN_TAP_OUT_VOLUME_WEEKDAY', 'TOTAL_TAP_IN_TAP_OUT_VOLUME_WEEKLY']]\n",
    "BusData202101Peak = BusData202101Peak.rename(columns = {'TOTAL_TAP_IN_TAP_OUT_VOLUME_WEEKDAY_PEAK' : 'TOTAL_TAP_IN_TAP_OUT_VOLUME_WEEKDAY_PEAK_01'})\n",
    "BusData202101Time = BusData202101Time.rename(columns = {'TOTAL_TAP_IN_TAP_OUT_VOLUME_WEEKDAY' : 'TOTAL_TAP_IN_TAP_OUT_VOLUME_WEEKDAY_01'})\n",
    "BusData202101Time = BusData202101Time.rename(columns = {'TOTAL_TAP_IN_TAP_OUT_VOLUME_WEEKLY' : 'TOTAL_TAP_IN_TAP_OUT_VOLUME_WEEKLY_01'})\n",
    "BusData202101Peak = BusData202101Peak.rename(columns = {'TOTAL_TAP_IN_TAP_OUT_VOLUME_PEAK' : 'TOTAL_TAP_IN_TAP_OUT_VOLUME_PEAK_01'})\n",
    "BusData202101 = pd.merge(BusData202101Peak, BusData202101Time, on=['PT_CODE'])\n",
    "BusData202101"
   ]
  },
  {
   "cell_type": "markdown",
   "metadata": {},
   "source": [
    "## Cleaning of Bus Data for 2021 Feb"
   ]
  },
  {
   "cell_type": "code",
   "execution_count": null,
   "metadata": {},
   "outputs": [],
   "source": [
    "BusData202102 = pd.read_csv('2.5_transport_node_bus_202102.csv')\n",
    "BusData202102.head()"
   ]
  },
  {
   "cell_type": "markdown",
   "metadata": {},
   "source": [
    "#### Combining the raw data to Total Tap In Tap Out Volume, and combining the weekday and weekend data into a single week"
   ]
  },
  {
   "cell_type": "code",
   "execution_count": null,
   "metadata": {},
   "outputs": [],
   "source": [
    "BusData202102['TOTAL_TAP_IN_TAP_OUT_VOLUME'] = BusData202102['TOTAL_TAP_IN_VOLUME'] + BusData202102['TOTAL_TAP_OUT_VOLUME']\n",
    "BusData202102Weekday = pd.DataFrame(BusData202102[BusData202102['DAY_TYPE'] == 'WEEKDAY'])\n",
    "BusData202102WeekendPH = pd.DataFrame(BusData202102[BusData202102['DAY_TYPE'] == 'WEEKENDS/HOLIDAY'])\n",
    "BusData202102Weekday = BusData202102Weekday.rename(columns = {'TOTAL_TAP_IN_VOLUME': 'TOTAL_TAP_IN_VOLUME_WEEKDAY', 'TOTAL_TAP_OUT_VOLUME': 'TOTAL_TAP_OUT_VOLUME_WEEKDAY', 'TOTAL_TAP_IN_TAP_OUT_VOLUME': 'TOTAL_TAP_IN_TAP_OUT_VOLUME_WEEKDAY'}, inplace = False)\n",
    "BusData202102WeekendPH = BusData202102WeekendPH.rename(columns = {'TOTAL_TAP_IN_VOLUME': 'TOTAL_TAP_IN_VOLUME_WEEKEND', 'TOTAL_TAP_OUT_VOLUME': 'TOTAL_TAP_OUT_VOLUME_WEEKEND', 'TOTAL_TAP_IN_TAP_OUT_VOLUME': 'TOTAL_TAP_IN_TAP_OUT_VOLUME_WEEKEND'}, inplace = False)\n",
    "BusData202102WeekendPH = BusData202102WeekendPH[['DAY_TYPE', 'TIME_PER_HOUR', 'PT_CODE', 'TOTAL_TAP_IN_VOLUME_WEEKEND', 'TOTAL_TAP_OUT_VOLUME_WEEKEND', 'TOTAL_TAP_IN_TAP_OUT_VOLUME_WEEKEND']]\n",
    "\n",
    "#Calculating the tap in tap out for a single week \n",
    "BusData202102Merge = pd.merge(BusData202102Weekday, BusData202102WeekendPH, on=['PT_CODE', 'TIME_PER_HOUR'])\n",
    "BusData202102Merge['TOTAL_TAP_IN_VOLUME_WEEKLY'] = 5*BusData202102Merge['TOTAL_TAP_IN_VOLUME_WEEKDAY'] + 2*BusData202102Merge['TOTAL_TAP_IN_VOLUME_WEEKEND']\n",
    "BusData202102Merge['TOTAL_TAP_OUT_VOLUME_WEEKLY'] = 5*BusData202102Merge['TOTAL_TAP_OUT_VOLUME_WEEKDAY'] + 2*BusData202102Merge['TOTAL_TAP_OUT_VOLUME_WEEKEND']\n",
    "BusData202102Merge['TOTAL_TAP_IN_TAP_OUT_VOLUME_WEEKLY'] = 5*BusData202102Merge['TOTAL_TAP_IN_TAP_OUT_VOLUME_WEEKDAY'] + 2*BusData202102Merge['TOTAL_TAP_IN_TAP_OUT_VOLUME_WEEKEND']\n",
    "BusData202102Merge = BusData202102Merge[['YEAR_MONTH', 'TIME_PER_HOUR', 'PT_CODE', 'TOTAL_TAP_IN_VOLUME_WEEKLY', 'TOTAL_TAP_OUT_VOLUME_WEEKLY', 'TOTAL_TAP_IN_TAP_OUT_VOLUME_WEEKDAY', 'TOTAL_TAP_IN_TAP_OUT_VOLUME_WEEKLY']]\n",
    "BusData202102Merge.head()\n"
   ]
  },
  {
   "cell_type": "markdown",
   "metadata": {},
   "source": [
    "#### Combining the data into peak and combining the hours of the day"
   ]
  },
  {
   "cell_type": "code",
   "execution_count": null,
   "metadata": {},
   "outputs": [],
   "source": [
    "BusData202102Sorted = BusData202102Merge.sort_values(by=['PT_CODE', 'TIME_PER_HOUR'])\n",
    "BusData202102Sorted = BusData202102Sorted[['TIME_PER_HOUR', 'PT_CODE', 'TOTAL_TAP_IN_TAP_OUT_VOLUME_WEEKDAY', 'TOTAL_TAP_IN_TAP_OUT_VOLUME_WEEKLY']]\n",
    "\n",
    "#Getting the peak hour tap in tap out value\n",
    "BusData202102AMPeak = pd.DataFrame(BusData202102Sorted[BusData202102Sorted['TIME_PER_HOUR'] == 8])\n",
    "BusData202102PMPeak = pd.DataFrame(BusData202102Sorted[BusData202102Sorted['TIME_PER_HOUR'] == 18])\n",
    "BusData202102Peak = pd.merge(BusData202102AMPeak, BusData202102PMPeak, on=['PT_CODE'])\n",
    "BusData202102Peak['TOTAL_TAP_IN_TAP_OUT_VOLUME_WEEKDAY_PEAK'] = BusData202102Peak['TOTAL_TAP_IN_TAP_OUT_VOLUME_WEEKDAY_x'] + BusData202102Peak['TOTAL_TAP_IN_TAP_OUT_VOLUME_WEEKDAY_y']\n",
    "BusData202102Peak['TOTAL_TAP_IN_TAP_OUT_VOLUME_PEAK'] = BusData202102Peak['TOTAL_TAP_IN_TAP_OUT_VOLUME_WEEKLY_x'] + BusData202102Peak['TOTAL_TAP_IN_TAP_OUT_VOLUME_WEEKLY_y']\n",
    "BusData202102Peak = BusData202102Peak[['PT_CODE', 'TOTAL_TAP_IN_TAP_OUT_VOLUME_WEEKDAY_PEAK', 'TOTAL_TAP_IN_TAP_OUT_VOLUME_PEAK']]\n",
    "\n",
    "#Getting the tap in tap out for the 24 hr time frame\n",
    "BusData202102Time = pd.DataFrame(BusData202102Sorted[BusData202102Sorted['TIME_PER_HOUR'] == 0])\n",
    "for variable in range(5,24):\n",
    "    BusData202102TimeTemp = pd.DataFrame(BusData202102Sorted[BusData202102Sorted['TIME_PER_HOUR'] == variable])\n",
    "    BusData202102TimeTemp = BusData202102TimeTemp[['PT_CODE', 'TOTAL_TAP_IN_TAP_OUT_VOLUME_WEEKDAY', 'TOTAL_TAP_IN_TAP_OUT_VOLUME_WEEKLY']]\n",
    "    BusData202102Time = pd.merge(BusData202102Time, BusData202102TimeTemp, on=['PT_CODE'])\n",
    "    BusData202102Time['TOTAL_TAP_IN_TAP_OUT_VOLUME_WEEKDAY'] = BusData202102Time['TOTAL_TAP_IN_TAP_OUT_VOLUME_WEEKDAY_x'] + BusData202102Time['TOTAL_TAP_IN_TAP_OUT_VOLUME_WEEKDAY_y']\n",
    "    BusData202102Time['TOTAL_TAP_IN_TAP_OUT_VOLUME_WEEKLY'] = BusData202102Time['TOTAL_TAP_IN_TAP_OUT_VOLUME_WEEKLY_x'] + BusData202102Time['TOTAL_TAP_IN_TAP_OUT_VOLUME_WEEKLY_y']\n",
    "    BusData202102Time = BusData202102Time[['PT_CODE', 'TOTAL_TAP_IN_TAP_OUT_VOLUME_WEEKDAY', 'TOTAL_TAP_IN_TAP_OUT_VOLUME_WEEKLY']]\n",
    "BusData202102Peak = BusData202102Peak.rename(columns = {'TOTAL_TAP_IN_TAP_OUT_VOLUME_WEEKDAY_PEAK' : 'TOTAL_TAP_IN_TAP_OUT_VOLUME_WEEKDAY_PEAK_02'})\n",
    "BusData202102Time = BusData202102Time.rename(columns = {'TOTAL_TAP_IN_TAP_OUT_VOLUME_WEEKDAY' : 'TOTAL_TAP_IN_TAP_OUT_VOLUME_WEEKDAY_02'})\n",
    "BusData202102Time = BusData202102Time.rename(columns = {'TOTAL_TAP_IN_TAP_OUT_VOLUME_WEEKLY' : 'TOTAL_TAP_IN_TAP_OUT_VOLUME_WEEKLY_02'})\n",
    "BusData202102Peak = BusData202102Peak.rename(columns = {'TOTAL_TAP_IN_TAP_OUT_VOLUME_PEAK' : 'TOTAL_TAP_IN_TAP_OUT_VOLUME_PEAK_02'})\n",
    "BusData202102 = pd.merge(BusData202102Peak, BusData202102Time, on=['PT_CODE'])\n",
    "BusData202102\n"
   ]
  },
  {
   "cell_type": "markdown",
   "metadata": {},
   "source": [
    "## Cleaning of Bus Data for 2021 Mar"
   ]
  },
  {
   "cell_type": "code",
   "execution_count": null,
   "metadata": {},
   "outputs": [],
   "source": [
    "BusData202103 = pd.read_csv('2.5_transport_node_bus_202103.csv')\n",
    "BusData202103.head()"
   ]
  },
  {
   "cell_type": "markdown",
   "metadata": {},
   "source": [
    "#### Combining the raw data to Total Tap In Tap Out Volume, and combining the weekday and weekend data into a single week"
   ]
  },
  {
   "cell_type": "code",
   "execution_count": null,
   "metadata": {},
   "outputs": [],
   "source": [
    "BusData202103['TOTAL_TAP_IN_TAP_OUT_VOLUME'] = BusData202103['TOTAL_TAP_IN_VOLUME'] + BusData202103['TOTAL_TAP_OUT_VOLUME']\n",
    "BusData202103Weekday = pd.DataFrame(BusData202103[BusData202103['DAY_TYPE'] == 'WEEKDAY'])\n",
    "BusData202103WeekendPH = pd.DataFrame(BusData202103[BusData202103['DAY_TYPE'] == 'WEEKENDS/HOLIDAY'])\n",
    "BusData202103Weekday = BusData202103Weekday.rename(columns = {'TOTAL_TAP_IN_VOLUME': 'TOTAL_TAP_IN_VOLUME_WEEKDAY', 'TOTAL_TAP_OUT_VOLUME': 'TOTAL_TAP_OUT_VOLUME_WEEKDAY', 'TOTAL_TAP_IN_TAP_OUT_VOLUME': 'TOTAL_TAP_IN_TAP_OUT_VOLUME_WEEKDAY'}, inplace = False)\n",
    "BusData202103WeekendPH = BusData202103WeekendPH.rename(columns = {'TOTAL_TAP_IN_VOLUME': 'TOTAL_TAP_IN_VOLUME_WEEKEND', 'TOTAL_TAP_OUT_VOLUME': 'TOTAL_TAP_OUT_VOLUME_WEEKEND', 'TOTAL_TAP_IN_TAP_OUT_VOLUME': 'TOTAL_TAP_IN_TAP_OUT_VOLUME_WEEKEND'}, inplace = False)\n",
    "BusData202103WeekendPH = BusData202103WeekendPH[['DAY_TYPE', 'TIME_PER_HOUR', 'PT_CODE', 'TOTAL_TAP_IN_VOLUME_WEEKEND', 'TOTAL_TAP_OUT_VOLUME_WEEKEND', 'TOTAL_TAP_IN_TAP_OUT_VOLUME_WEEKEND']]\n",
    "\n",
    "#Calculating the tap in tap out for a single week \n",
    "BusData202103Merge = pd.merge(BusData202103Weekday, BusData202103WeekendPH, on=['PT_CODE', 'TIME_PER_HOUR'])\n",
    "BusData202103Merge['TOTAL_TAP_IN_VOLUME_WEEKLY'] = 5*BusData202103Merge['TOTAL_TAP_IN_VOLUME_WEEKDAY'] + 2*BusData202103Merge['TOTAL_TAP_IN_VOLUME_WEEKEND']\n",
    "BusData202103Merge['TOTAL_TAP_OUT_VOLUME_WEEKLY'] = 5*BusData202103Merge['TOTAL_TAP_OUT_VOLUME_WEEKDAY'] + 2*BusData202103Merge['TOTAL_TAP_OUT_VOLUME_WEEKEND']\n",
    "BusData202103Merge['TOTAL_TAP_IN_TAP_OUT_VOLUME_WEEKLY'] = 5*BusData202103Merge['TOTAL_TAP_IN_TAP_OUT_VOLUME_WEEKDAY'] + 2*BusData202103Merge['TOTAL_TAP_IN_TAP_OUT_VOLUME_WEEKEND']\n",
    "BusData202103Merge = BusData202103Merge[['YEAR_MONTH', 'TIME_PER_HOUR', 'PT_CODE', 'TOTAL_TAP_IN_VOLUME_WEEKLY', 'TOTAL_TAP_OUT_VOLUME_WEEKLY', 'TOTAL_TAP_IN_TAP_OUT_VOLUME_WEEKDAY', 'TOTAL_TAP_IN_TAP_OUT_VOLUME_WEEKLY']]\n",
    "BusData202103Merge.head()\n"
   ]
  },
  {
   "cell_type": "markdown",
   "metadata": {},
   "source": [
    "#### Combining the data into peak and combining the hours of the day"
   ]
  },
  {
   "cell_type": "code",
   "execution_count": null,
   "metadata": {},
   "outputs": [],
   "source": [
    "BusData202103Sorted = BusData202103Merge.sort_values(by=['PT_CODE', 'TIME_PER_HOUR'])\n",
    "BusData202103Sorted = BusData202103Sorted[['TIME_PER_HOUR', 'PT_CODE', 'TOTAL_TAP_IN_TAP_OUT_VOLUME_WEEKDAY', 'TOTAL_TAP_IN_TAP_OUT_VOLUME_WEEKLY']]\n",
    "\n",
    "#Getting the peak hour tap in tap out value\n",
    "BusData202103AMPeak = pd.DataFrame(BusData202103Sorted[BusData202103Sorted['TIME_PER_HOUR'] == 8])\n",
    "BusData202103PMPeak = pd.DataFrame(BusData202103Sorted[BusData202103Sorted['TIME_PER_HOUR'] == 18])\n",
    "BusData202103Peak = pd.merge(BusData202103AMPeak, BusData202103PMPeak, on=['PT_CODE'])\n",
    "BusData202103Peak['TOTAL_TAP_IN_TAP_OUT_VOLUME_WEEKDAY_PEAK'] = BusData202103Peak['TOTAL_TAP_IN_TAP_OUT_VOLUME_WEEKDAY_x'] + BusData202103Peak['TOTAL_TAP_IN_TAP_OUT_VOLUME_WEEKDAY_y']\n",
    "BusData202103Peak['TOTAL_TAP_IN_TAP_OUT_VOLUME_PEAK'] = BusData202103Peak['TOTAL_TAP_IN_TAP_OUT_VOLUME_WEEKLY_x'] + BusData202103Peak['TOTAL_TAP_IN_TAP_OUT_VOLUME_WEEKLY_y']\n",
    "BusData202103Peak = BusData202103Peak[['PT_CODE', 'TOTAL_TAP_IN_TAP_OUT_VOLUME_WEEKDAY_PEAK', 'TOTAL_TAP_IN_TAP_OUT_VOLUME_PEAK']]\n",
    "\n",
    "#Getting the tap in tap out for the 24 hr time frame\n",
    "BusData202103Time = pd.DataFrame(BusData202103Sorted[BusData202103Sorted['TIME_PER_HOUR'] == 0])\n",
    "for variable in range(5,24):\n",
    "    BusData202103TimeTemp = pd.DataFrame(BusData202103Sorted[BusData202103Sorted['TIME_PER_HOUR'] == variable])\n",
    "    BusData202103TimeTemp = BusData202103TimeTemp[['PT_CODE', 'TOTAL_TAP_IN_TAP_OUT_VOLUME_WEEKDAY', 'TOTAL_TAP_IN_TAP_OUT_VOLUME_WEEKLY']]\n",
    "    BusData202103Time = pd.merge(BusData202103Time, BusData202103TimeTemp, on=['PT_CODE'])\n",
    "    BusData202103Time['TOTAL_TAP_IN_TAP_OUT_VOLUME_WEEKDAY'] = BusData202103Time['TOTAL_TAP_IN_TAP_OUT_VOLUME_WEEKDAY_x'] + BusData202103Time['TOTAL_TAP_IN_TAP_OUT_VOLUME_WEEKDAY_y']\n",
    "    BusData202103Time['TOTAL_TAP_IN_TAP_OUT_VOLUME_WEEKLY'] = BusData202103Time['TOTAL_TAP_IN_TAP_OUT_VOLUME_WEEKLY_x'] + BusData202103Time['TOTAL_TAP_IN_TAP_OUT_VOLUME_WEEKLY_y']\n",
    "    BusData202103Time = BusData202103Time[['PT_CODE', 'TOTAL_TAP_IN_TAP_OUT_VOLUME_WEEKDAY', 'TOTAL_TAP_IN_TAP_OUT_VOLUME_WEEKLY']]\n",
    "BusData202103Peak = BusData202103Peak.rename(columns = {'TOTAL_TAP_IN_TAP_OUT_VOLUME_WEEKDAY_PEAK' : 'TOTAL_TAP_IN_TAP_OUT_VOLUME_WEEKDAY_PEAK_03'})\n",
    "BusData202103Time = BusData202103Time.rename(columns = {'TOTAL_TAP_IN_TAP_OUT_VOLUME_WEEKDAY' : 'TOTAL_TAP_IN_TAP_OUT_VOLUME_WEEKDAY_03'})\n",
    "BusData202103Time = BusData202103Time.rename(columns = {'TOTAL_TAP_IN_TAP_OUT_VOLUME_WEEKLY' : 'TOTAL_TAP_IN_TAP_OUT_VOLUME_WEEKLY_03'})\n",
    "BusData202103Peak = BusData202103Peak.rename(columns = {'TOTAL_TAP_IN_TAP_OUT_VOLUME_PEAK' : 'TOTAL_TAP_IN_TAP_OUT_VOLUME_PEAK_03'})\n",
    "BusData202103 = pd.merge(BusData202103Peak, BusData202103Time, on=['PT_CODE'])\n",
    "BusData202103\n"
   ]
  },
  {
   "cell_type": "markdown",
   "metadata": {},
   "source": [
    "## Merging data from all 3 months and getting the Average ,Weekday Percentage and Peak Hour Percentage"
   ]
  },
  {
   "cell_type": "code",
   "execution_count": null,
   "metadata": {
    "scrolled": true
   },
   "outputs": [],
   "source": [
    "BusData2021 = pd.merge(BusData202101, BusData202102, on=['PT_CODE'])\n",
    "BusData2021 = pd.merge(BusData2021, BusData202103, on=['PT_CODE'])\n",
    "BusData2021.head()"
   ]
  },
  {
   "cell_type": "code",
   "execution_count": null,
   "metadata": {},
   "outputs": [],
   "source": [
    "#Finding the Total of the 3 months\n",
    "BusData2021['TOTAL_TAP_IN_TAP_OUT_VOLUME_WEEKDAY_PEAK'] = BusData2021['TOTAL_TAP_IN_TAP_OUT_VOLUME_WEEKDAY_PEAK_01'] + BusData2021['TOTAL_TAP_IN_TAP_OUT_VOLUME_WEEKDAY_PEAK_02'] + BusData2021['TOTAL_TAP_IN_TAP_OUT_VOLUME_WEEKDAY_PEAK_03']\n",
    "BusData2021['TOTAL_TAP_IN_TAP_OUT_VOLUME_PEAK'] = BusData2021['TOTAL_TAP_IN_TAP_OUT_VOLUME_PEAK_01'] + BusData2021['TOTAL_TAP_IN_TAP_OUT_VOLUME_PEAK_02'] + BusData2021['TOTAL_TAP_IN_TAP_OUT_VOLUME_PEAK_03']\n",
    "BusData2021['TOTAL_TAP_IN_TAP_OUT_VOLUME_WEEKDAY'] = BusData2021['TOTAL_TAP_IN_TAP_OUT_VOLUME_WEEKDAY_01'] + BusData2021['TOTAL_TAP_IN_TAP_OUT_VOLUME_WEEKDAY_02'] + BusData2021['TOTAL_TAP_IN_TAP_OUT_VOLUME_WEEKDAY_03']\n",
    "BusData2021['TOTAL_TAP_IN_TAP_OUT_VOLUME_WEEKLY'] = BusData2021['TOTAL_TAP_IN_TAP_OUT_VOLUME_WEEKLY_01'] + BusData2021['TOTAL_TAP_IN_TAP_OUT_VOLUME_WEEKLY_02'] + BusData2021['TOTAL_TAP_IN_TAP_OUT_VOLUME_WEEKLY_03']\n",
    "\n",
    "#Finding the Average of the 3 months\n",
    "BusData2021['AVG_TAP_IN_TAP_OUT_VOLUME_WEEKDAY_PEAK'] = round(BusData2021['TOTAL_TAP_IN_TAP_OUT_VOLUME_WEEKDAY_PEAK'] / 3)\n",
    "BusData2021['AVG_TAP_IN_TAP_OUT_VOLUME_PEAK'] = round(BusData2021['TOTAL_TAP_IN_TAP_OUT_VOLUME_PEAK'] / 3)\n",
    "BusData2021['AVG_TAP_IN_TAP_OUT_VOLUME_WEEKDAY'] = round(BusData2021['TOTAL_TAP_IN_TAP_OUT_VOLUME_WEEKDAY'] / 3)\n",
    "BusData2021['AVG_TAP_IN_TAP_OUT_VOLUME_WEEKLY'] = round(BusData2021['TOTAL_TAP_IN_TAP_OUT_VOLUME_WEEKLY'] / 3)\n",
    "\n",
    "#Finding the Peak Hour Percentage\n",
    "BusData2021['PEAK_HOUR_PERCENTAGE_01 (%)'] = 100 * BusData2021['TOTAL_TAP_IN_TAP_OUT_VOLUME_PEAK_01'] / BusData2021['TOTAL_TAP_IN_TAP_OUT_VOLUME_WEEKLY_01']\n",
    "BusData2021['PEAK_HOUR_PERCENTAGE_02 (%)'] = 100 * BusData2021['TOTAL_TAP_IN_TAP_OUT_VOLUME_PEAK_02'] / BusData2021['TOTAL_TAP_IN_TAP_OUT_VOLUME_WEEKLY_02']\n",
    "BusData2021['PEAK_HOUR_PERCENTAGE_03 (%)'] = 100 * BusData2021['TOTAL_TAP_IN_TAP_OUT_VOLUME_PEAK_03'] / BusData2021['TOTAL_TAP_IN_TAP_OUT_VOLUME_WEEKLY_03']\n",
    "BusData2021['PEAK_HOUR_PERCENTAGE (%)'] = 100 * BusData2021['AVG_TAP_IN_TAP_OUT_VOLUME_PEAK'] / BusData2021['AVG_TAP_IN_TAP_OUT_VOLUME_WEEKLY']\n",
    "\n",
    "#Finding the Weekday Percentage\n",
    "BusData2021['WEEKDAY_PERCENTAGE_01 (%)'] = 100 * 5 * BusData2021['TOTAL_TAP_IN_TAP_OUT_VOLUME_WEEKDAY_01'] / BusData2021['TOTAL_TAP_IN_TAP_OUT_VOLUME_WEEKLY_01']\n",
    "BusData2021['WEEKDAY_PERCENTAGE_02 (%)'] = 100 * 5 * BusData2021['TOTAL_TAP_IN_TAP_OUT_VOLUME_WEEKDAY_02'] / BusData2021['TOTAL_TAP_IN_TAP_OUT_VOLUME_WEEKLY_02']\n",
    "BusData2021['WEEKDAY_PERCENTAGE_03 (%)'] = 100 * 5 * BusData2021['TOTAL_TAP_IN_TAP_OUT_VOLUME_WEEKDAY_03'] / BusData2021['TOTAL_TAP_IN_TAP_OUT_VOLUME_WEEKLY_03']\n",
    "BusData2021['WEEKDAY_PERCENTAGE (%)'] = 100 * 5 * BusData2021['TOTAL_TAP_IN_TAP_OUT_VOLUME_WEEKDAY'] / BusData2021['TOTAL_TAP_IN_TAP_OUT_VOLUME_WEEKLY']\n",
    "BusData2021Avg = BusData2021[['PT_CODE', 'WEEKDAY_PERCENTAGE (%)', 'PEAK_HOUR_PERCENTAGE (%)', 'AVG_TAP_IN_TAP_OUT_VOLUME_WEEKDAY_PEAK', 'AVG_TAP_IN_TAP_OUT_VOLUME_PEAK', 'AVG_TAP_IN_TAP_OUT_VOLUME_WEEKDAY', 'AVG_TAP_IN_TAP_OUT_VOLUME_WEEKLY']]\n",
    "BusData2021Avg = BusData2021Avg.rename(columns = {'PT_CODE' : 'BUS_STOP_N'})\n",
    "\n",
    "BusData2021Avg"
   ]
  },
  {
   "cell_type": "markdown",
   "metadata": {},
   "source": [
    "#### Combining the raw data to Total Tap In Tap Out Volume, and combining the weekday and weekend data into a single week"
   ]
  },
  {
   "cell_type": "code",
   "execution_count": null,
   "metadata": {},
   "outputs": [],
   "source": [
    "BusData2021Avg = BusData2021Avg.astype('objects').dtypes\n",
    "BusDataLocation = pd.merge(BusData2021Avg, join_left_df_BusStop, on=['BUS_STOP_N'])\n",
    "BusDataLocation"
   ]
  },
  {
   "cell_type": "code",
   "execution_count": null,
   "metadata": {},
   "outputs": [],
   "source": []
  },
  {
   "cell_type": "code",
   "execution_count": null,
   "metadata": {},
   "outputs": [],
   "source": []
  },
  {
   "cell_type": "code",
   "execution_count": null,
   "metadata": {},
   "outputs": [],
   "source": []
  },
  {
   "cell_type": "markdown",
   "metadata": {},
   "source": [
    "## Cleaning of MRT Data for 2021 Jan"
   ]
  },
  {
   "cell_type": "code",
   "execution_count": null,
   "metadata": {},
   "outputs": [],
   "source": [
    "MRTData202101 = pd.read_csv('2.8_transport_node_train_202101.csv')\n",
    "MRTData202101.head()"
   ]
  },
  {
   "cell_type": "markdown",
   "metadata": {},
   "source": [
    "#### Combining the raw data to Total Tap In Tap Out Volume, and combining the weekday and weekend data into a single week"
   ]
  },
  {
   "cell_type": "code",
   "execution_count": null,
   "metadata": {},
   "outputs": [],
   "source": [
    "MRTData202101['TOTAL_TAP_IN_TAP_OUT_VOLUME'] = MRTData202101['TOTAL_TAP_IN_VOLUME'] + MRTData202101['TOTAL_TAP_OUT_VOLUME']\n",
    "MRTData202101Weekday = pd.DataFrame(MRTData202101[MRTData202101['DAY_TYPE'] == 'WEEKDAY'])\n",
    "MRTData202101WeekendPH = pd.DataFrame(MRTData202101[MRTData202101['DAY_TYPE'] == 'WEEKENDS/HOLIDAY'])\n",
    "MRTData202101Weekday = MRTData202101Weekday.rename(columns = {'TOTAL_TAP_IN_VOLUME': 'TOTAL_TAP_IN_VOLUME_WEEKDAY', 'TOTAL_TAP_OUT_VOLUME': 'TOTAL_TAP_OUT_VOLUME_WEEKDAY', 'TOTAL_TAP_IN_TAP_OUT_VOLUME': 'TOTAL_TAP_IN_TAP_OUT_VOLUME_WEEKDAY'}, inplace = False)\n",
    "MRTData202101WeekendPH = MRTData202101WeekendPH.rename(columns = {'TOTAL_TAP_IN_VOLUME': 'TOTAL_TAP_IN_VOLUME_WEEKEND', 'TOTAL_TAP_OUT_VOLUME': 'TOTAL_TAP_OUT_VOLUME_WEEKEND', 'TOTAL_TAP_IN_TAP_OUT_VOLUME': 'TOTAL_TAP_IN_TAP_OUT_VOLUME_WEEKEND'}, inplace = False)\n",
    "MRTData202101WeekendPH = MRTData202101WeekendPH[['DAY_TYPE', 'TIME_PER_HOUR', 'PT_CODE', 'TOTAL_TAP_IN_VOLUME_WEEKEND', 'TOTAL_TAP_OUT_VOLUME_WEEKEND', 'TOTAL_TAP_IN_TAP_OUT_VOLUME_WEEKEND']]\n",
    "\n",
    "#Calculating the tap in tap out for a single week \n",
    "MRTData202101Merge = pd.merge(MRTData202101Weekday, MRTData202101WeekendPH, on=['PT_CODE', 'TIME_PER_HOUR'])\n",
    "MRTData202101Merge['TOTAL_TAP_IN_VOLUME_WEEKLY'] = 5*MRTData202101Merge['TOTAL_TAP_IN_VOLUME_WEEKDAY'] + 2*MRTData202101Merge['TOTAL_TAP_IN_VOLUME_WEEKEND']\n",
    "MRTData202101Merge['TOTAL_TAP_OUT_VOLUME_WEEKLY'] = 5*MRTData202101Merge['TOTAL_TAP_OUT_VOLUME_WEEKDAY'] + 2*MRTData202101Merge['TOTAL_TAP_OUT_VOLUME_WEEKEND']\n",
    "MRTData202101Merge['TOTAL_TAP_IN_TAP_OUT_VOLUME_WEEKLY'] = 5*MRTData202101Merge['TOTAL_TAP_IN_TAP_OUT_VOLUME_WEEKDAY'] + 2*MRTData202101Merge['TOTAL_TAP_IN_TAP_OUT_VOLUME_WEEKEND']\n",
    "MRTData202101Merge = MRTData202101Merge[['YEAR_MONTH', 'TIME_PER_HOUR', 'PT_CODE', 'TOTAL_TAP_IN_VOLUME_WEEKLY', 'TOTAL_TAP_OUT_VOLUME_WEEKLY', 'TOTAL_TAP_IN_TAP_OUT_VOLUME_WEEKDAY', 'TOTAL_TAP_IN_TAP_OUT_VOLUME_WEEKLY']]\n",
    "MRTData202101Merge.head()"
   ]
  },
  {
   "cell_type": "markdown",
   "metadata": {},
   "source": [
    "#### Combining the data into peak and combining the hours of the day"
   ]
  },
  {
   "cell_type": "code",
   "execution_count": null,
   "metadata": {},
   "outputs": [],
   "source": [
    "MRTData202101Sorted = MRTData202101Merge.sort_values(by=['PT_CODE', 'TIME_PER_HOUR'])\n",
    "MRTData202101Sorted = MRTData202101Sorted[['TIME_PER_HOUR', 'PT_CODE', 'TOTAL_TAP_IN_TAP_OUT_VOLUME_WEEKDAY', 'TOTAL_TAP_IN_TAP_OUT_VOLUME_WEEKLY']]\n",
    "\n",
    "#Getting the peak hour tap in tap out value\n",
    "MRTData202101AMPeak = pd.DataFrame(MRTData202101Sorted[MRTData202101Sorted['TIME_PER_HOUR'] == 8])\n",
    "MRTData202101PMPeak = pd.DataFrame(MRTData202101Sorted[MRTData202101Sorted['TIME_PER_HOUR'] == 18])\n",
    "MRTData202101Peak = pd.merge(MRTData202101AMPeak, MRTData202101PMPeak, on=['PT_CODE'])\n",
    "MRTData202101Peak['TOTAL_TAP_IN_TAP_OUT_VOLUME_WEEKDAY_PEAK'] = MRTData202101Peak['TOTAL_TAP_IN_TAP_OUT_VOLUME_WEEKDAY_x'] + MRTData202101Peak['TOTAL_TAP_IN_TAP_OUT_VOLUME_WEEKDAY_y']\n",
    "MRTData202101Peak['TOTAL_TAP_IN_TAP_OUT_VOLUME_PEAK'] = MRTData202101Peak['TOTAL_TAP_IN_TAP_OUT_VOLUME_WEEKLY_x'] + MRTData202101Peak['TOTAL_TAP_IN_TAP_OUT_VOLUME_WEEKLY_y']\n",
    "MRTData202101Peak = MRTData202101Peak[['PT_CODE', 'TOTAL_TAP_IN_TAP_OUT_VOLUME_WEEKDAY_PEAK', 'TOTAL_TAP_IN_TAP_OUT_VOLUME_PEAK']]\n",
    "\n",
    "#Getting the tap in tap out for the 24 hr time frame\n",
    "MRTData202101Time = pd.DataFrame(MRTData202101Sorted[MRTData202101Sorted['TIME_PER_HOUR'] == 0])\n",
    "for variable in range(5,24):\n",
    "    MRTData202101TimeTemp = pd.DataFrame(MRTData202101Sorted[MRTData202101Sorted['TIME_PER_HOUR'] == variable])\n",
    "    MRTData202101TimeTemp = MRTData202101TimeTemp[['PT_CODE', 'TOTAL_TAP_IN_TAP_OUT_VOLUME_WEEKDAY', 'TOTAL_TAP_IN_TAP_OUT_VOLUME_WEEKLY']]\n",
    "    MRTData202101Time = pd.merge(MRTData202101Time, MRTData202101TimeTemp, on=['PT_CODE'])\n",
    "    MRTData202101Time['TOTAL_TAP_IN_TAP_OUT_VOLUME_WEEKDAY'] = MRTData202101Time['TOTAL_TAP_IN_TAP_OUT_VOLUME_WEEKDAY_x'] + MRTData202101Time['TOTAL_TAP_IN_TAP_OUT_VOLUME_WEEKDAY_y']\n",
    "    MRTData202101Time['TOTAL_TAP_IN_TAP_OUT_VOLUME_WEEKLY'] = MRTData202101Time['TOTAL_TAP_IN_TAP_OUT_VOLUME_WEEKLY_x'] + MRTData202101Time['TOTAL_TAP_IN_TAP_OUT_VOLUME_WEEKLY_y']\n",
    "    MRTData202101Time = MRTData202101Time[['PT_CODE', 'TOTAL_TAP_IN_TAP_OUT_VOLUME_WEEKDAY', 'TOTAL_TAP_IN_TAP_OUT_VOLUME_WEEKLY']]\n",
    "MRTData202101Peak = MRTData202101Peak.rename(columns = {'TOTAL_TAP_IN_TAP_OUT_VOLUME_WEEKDAY_PEAK' : 'TOTAL_TAP_IN_TAP_OUT_VOLUME_WEEKDAY_PEAK_01'})\n",
    "MRTData202101Time = MRTData202101Time.rename(columns = {'TOTAL_TAP_IN_TAP_OUT_VOLUME_WEEKDAY' : 'TOTAL_TAP_IN_TAP_OUT_VOLUME_WEEKDAY_01'})\n",
    "MRTData202101Time = MRTData202101Time.rename(columns = {'TOTAL_TAP_IN_TAP_OUT_VOLUME_WEEKLY' : 'TOTAL_TAP_IN_TAP_OUT_VOLUME_WEEKLY_01'})\n",
    "MRTData202101Peak = MRTData202101Peak.rename(columns = {'TOTAL_TAP_IN_TAP_OUT_VOLUME_PEAK' : 'TOTAL_TAP_IN_TAP_OUT_VOLUME_PEAK_01'})\n",
    "MRTData202101 = pd.merge(MRTData202101Peak, MRTData202101Time, on=['PT_CODE'])\n",
    "MRTData202101\n"
   ]
  },
  {
   "cell_type": "markdown",
   "metadata": {},
   "source": [
    "## Cleaning of MRT Data for 2021 Feb"
   ]
  },
  {
   "cell_type": "code",
   "execution_count": null,
   "metadata": {
    "scrolled": true
   },
   "outputs": [],
   "source": [
    "MRTData202102 = pd.read_csv('2.8_transport_node_train_202102.csv')\n",
    "MRTData202102.head()"
   ]
  },
  {
   "cell_type": "markdown",
   "metadata": {},
   "source": [
    "#### Combining the raw data to Total Tap In Tap Out Volume, and combining the weekday and weekend data into a single week"
   ]
  },
  {
   "cell_type": "code",
   "execution_count": null,
   "metadata": {},
   "outputs": [],
   "source": [
    "MRTData202102['TOTAL_TAP_IN_TAP_OUT_VOLUME'] = MRTData202102['TOTAL_TAP_IN_VOLUME'] + MRTData202102['TOTAL_TAP_OUT_VOLUME']\n",
    "MRTData202102Weekday = pd.DataFrame(MRTData202102[MRTData202102['DAY_TYPE'] == 'WEEKDAY'])\n",
    "MRTData202102WeekendPH = pd.DataFrame(MRTData202102[MRTData202102['DAY_TYPE'] == 'WEEKENDS/HOLIDAY'])\n",
    "MRTData202102Weekday = MRTData202102Weekday.rename(columns = {'TOTAL_TAP_IN_VOLUME': 'TOTAL_TAP_IN_VOLUME_WEEKDAY', 'TOTAL_TAP_OUT_VOLUME': 'TOTAL_TAP_OUT_VOLUME_WEEKDAY', 'TOTAL_TAP_IN_TAP_OUT_VOLUME': 'TOTAL_TAP_IN_TAP_OUT_VOLUME_WEEKDAY'}, inplace = False)\n",
    "MRTData202102WeekendPH = MRTData202102WeekendPH.rename(columns = {'TOTAL_TAP_IN_VOLUME': 'TOTAL_TAP_IN_VOLUME_WEEKEND', 'TOTAL_TAP_OUT_VOLUME': 'TOTAL_TAP_OUT_VOLUME_WEEKEND', 'TOTAL_TAP_IN_TAP_OUT_VOLUME': 'TOTAL_TAP_IN_TAP_OUT_VOLUME_WEEKEND'}, inplace = False)\n",
    "MRTData202102WeekendPH = MRTData202102WeekendPH[['DAY_TYPE', 'TIME_PER_HOUR', 'PT_CODE', 'TOTAL_TAP_IN_VOLUME_WEEKEND', 'TOTAL_TAP_OUT_VOLUME_WEEKEND', 'TOTAL_TAP_IN_TAP_OUT_VOLUME_WEEKEND']]\n",
    "\n",
    "#Calculating the tap in tap out for a single week \n",
    "MRTData202102Merge = pd.merge(MRTData202102Weekday, MRTData202102WeekendPH, on=['PT_CODE', 'TIME_PER_HOUR'])\n",
    "MRTData202102Merge['TOTAL_TAP_IN_VOLUME_WEEKLY'] = 5*MRTData202102Merge['TOTAL_TAP_IN_VOLUME_WEEKDAY'] + 2*MRTData202102Merge['TOTAL_TAP_IN_VOLUME_WEEKEND']\n",
    "MRTData202102Merge['TOTAL_TAP_OUT_VOLUME_WEEKLY'] = 5*MRTData202102Merge['TOTAL_TAP_OUT_VOLUME_WEEKDAY'] + 2*MRTData202102Merge['TOTAL_TAP_OUT_VOLUME_WEEKEND']\n",
    "MRTData202102Merge['TOTAL_TAP_IN_TAP_OUT_VOLUME_WEEKLY'] = 5*MRTData202102Merge['TOTAL_TAP_IN_TAP_OUT_VOLUME_WEEKDAY'] + 2*MRTData202102Merge['TOTAL_TAP_IN_TAP_OUT_VOLUME_WEEKEND']\n",
    "MRTData202102Merge = MRTData202102Merge[['YEAR_MONTH', 'TIME_PER_HOUR', 'PT_CODE', 'TOTAL_TAP_IN_VOLUME_WEEKLY', 'TOTAL_TAP_OUT_VOLUME_WEEKLY', 'TOTAL_TAP_IN_TAP_OUT_VOLUME_WEEKDAY', 'TOTAL_TAP_IN_TAP_OUT_VOLUME_WEEKLY']]\n",
    "MRTData202102Merge.head()"
   ]
  },
  {
   "cell_type": "markdown",
   "metadata": {},
   "source": [
    "#### Combining the data into peak and combining the hours of the day"
   ]
  },
  {
   "cell_type": "code",
   "execution_count": null,
   "metadata": {},
   "outputs": [],
   "source": [
    "MRTData202102Sorted = MRTData202102Merge.sort_values(by=['PT_CODE', 'TIME_PER_HOUR'])\n",
    "MRTData202102Sorted = MRTData202102Sorted[['TIME_PER_HOUR', 'PT_CODE', 'TOTAL_TAP_IN_TAP_OUT_VOLUME_WEEKDAY', 'TOTAL_TAP_IN_TAP_OUT_VOLUME_WEEKLY']]\n",
    "\n",
    "#Getting the peak hour tap in tap out value\n",
    "MRTData202102AMPeak = pd.DataFrame(MRTData202102Sorted[MRTData202102Sorted['TIME_PER_HOUR'] == 8])\n",
    "MRTData202102PMPeak = pd.DataFrame(MRTData202102Sorted[MRTData202102Sorted['TIME_PER_HOUR'] == 18])\n",
    "MRTData202102Peak = pd.merge(MRTData202102AMPeak, MRTData202102PMPeak, on=['PT_CODE'])\n",
    "MRTData202102Peak['TOTAL_TAP_IN_TAP_OUT_VOLUME_WEEKDAY_PEAK'] = MRTData202102Peak['TOTAL_TAP_IN_TAP_OUT_VOLUME_WEEKDAY_x'] + MRTData202102Peak['TOTAL_TAP_IN_TAP_OUT_VOLUME_WEEKDAY_y']\n",
    "MRTData202102Peak['TOTAL_TAP_IN_TAP_OUT_VOLUME_PEAK'] = MRTData202102Peak['TOTAL_TAP_IN_TAP_OUT_VOLUME_WEEKLY_x'] + MRTData202102Peak['TOTAL_TAP_IN_TAP_OUT_VOLUME_WEEKLY_y']\n",
    "MRTData202102Peak = MRTData202102Peak[['PT_CODE', 'TOTAL_TAP_IN_TAP_OUT_VOLUME_WEEKDAY_PEAK', 'TOTAL_TAP_IN_TAP_OUT_VOLUME_PEAK']]\n",
    "\n",
    "#Getting the tap in tap out for the 24 hr time frame\n",
    "MRTData202102Time = pd.DataFrame(MRTData202102Sorted[MRTData202102Sorted['TIME_PER_HOUR'] == 0])\n",
    "for variable in range(5,24):\n",
    "    MRTData202102TimeTemp = pd.DataFrame(MRTData202102Sorted[MRTData202102Sorted['TIME_PER_HOUR'] == variable])\n",
    "    MRTData202102TimeTemp = MRTData202102TimeTemp[['PT_CODE', 'TOTAL_TAP_IN_TAP_OUT_VOLUME_WEEKDAY', 'TOTAL_TAP_IN_TAP_OUT_VOLUME_WEEKLY']]\n",
    "    MRTData202102Time = pd.merge(MRTData202102Time, MRTData202102TimeTemp, on=['PT_CODE'])\n",
    "    MRTData202102Time['TOTAL_TAP_IN_TAP_OUT_VOLUME_WEEKDAY'] = MRTData202102Time['TOTAL_TAP_IN_TAP_OUT_VOLUME_WEEKDAY_x'] + MRTData202102Time['TOTAL_TAP_IN_TAP_OUT_VOLUME_WEEKDAY_y']\n",
    "    MRTData202102Time['TOTAL_TAP_IN_TAP_OUT_VOLUME_WEEKLY'] = MRTData202102Time['TOTAL_TAP_IN_TAP_OUT_VOLUME_WEEKLY_x'] + MRTData202102Time['TOTAL_TAP_IN_TAP_OUT_VOLUME_WEEKLY_y']\n",
    "    MRTData202102Time = MRTData202102Time[['PT_CODE', 'TOTAL_TAP_IN_TAP_OUT_VOLUME_WEEKDAY', 'TOTAL_TAP_IN_TAP_OUT_VOLUME_WEEKLY']]\n",
    "MRTData202102Peak = MRTData202102Peak.rename(columns = {'TOTAL_TAP_IN_TAP_OUT_VOLUME_WEEKDAY_PEAK' : 'TOTAL_TAP_IN_TAP_OUT_VOLUME_WEEKDAY_PEAK_02'})\n",
    "MRTData202102Time = MRTData202102Time.rename(columns = {'TOTAL_TAP_IN_TAP_OUT_VOLUME_WEEKDAY' : 'TOTAL_TAP_IN_TAP_OUT_VOLUME_WEEKDAY_02'})\n",
    "MRTData202102Time = MRTData202102Time.rename(columns = {'TOTAL_TAP_IN_TAP_OUT_VOLUME_WEEKLY' : 'TOTAL_TAP_IN_TAP_OUT_VOLUME_WEEKLY_02'})\n",
    "MRTData202102Peak = MRTData202102Peak.rename(columns = {'TOTAL_TAP_IN_TAP_OUT_VOLUME_PEAK' : 'TOTAL_TAP_IN_TAP_OUT_VOLUME_PEAK_02'})\n",
    "MRTData202102 = pd.merge(MRTData202102Peak, MRTData202102Time, on=['PT_CODE'])\n",
    "MRTData202102\n"
   ]
  },
  {
   "cell_type": "markdown",
   "metadata": {},
   "source": [
    "## Cleaning of MRT Data for 2021 Mar"
   ]
  },
  {
   "cell_type": "code",
   "execution_count": null,
   "metadata": {
    "scrolled": true
   },
   "outputs": [],
   "source": [
    "MRTData202103 = pd.read_csv('2.8_transport_node_train_202103.csv')\n",
    "MRTData202103.head()"
   ]
  },
  {
   "cell_type": "markdown",
   "metadata": {},
   "source": [
    "#### Combining the raw data to Total Tap In Tap Out Volume, and combining the weekday and weekend data into a single week"
   ]
  },
  {
   "cell_type": "code",
   "execution_count": null,
   "metadata": {
    "scrolled": true
   },
   "outputs": [],
   "source": [
    "MRTData202103['TOTAL_TAP_IN_TAP_OUT_VOLUME'] = MRTData202103['TOTAL_TAP_IN_VOLUME'] + MRTData202103['TOTAL_TAP_OUT_VOLUME']\n",
    "MRTData202103Weekday = pd.DataFrame(MRTData202103[MRTData202103['DAY_TYPE'] == 'WEEKDAY'])\n",
    "MRTData202103WeekendPH = pd.DataFrame(MRTData202103[MRTData202103['DAY_TYPE'] == 'WEEKENDS/HOLIDAY'])\n",
    "MRTData202103Weekday = MRTData202103Weekday.rename(columns = {'TOTAL_TAP_IN_VOLUME': 'TOTAL_TAP_IN_VOLUME_WEEKDAY', 'TOTAL_TAP_OUT_VOLUME': 'TOTAL_TAP_OUT_VOLUME_WEEKDAY', 'TOTAL_TAP_IN_TAP_OUT_VOLUME': 'TOTAL_TAP_IN_TAP_OUT_VOLUME_WEEKDAY'}, inplace = False)\n",
    "MRTData202103WeekendPH = MRTData202103WeekendPH.rename(columns = {'TOTAL_TAP_IN_VOLUME': 'TOTAL_TAP_IN_VOLUME_WEEKEND', 'TOTAL_TAP_OUT_VOLUME': 'TOTAL_TAP_OUT_VOLUME_WEEKEND', 'TOTAL_TAP_IN_TAP_OUT_VOLUME': 'TOTAL_TAP_IN_TAP_OUT_VOLUME_WEEKEND'}, inplace = False)\n",
    "MRTData202103WeekendPH = MRTData202103WeekendPH[['DAY_TYPE', 'TIME_PER_HOUR', 'PT_CODE', 'TOTAL_TAP_IN_VOLUME_WEEKEND', 'TOTAL_TAP_OUT_VOLUME_WEEKEND', 'TOTAL_TAP_IN_TAP_OUT_VOLUME_WEEKEND']]\n",
    "\n",
    "#Calculating the tap in tap out for a single week \n",
    "MRTData202103Merge = pd.merge(MRTData202103Weekday, MRTData202103WeekendPH, on=['PT_CODE', 'TIME_PER_HOUR'])\n",
    "MRTData202103Merge['TOTAL_TAP_IN_VOLUME_WEEKLY'] = 5*MRTData202103Merge['TOTAL_TAP_IN_VOLUME_WEEKDAY'] + 2*MRTData202103Merge['TOTAL_TAP_IN_VOLUME_WEEKEND']\n",
    "MRTData202103Merge['TOTAL_TAP_OUT_VOLUME_WEEKLY'] = 5*MRTData202103Merge['TOTAL_TAP_OUT_VOLUME_WEEKDAY'] + 2*MRTData202103Merge['TOTAL_TAP_OUT_VOLUME_WEEKEND']\n",
    "MRTData202103Merge['TOTAL_TAP_IN_TAP_OUT_VOLUME_WEEKLY'] = 5*MRTData202103Merge['TOTAL_TAP_IN_TAP_OUT_VOLUME_WEEKDAY'] + 2*MRTData202103Merge['TOTAL_TAP_IN_TAP_OUT_VOLUME_WEEKEND']\n",
    "MRTData202103Merge = MRTData202103Merge[['YEAR_MONTH', 'TIME_PER_HOUR', 'PT_CODE', 'TOTAL_TAP_IN_VOLUME_WEEKLY', 'TOTAL_TAP_OUT_VOLUME_WEEKLY', 'TOTAL_TAP_IN_TAP_OUT_VOLUME_WEEKDAY', 'TOTAL_TAP_IN_TAP_OUT_VOLUME_WEEKLY']]\n",
    "MRTData202103Merge.head()\n"
   ]
  },
  {
   "cell_type": "markdown",
   "metadata": {},
   "source": [
    "#### Combining the data into peak and combining the hours of the day"
   ]
  },
  {
   "cell_type": "code",
   "execution_count": null,
   "metadata": {
    "scrolled": true
   },
   "outputs": [],
   "source": [
    "MRTData202103Sorted = MRTData202103Merge.sort_values(by=['PT_CODE', 'TIME_PER_HOUR'])\n",
    "MRTData202103Sorted = MRTData202103Sorted[['TIME_PER_HOUR', 'PT_CODE', 'TOTAL_TAP_IN_TAP_OUT_VOLUME_WEEKDAY', 'TOTAL_TAP_IN_TAP_OUT_VOLUME_WEEKLY']]\n",
    "\n",
    "#Getting the peak hour tap in tap out value\n",
    "MRTData202103AMPeak = pd.DataFrame(MRTData202103Sorted[MRTData202103Sorted['TIME_PER_HOUR'] == 8])\n",
    "MRTData202103PMPeak = pd.DataFrame(MRTData202103Sorted[MRTData202103Sorted['TIME_PER_HOUR'] == 18])\n",
    "MRTData202103Peak = pd.merge(MRTData202103AMPeak, MRTData202103PMPeak, on=['PT_CODE'])\n",
    "MRTData202103Peak['TOTAL_TAP_IN_TAP_OUT_VOLUME_WEEKDAY_PEAK'] = MRTData202103Peak['TOTAL_TAP_IN_TAP_OUT_VOLUME_WEEKDAY_x'] + MRTData202103Peak['TOTAL_TAP_IN_TAP_OUT_VOLUME_WEEKDAY_y']\n",
    "MRTData202103Peak['TOTAL_TAP_IN_TAP_OUT_VOLUME_PEAK'] = MRTData202103Peak['TOTAL_TAP_IN_TAP_OUT_VOLUME_WEEKLY_x'] + MRTData202103Peak['TOTAL_TAP_IN_TAP_OUT_VOLUME_WEEKLY_y']\n",
    "MRTData202103Peak = MRTData202103Peak[['PT_CODE', 'TOTAL_TAP_IN_TAP_OUT_VOLUME_WEEKDAY_PEAK', 'TOTAL_TAP_IN_TAP_OUT_VOLUME_PEAK']]\n",
    "\n",
    "#Getting the tap in tap out for the 24 hr time frame\n",
    "MRTData202103Time = pd.DataFrame(MRTData202103Sorted[MRTData202103Sorted['TIME_PER_HOUR'] == 0])\n",
    "for variable in range(5,24):\n",
    "    MRTData202103TimeTemp = pd.DataFrame(MRTData202103Sorted[MRTData202103Sorted['TIME_PER_HOUR'] == variable])\n",
    "    MRTData202103TimeTemp = MRTData202103TimeTemp[['PT_CODE', 'TOTAL_TAP_IN_TAP_OUT_VOLUME_WEEKDAY', 'TOTAL_TAP_IN_TAP_OUT_VOLUME_WEEKLY']]\n",
    "    MRTData202103Time = pd.merge(MRTData202103Time, MRTData202103TimeTemp, on=['PT_CODE'])\n",
    "    MRTData202103Time['TOTAL_TAP_IN_TAP_OUT_VOLUME_WEEKDAY'] = MRTData202103Time['TOTAL_TAP_IN_TAP_OUT_VOLUME_WEEKDAY_x'] + MRTData202103Time['TOTAL_TAP_IN_TAP_OUT_VOLUME_WEEKDAY_y']\n",
    "    MRTData202103Time['TOTAL_TAP_IN_TAP_OUT_VOLUME_WEEKLY'] = MRTData202103Time['TOTAL_TAP_IN_TAP_OUT_VOLUME_WEEKLY_x'] + MRTData202103Time['TOTAL_TAP_IN_TAP_OUT_VOLUME_WEEKLY_y']\n",
    "    MRTData202103Time = MRTData202103Time[['PT_CODE', 'TOTAL_TAP_IN_TAP_OUT_VOLUME_WEEKDAY', 'TOTAL_TAP_IN_TAP_OUT_VOLUME_WEEKLY']]\n",
    "MRTData202103Peak = MRTData202103Peak.rename(columns = {'TOTAL_TAP_IN_TAP_OUT_VOLUME_WEEKDAY_PEAK' : 'TOTAL_TAP_IN_TAP_OUT_VOLUME_WEEKDAY_PEAK_03'})\n",
    "MRTData202103Time = MRTData202103Time.rename(columns = {'TOTAL_TAP_IN_TAP_OUT_VOLUME_WEEKDAY' : 'TOTAL_TAP_IN_TAP_OUT_VOLUME_WEEKDAY_03'})\n",
    "MRTData202103Time = MRTData202103Time.rename(columns = {'TOTAL_TAP_IN_TAP_OUT_VOLUME_WEEKLY' : 'TOTAL_TAP_IN_TAP_OUT_VOLUME_WEEKLY_03'})\n",
    "MRTData202103Peak = MRTData202103Peak.rename(columns = {'TOTAL_TAP_IN_TAP_OUT_VOLUME_PEAK' : 'TOTAL_TAP_IN_TAP_OUT_VOLUME_PEAK_03'})\n",
    "MRTData202103 = pd.merge(MRTData202103Peak, MRTData202103Time, on=['PT_CODE'])\n",
    "MRTData202103\n"
   ]
  },
  {
   "cell_type": "markdown",
   "metadata": {},
   "source": [
    "## Merging data from all 3 months and getting the Average ,Weekday Percentage and Peak Hour Percentage"
   ]
  },
  {
   "cell_type": "code",
   "execution_count": null,
   "metadata": {},
   "outputs": [],
   "source": [
    "MRTData2021 = pd.merge(MRTData202101, MRTData202102, on=['PT_CODE'])\n",
    "MRTData2021 = pd.merge(MRTData2021, MRTData202103, on=['PT_CODE'])\n",
    "MRTData2021.head()\n"
   ]
  },
  {
   "cell_type": "code",
   "execution_count": null,
   "metadata": {},
   "outputs": [],
   "source": [
    "#Finding the Total of the 3 months\n",
    "MRTData2021['TOTAL_TAP_IN_TAP_OUT_VOLUME_WEEKDAY_PEAK'] = MRTData2021['TOTAL_TAP_IN_TAP_OUT_VOLUME_WEEKDAY_PEAK_01'] + MRTData2021['TOTAL_TAP_IN_TAP_OUT_VOLUME_WEEKDAY_PEAK_02'] + MRTData2021['TOTAL_TAP_IN_TAP_OUT_VOLUME_WEEKDAY_PEAK_03']\n",
    "MRTData2021['TOTAL_TAP_IN_TAP_OUT_VOLUME_PEAK'] = MRTData2021['TOTAL_TAP_IN_TAP_OUT_VOLUME_PEAK_01'] + MRTData2021['TOTAL_TAP_IN_TAP_OUT_VOLUME_PEAK_02'] + MRTData2021['TOTAL_TAP_IN_TAP_OUT_VOLUME_PEAK_03']\n",
    "MRTData2021['TOTAL_TAP_IN_TAP_OUT_VOLUME_WEEKDAY'] = MRTData2021['TOTAL_TAP_IN_TAP_OUT_VOLUME_WEEKDAY_01'] + MRTData2021['TOTAL_TAP_IN_TAP_OUT_VOLUME_WEEKDAY_02'] + MRTData2021['TOTAL_TAP_IN_TAP_OUT_VOLUME_WEEKDAY_03']\n",
    "MRTData2021['TOTAL_TAP_IN_TAP_OUT_VOLUME_WEEKLY'] = MRTData2021['TOTAL_TAP_IN_TAP_OUT_VOLUME_WEEKLY_01'] + MRTData2021['TOTAL_TAP_IN_TAP_OUT_VOLUME_WEEKLY_02'] + MRTData2021['TOTAL_TAP_IN_TAP_OUT_VOLUME_WEEKLY_03']\n",
    "\n",
    "#Finding the Average of the 3 months\n",
    "MRTData2021['AVG_TAP_IN_TAP_OUT_VOLUME_WEEKDAY_PEAK'] = round(MRTData2021['TOTAL_TAP_IN_TAP_OUT_VOLUME_WEEKDAY_PEAK'] / 3)\n",
    "MRTData2021['AVG_TAP_IN_TAP_OUT_VOLUME_PEAK'] = round(MRTData2021['TOTAL_TAP_IN_TAP_OUT_VOLUME_PEAK'] / 3)\n",
    "MRTData2021['AVG_TAP_IN_TAP_OUT_VOLUME_WEEKDAY'] = round(MRTData2021['TOTAL_TAP_IN_TAP_OUT_VOLUME_WEEKDAY'] / 3)\n",
    "MRTData2021['AVG_TAP_IN_TAP_OUT_VOLUME_WEEKLY'] = round(MRTData2021['TOTAL_TAP_IN_TAP_OUT_VOLUME_WEEKLY'] / 3)\n",
    "\n",
    "#Finding the Peak Hour Percentage\n",
    "MRTData2021['PEAK_HOUR_PERCENTAGE_01 (%)'] = 100 * MRTData2021['TOTAL_TAP_IN_TAP_OUT_VOLUME_PEAK_01'] / MRTData2021['TOTAL_TAP_IN_TAP_OUT_VOLUME_WEEKLY_01']\n",
    "MRTData2021['PEAK_HOUR_PERCENTAGE_02 (%)'] = 100 * MRTData2021['TOTAL_TAP_IN_TAP_OUT_VOLUME_PEAK_02'] / MRTData2021['TOTAL_TAP_IN_TAP_OUT_VOLUME_WEEKLY_02']\n",
    "MRTData2021['PEAK_HOUR_PERCENTAGE_03 (%)'] = 100 * MRTData2021['TOTAL_TAP_IN_TAP_OUT_VOLUME_PEAK_03'] / MRTData2021['TOTAL_TAP_IN_TAP_OUT_VOLUME_WEEKLY_03']\n",
    "MRTData2021['PEAK_HOUR_PERCENTAGE (%)'] = 100 * MRTData2021['AVG_TAP_IN_TAP_OUT_VOLUME_PEAK'] / MRTData2021['AVG_TAP_IN_TAP_OUT_VOLUME_WEEKLY']\n",
    "\n",
    "#Finding the Weekday Percentage\n",
    "MRTData2021['WEEKDAY_PERCENTAGE_01 (%)'] = 100 * 5 * MRTData2021['TOTAL_TAP_IN_TAP_OUT_VOLUME_WEEKDAY_01'] / MRTData2021['TOTAL_TAP_IN_TAP_OUT_VOLUME_WEEKLY_01']\n",
    "MRTData2021['WEEKDAY_PERCENTAGE_02 (%)'] = 100 * 5 * MRTData2021['TOTAL_TAP_IN_TAP_OUT_VOLUME_WEEKDAY_02'] / MRTData2021['TOTAL_TAP_IN_TAP_OUT_VOLUME_WEEKLY_02']\n",
    "MRTData2021['WEEKDAY_PERCENTAGE_03 (%)'] = 100 * 5 * MRTData2021['TOTAL_TAP_IN_TAP_OUT_VOLUME_WEEKDAY_03'] / MRTData2021['TOTAL_TAP_IN_TAP_OUT_VOLUME_WEEKLY_03']\n",
    "MRTData2021['WEEKDAY_PERCENTAGE (%)'] = 100 * 5 * MRTData2021['TOTAL_TAP_IN_TAP_OUT_VOLUME_WEEKDAY'] / MRTData2021['TOTAL_TAP_IN_TAP_OUT_VOLUME_WEEKLY']\n",
    "MRTData2021Avg = MRTData2021[['PT_CODE', 'WEEKDAY_PERCENTAGE (%)', 'PEAK_HOUR_PERCENTAGE (%)', 'AVG_TAP_IN_TAP_OUT_VOLUME_WEEKDAY_PEAK', 'AVG_TAP_IN_TAP_OUT_VOLUME_PEAK', 'AVG_TAP_IN_TAP_OUT_VOLUME_WEEKDAY', 'AVG_TAP_IN_TAP_OUT_VOLUME_WEEKLY']]\n",
    "MRTData2021Avg = MRTData2021Avg.rename(columns = {'PT_CODE' : 'MRT_STOP_N'})\n",
    "\n",
    "MRTData2021Avg\n"
   ]
  },
  {
   "cell_type": "code",
   "execution_count": null,
   "metadata": {},
   "outputs": [],
   "source": [
    "MRTData2021Avg = MRTData2021Avg.astype('objects').dtypes\n",
    "MRTDataLocation = pd.merge(MRTData2021Avg, join_left_df_MRTStop, on=['STN_NAME'])\n",
    "MRTDataLocation"
   ]
  },
  {
   "cell_type": "code",
   "execution_count": null,
   "metadata": {},
   "outputs": [],
   "source": []
  },
  {
   "cell_type": "code",
   "execution_count": null,
   "metadata": {},
   "outputs": [],
   "source": []
  },
  {
   "cell_type": "code",
   "execution_count": null,
   "metadata": {},
   "outputs": [],
   "source": []
  },
  {
   "cell_type": "markdown",
   "metadata": {},
   "source": [
    "## ================================ PT. 2 ================================\n",
    "#  >>>>>>>>>>>>>>>>>> EXPLORATORY ANALYSIS <<<<<<<<<<<<<<<<<<\n",
    "## ====================================================================="
   ]
  },
  {
   "cell_type": "code",
   "execution_count": null,
   "metadata": {},
   "outputs": [],
   "source": []
  },
  {
   "cell_type": "code",
   "execution_count": null,
   "metadata": {},
   "outputs": [],
   "source": []
  },
  {
   "cell_type": "code",
   "execution_count": null,
   "metadata": {},
   "outputs": [],
   "source": []
  },
  {
   "cell_type": "code",
   "execution_count": null,
   "metadata": {},
   "outputs": [],
   "source": []
  },
  {
   "cell_type": "markdown",
   "metadata": {},
   "source": [
    "## ================================ PT. 3 ================================\n",
    "#  >>>>>>>>>>>>>>>>>>>> MACHINE LEARNING <<<<<<<<<<<<<<<<<<<<\n",
    "## ====================================================================="
   ]
  },
  {
   "cell_type": "markdown",
   "metadata": {},
   "source": [
    "# Time-Series Machine Learning on 2011-2019 Data\n",
    "### ––––––––––––––––––––––––––––––––––––––––––––––––––––––––––––––"
   ]
  },
  {
   "cell_type": "code",
   "execution_count": null,
   "metadata": {},
   "outputs": [],
   "source": [
    "dT_data1"
   ]
  },
  {
   "cell_type": "markdown",
   "metadata": {},
   "source": [
    "### ARIMA"
   ]
  },
  {
   "cell_type": "code",
   "execution_count": null,
   "metadata": {},
   "outputs": [],
   "source": []
  },
  {
   "cell_type": "code",
   "execution_count": null,
   "metadata": {},
   "outputs": [],
   "source": []
  },
  {
   "cell_type": "code",
   "execution_count": null,
   "metadata": {},
   "outputs": [],
   "source": []
  },
  {
   "cell_type": "code",
   "execution_count": null,
   "metadata": {},
   "outputs": [],
   "source": []
  },
  {
   "cell_type": "markdown",
   "metadata": {},
   "source": [
    "## ================================ PT. 3 ================================\n",
    "#  EVERYTHING BELOW HERE IS SCRAPPED, BROWSE THROUGH SEE IF HAVE USE IF NOT DELETE WHEN FINALISING\n",
    "## ====================================================================="
   ]
  },
  {
   "cell_type": "markdown",
   "metadata": {},
   "source": [
    "# Representing Categorical Data with the Use of Dummy Variables (bleow)\n",
    "### ––––––––––––––––––––––––––––––––––––––––––––––––––––––––––––––––––––––––––––––––––"
   ]
  },
  {
   "cell_type": "code",
   "execution_count": null,
   "metadata": {},
   "outputs": [],
   "source": [
    "#predictorss = pd.get_dummies(data=predictors, drop_first=True)\n",
    "#predictorss"
   ]
  },
  {
   "cell_type": "markdown",
   "metadata": {},
   "source": [
    "## In creating the dummy variables, the drop_first function will help us prevent structural multicollinearity.\n",
    "\n",
    "### Multicollinearity?\n",
    "Multicollinearity is a state of very high correlation among the independent variables, i.e. A predictor variable can be used to predict another predictor variable.\n",
    "\n",
    "### Structural multicollinearity?\n",
    "Structural multicollinearity occurs when we create a model term using other terms. In other words, it’s a byproduct of the model that we specify rather than being present in the data itself. For example, if you square term X to model curvature, clearly there is a correlation between X and X2.\n",
    "\n",
    "### Why does it affect the regression?\n",
    "Both the independent features have a similar impact on the dependent variable so the regression model fails to understand the individual effect of each independent variables on the dependent variable.\n",
    "\n",
    "For dummy variables, 1 feature among the 4 can be calculated without having to make a separate variable.\n",
    "\n",
    "### Solution\n",
    "We make use of drop_first parameter while creating dummy to drop the last variable from the table to prevent this multicollinearity. We will call the dropped variables the baseline. Which were the baseline categories used?"
   ]
  },
  {
   "cell_type": "code",
   "execution_count": null,
   "metadata": {},
   "outputs": [],
   "source": [
    "#predictorsDiff = (pd.get_dummies(data=predictors) - predictorss) # Perform datacell-wise subtraction of data. The result will be a 0 for data that exists in both dataframes\n",
    "#predictorsDiff = predictorsDiff.loc[:, ~(predictorsDiff == 0).all()] # Select columns that do NOT contain data where it is all =0. In this case, this means to extract the columns that exist when drop_first is False and do not exist when drop_first is True.\n",
    "#baselines = predictorsDiff.columns\n",
    "#baselines"
   ]
  },
  {
   "cell_type": "markdown",
   "metadata": {},
   "source": [
    "# Performing the LINEAR REGRESSION\n",
    "### –––––––––––––––––––––––––––––––––––––––––––––––"
   ]
  },
  {
   "cell_type": "code",
   "execution_count": null,
   "metadata": {},
   "outputs": [],
   "source": [
    "'''# Import essential models and functions from sklearn\n",
    "from sklearn.linear_model import LinearRegression\n",
    "from sklearn.model_selection import train_test_split\n",
    "from sklearn.metrics import mean_squared_error\n",
    "\n",
    "# Split the Dataset into Train and Test\n",
    "X_train, X_test, y_train, y_test = train_test_split(predictorss, response, test_size = 0.25)\n",
    "\n",
    "# Check the sample sizes\n",
    "print('Train Set :', y_train.shape, X_train.shape)\n",
    "print('Test Set  :', y_test.shape, X_test.shape)'''"
   ]
  },
  {
   "cell_type": "code",
   "execution_count": null,
   "metadata": {},
   "outputs": [],
   "source": [
    "'''# Linear regression using train data\n",
    "linreg = LinearRegression()\n",
    "linreg.fit(X_train, y_train)\n",
    "\n",
    "# Coefficients of the Linear Regression line\n",
    "#print('Intercept of Regression \\t: b = ', linreg.intercept_)\n",
    "#print('Coefficients of Regression \\t: a = ', linreg.coef_)\n",
    "#print()\n",
    "\n",
    "coeff = pd.DataFrame(list(zip(X_train.columns, linreg.coef_[0])), columns = [\"Predictors\", \"Coefficients\"])\n",
    "coeff = coeff.sort_values(by='Coefficients', ascending=False)\n",
    "\n",
    "with pd.option_context('display.max_rows', None, 'display.max_columns', None):  # more options can be specified also\n",
    "    # Print the Coefficients against Predictors\n",
    "    print(coeff)'''"
   ]
  },
  {
   "cell_type": "code",
   "execution_count": null,
   "metadata": {},
   "outputs": [],
   "source": [
    "'''# Predict the Total values from Predictors\n",
    "y_train_pred = linreg.predict(X_train)\n",
    "y_test_pred = linreg.predict(X_test)\n",
    "\n",
    "# Plot the Predictions vs the True values\n",
    "f, axes = plt.subplots(1, 2, figsize=(24, 12))\n",
    "axes[0].scatter(y_train, y_train_pred, color = \"blue\")\n",
    "axes[0].plot(y_train, y_train, 'w-', linewidth = 1)\n",
    "axes[0].set_xlabel(\"True values of the Response Variable (Train)\")\n",
    "axes[0].set_ylabel(\"Predicted values of the Response Variable (Train)\")\n",
    "axes[1].scatter(y_test, y_test_pred, color = \"green\")\n",
    "axes[1].plot(y_test, y_test, 'w-', linewidth = 1)\n",
    "axes[1].set_xlabel(\"True values of the Response Variable (Test)\")\n",
    "axes[1].set_ylabel(\"Predicted values of the Response Variable (Test)\")\n",
    "plt.show()'''"
   ]
  },
  {
   "cell_type": "code",
   "execution_count": null,
   "metadata": {},
   "outputs": [],
   "source": [
    "'''# Check the Goodness of Fit (on Train Data)\n",
    "print(\"Goodness of Fit of Model \\tTrain Dataset\")\n",
    "print(\"Explained Variance (R^2) \\t:\", linreg.score(X_train, y_train))\n",
    "print(\"Mean Squared Error (MSE) \\t:\", mean_squared_error(y_train, y_train_pred))\n",
    "print()\n",
    "\n",
    "# Check the Goodness of Fit (on Test Data)\n",
    "print(\"Goodness of Fit of Model \\tTest Dataset\")\n",
    "print(\"Explained Variance (R^2) \\t:\", linreg.score(X_test, y_test))\n",
    "print(\"Mean Squared Error (MSE) \\t:\", mean_squared_error(y_test, y_test_pred))\n",
    "print()'''"
   ]
  },
  {
   "cell_type": "code",
   "execution_count": null,
   "metadata": {},
   "outputs": [],
   "source": []
  }
 ],
 "metadata": {
  "kernelspec": {
   "display_name": "Python 3",
   "language": "python",
   "name": "python3"
  },
  "language_info": {
   "codemirror_mode": {
    "name": "ipython",
    "version": 3
   },
   "file_extension": ".py",
   "mimetype": "text/x-python",
   "name": "python",
   "nbconvert_exporter": "python",
   "pygments_lexer": "ipython3",
   "version": "3.8.5"
  }
 },
 "nbformat": 4,
 "nbformat_minor": 4
}

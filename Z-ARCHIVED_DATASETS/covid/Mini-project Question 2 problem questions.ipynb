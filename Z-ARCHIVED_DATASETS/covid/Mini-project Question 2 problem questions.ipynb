{
 "cells": [
  {
   "cell_type": "markdown",
   "metadata": {},
   "source": [
    "# Problem 1: Which state to prioritize vaccine first\n",
    "## -Find the most important variable\n",
    "## -Can use a number of variables to come to a prediction\n",
    "## -Some variables might include:\n",
    "###  1. Geography (region, temperature, etc.)\n",
    "###  2. Healthcare (no. of doctors/hospitals, bed occupancy, etc.)\n",
    "###  3. Economy (GDP, GDP per capita, etc.)\n",
    "###  4. Policies (lockdowns, masks, etc.)\n",
    "###  5. Vaccine (transportation, production volume and location, etc.)\n",
    "###  6. Ethnicity\n",
    "\n"
   ]
  },
  {
   "cell_type": "markdown",
   "metadata": {},
   "source": [
    "Todo:\n",
    "    Weighing the factors to answer the problem\n",
    "    \n",
    "    -Base solution purely on future COVID predictions"
   ]
  },
  {
   "cell_type": "markdown",
   "metadata": {},
   "source": [
    "# Problem 2: Compare the US COVID-19 cases with the rest of the world\n",
    "## -Find the most important variable\n",
    "## -Can use a number of variables to come to a prediction\n",
    "## -Some variables might include:\n",
    "###  1. Geography (region, temperature, etc.)\n",
    "###  2. Healthcare (no. of doctors/hospitals, etc.)\n",
    "###  3. Economy (GDP, GDP per capita, etc.)\n",
    "###  4. Policies (lockdowns, masks, etc.)\n",
    "\n",
    "\n",
    "\n"
   ]
  },
  {
   "cell_type": "markdown",
   "metadata": {},
   "source": [
    "Todo:\n",
    "    change problem to how US can learn from other countries\n",
    "        "
   ]
  },
  {
   "cell_type": "markdown",
   "metadata": {},
   "source": [
    "### Supporting datasets:\n",
    "#### -States/US COVID history (base dataset)\n",
    "#### -GDP per state\n",
    "#### -States area\n",
    "\n",
    "### Possible supporting datasets:\n",
    "#### -Hospital occupancy rates\n",
    "#### -Some data to do with policies?"
   ]
  },
  {
   "cell_type": "code",
   "execution_count": null,
   "metadata": {},
   "outputs": [],
   "source": []
  }
 ],
 "metadata": {
  "kernelspec": {
   "display_name": "Python 3",
   "language": "python",
   "name": "python3"
  },
  "language_info": {
   "codemirror_mode": {
    "name": "ipython",
    "version": 3
   },
   "file_extension": ".py",
   "mimetype": "text/x-python",
   "name": "python",
   "nbconvert_exporter": "python",
   "pygments_lexer": "ipython3",
   "version": "3.8.5"
  }
 },
 "nbformat": 4,
 "nbformat_minor": 4
}
